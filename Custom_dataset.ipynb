{
  "cells": [
    {
      "cell_type": "markdown",
      "metadata": {
        "id": "view-in-github",
        "colab_type": "text"
      },
      "source": [
        "<a href=\"https://colab.research.google.com/github/anas1IA-art/Custom_data/blob/main/Custom_dataset.ipynb\" target=\"_parent\"><img src=\"https://colab.research.google.com/assets/colab-badge.svg\" alt=\"Open In Colab\"/></a>"
      ]
    },
    {
      "cell_type": "markdown",
      "metadata": {
        "id": "fQM3mAL5Z4Y5"
      },
      "source": [
        "## Prepare the data"
      ]
    },
    {
      "cell_type": "code",
      "execution_count": 1,
      "metadata": {
        "id": "RsyM3rHdcdk1"
      },
      "outputs": [],
      "source": [
        "import requests\n",
        "import zipfile\n",
        "from pathlib import Path"
      ]
    },
    {
      "cell_type": "code",
      "execution_count": 2,
      "metadata": {
        "colab": {
          "base_uri": "https://localhost:8080/"
        },
        "id": "iYeO0ajbJTK9",
        "outputId": "67dc4100-0ec9-487a-a520-217d950e4a67"
      },
      "outputs": [
        {
          "output_type": "stream",
          "name": "stdout",
          "text": [
            "--2024-09-09 07:27:36--  https://github.com/zalandoresearch/fashion-mnist/raw/master/data/fashion/train-images-idx3-ubyte.gz\n",
            "Resolving github.com (github.com)... 20.27.177.113\n",
            "Connecting to github.com (github.com)|20.27.177.113|:443... connected.\n",
            "HTTP request sent, awaiting response... 302 Found\n",
            "Location: https://raw.githubusercontent.com/zalandoresearch/fashion-mnist/master/data/fashion/train-images-idx3-ubyte.gz [following]\n",
            "--2024-09-09 07:27:36--  https://raw.githubusercontent.com/zalandoresearch/fashion-mnist/master/data/fashion/train-images-idx3-ubyte.gz\n",
            "Resolving raw.githubusercontent.com (raw.githubusercontent.com)... 185.199.108.133, 185.199.110.133, 185.199.109.133, ...\n",
            "Connecting to raw.githubusercontent.com (raw.githubusercontent.com)|185.199.108.133|:443... connected.\n",
            "HTTP request sent, awaiting response... 200 OK\n",
            "Length: 26421880 (25M) [application/octet-stream]\n",
            "Saving to: ‘train-images-idx3-ubyte.gz’\n",
            "\n",
            "train-images-idx3-u 100%[===================>]  25.20M  47.0MB/s    in 0.5s    \n",
            "\n",
            "2024-09-09 07:27:39 (47.0 MB/s) - ‘train-images-idx3-ubyte.gz’ saved [26421880/26421880]\n",
            "\n"
          ]
        }
      ],
      "source": [
        "# Step 1: Download the specific gzip files\n",
        "!wget https://github.com/zalandoresearch/fashion-mnist/raw/master/data/fashion/train-images-idx3-ubyte.gz\n"
      ]
    },
    {
      "cell_type": "code",
      "execution_count": 3,
      "metadata": {
        "colab": {
          "base_uri": "https://localhost:8080/"
        },
        "id": "CN3QoKSbK40s",
        "outputId": "0835376f-93ec-40b6-b97b-ffb887aed1e0"
      },
      "outputs": [
        {
          "output_type": "stream",
          "name": "stdout",
          "text": [
            "--2024-09-09 07:27:39--  https://github.com/zalandoresearch/fashion-mnist/raw/master/data/fashion/train-labels-idx1-ubyte.gz\n",
            "Resolving github.com (github.com)... 20.27.177.113\n",
            "Connecting to github.com (github.com)|20.27.177.113|:443... connected.\n",
            "HTTP request sent, awaiting response... 302 Found\n",
            "Location: https://raw.githubusercontent.com/zalandoresearch/fashion-mnist/master/data/fashion/train-labels-idx1-ubyte.gz [following]\n",
            "--2024-09-09 07:27:39--  https://raw.githubusercontent.com/zalandoresearch/fashion-mnist/master/data/fashion/train-labels-idx1-ubyte.gz\n",
            "Resolving raw.githubusercontent.com (raw.githubusercontent.com)... 185.199.108.133, 185.199.109.133, 185.199.110.133, ...\n",
            "Connecting to raw.githubusercontent.com (raw.githubusercontent.com)|185.199.108.133|:443... connected.\n",
            "HTTP request sent, awaiting response... 200 OK\n",
            "Length: 29515 (29K) [application/octet-stream]\n",
            "Saving to: ‘train-labels-idx1-ubyte.gz’\n",
            "\n",
            "train-labels-idx1-u 100%[===================>]  28.82K  --.-KB/s    in 0.009s  \n",
            "\n",
            "2024-09-09 07:27:40 (3.11 MB/s) - ‘train-labels-idx1-ubyte.gz’ saved [29515/29515]\n",
            "\n",
            "--2024-09-09 07:27:40--  https://github.com/zalandoresearch/fashion-mnist/raw/master/data/fashion/t10k-images-idx3-ubyte.gz\n",
            "Resolving github.com (github.com)... 20.27.177.113\n",
            "Connecting to github.com (github.com)|20.27.177.113|:443... connected.\n",
            "HTTP request sent, awaiting response... 302 Found\n",
            "Location: https://raw.githubusercontent.com/zalandoresearch/fashion-mnist/master/data/fashion/t10k-images-idx3-ubyte.gz [following]\n",
            "--2024-09-09 07:27:41--  https://raw.githubusercontent.com/zalandoresearch/fashion-mnist/master/data/fashion/t10k-images-idx3-ubyte.gz\n",
            "Resolving raw.githubusercontent.com (raw.githubusercontent.com)... 185.199.108.133, 185.199.109.133, 185.199.111.133, ...\n",
            "Connecting to raw.githubusercontent.com (raw.githubusercontent.com)|185.199.108.133|:443... connected.\n",
            "HTTP request sent, awaiting response... 200 OK\n",
            "Length: 4422102 (4.2M) [application/octet-stream]\n",
            "Saving to: ‘t10k-images-idx3-ubyte.gz’\n",
            "\n",
            "t10k-images-idx3-ub 100%[===================>]   4.22M  14.9MB/s    in 0.3s    \n",
            "\n",
            "2024-09-09 07:27:42 (14.9 MB/s) - ‘t10k-images-idx3-ubyte.gz’ saved [4422102/4422102]\n",
            "\n",
            "--2024-09-09 07:27:42--  https://github.com/zalandoresearch/fashion-mnist/raw/master/data/fashion/t10k-labels-idx1-ubyte.gz\n",
            "Resolving github.com (github.com)... 20.27.177.113\n",
            "Connecting to github.com (github.com)|20.27.177.113|:443... connected.\n",
            "HTTP request sent, awaiting response... 302 Found\n",
            "Location: https://raw.githubusercontent.com/zalandoresearch/fashion-mnist/master/data/fashion/t10k-labels-idx1-ubyte.gz [following]\n",
            "--2024-09-09 07:27:42--  https://raw.githubusercontent.com/zalandoresearch/fashion-mnist/master/data/fashion/t10k-labels-idx1-ubyte.gz\n",
            "Resolving raw.githubusercontent.com (raw.githubusercontent.com)... 185.199.111.133, 185.199.110.133, 185.199.108.133, ...\n",
            "Connecting to raw.githubusercontent.com (raw.githubusercontent.com)|185.199.111.133|:443... connected.\n",
            "HTTP request sent, awaiting response... 200 OK\n",
            "Length: 5148 (5.0K) [application/octet-stream]\n",
            "Saving to: ‘t10k-labels-idx1-ubyte.gz’\n",
            "\n",
            "t10k-labels-idx1-ub 100%[===================>]   5.03K  --.-KB/s    in 0s      \n",
            "\n",
            "2024-09-09 07:27:43 (54.9 MB/s) - ‘t10k-labels-idx1-ubyte.gz’ saved [5148/5148]\n",
            "\n"
          ]
        }
      ],
      "source": [
        "!wget https://github.com/zalandoresearch/fashion-mnist/raw/master/data/fashion/train-labels-idx1-ubyte.gz\n",
        "!wget https://github.com/zalandoresearch/fashion-mnist/raw/master/data/fashion/t10k-images-idx3-ubyte.gz\n",
        "!wget https://github.com/zalandoresearch/fashion-mnist/raw/master/data/fashion/t10k-labels-idx1-ubyte.gz"
      ]
    },
    {
      "cell_type": "code",
      "execution_count": 4,
      "metadata": {
        "id": "7EULQ33WKUl3"
      },
      "outputs": [],
      "source": [
        "# Step 2: Extract the gzip files\n",
        "!gzip -d train-images-idx3-ubyte.gz\n",
        "!gzip -d train-labels-idx1-ubyte.gz\n",
        "!gzip -d t10k-images-idx3-ubyte.gz\n",
        "!gzip -d t10k-labels-idx1-ubyte.gz"
      ]
    },
    {
      "cell_type": "code",
      "execution_count": 5,
      "metadata": {
        "id": "hUij_ORjbrQj"
      },
      "outputs": [],
      "source": [
        "import os\n",
        "import numpy as np\n",
        "from PIL import Image"
      ]
    },
    {
      "cell_type": "code",
      "execution_count": 6,
      "metadata": {
        "colab": {
          "base_uri": "https://localhost:8080/"
        },
        "id": "xL-uSLu9da4o",
        "outputId": "7b30e80d-ac33-49d1-806b-504d015258ce"
      },
      "outputs": [
        {
          "output_type": "stream",
          "name": "stdout",
          "text": [
            "Did not find fashion_mnist_dataset directory, creating one...\n"
          ]
        }
      ],
      "source": [
        "# Define the directory structure\n",
        "base_dir = 'fashion_mnist_dataset'\n",
        "\n",
        "if os.path.isdir(base_dir):\n",
        "    print(f\"{base_dir} directory exists.\")\n",
        "else:\n",
        "    print(f\"Did not find {base_dir} directory, creating one...\")\n",
        "    os.makedirs(base_dir, exist_ok=True)\n",
        "\n",
        "train_dir = os.path.join(base_dir, 'train')\n",
        "test_dir = os.path.join(base_dir, 'test')\n",
        "classes = ['tshirt_top', 'trouser', 'pullover', 'dress', 'coat', 'sandal', 'shirt', 'sneaker', 'bag', 'ankle_boot']\n"
      ]
    },
    {
      "cell_type": "code",
      "execution_count": 7,
      "metadata": {
        "id": "M9r_PJ15dciV"
      },
      "outputs": [],
      "source": [
        "# Create the directory structure\n",
        "for d in [train_dir, test_dir]:\n",
        "    os.makedirs(d, exist_ok=True)\n",
        "    for c in classes:\n",
        "        os.makedirs(os.path.join(d, c), exist_ok=True)"
      ]
    },
    {
      "cell_type": "code",
      "execution_count": 8,
      "metadata": {
        "id": "f4eTgKNReZDm"
      },
      "outputs": [],
      "source": [
        "# Paths to the extracted files\n",
        "train_images_path = 'train-images-idx3-ubyte'\n",
        "train_labels_path = 'train-labels-idx1-ubyte'\n",
        "test_images_path = 't10k-images-idx3-ubyte'\n",
        "test_labels_path = 't10k-labels-idx1-ubyte'"
      ]
    },
    {
      "cell_type": "code",
      "execution_count": 9,
      "metadata": {
        "id": "mDSwuw4QdtcU"
      },
      "outputs": [],
      "source": [
        "# Helper function to load MNIST data\n",
        "def load_mnist_images(file_path):\n",
        "    with open(file_path, 'rb') as f:\n",
        "        magic = np.frombuffer(f.read(4), dtype='>u4')[0]\n",
        "        num = np.frombuffer(f.read(4), dtype='>u4')[0]\n",
        "        rows = np.frombuffer(f.read(4), dtype='>u4')[0]\n",
        "        cols = np.frombuffer(f.read(4), dtype='>u4')[0]\n",
        "        print(f\"Magic number: {magic}, Number of images: {num}, Rows: {rows}, Columns: {cols}\")\n",
        "        images = np.frombuffer(f.read(), dtype=np.uint8).reshape(num, rows, cols)\n",
        "    return images"
      ]
    },
    {
      "cell_type": "code",
      "execution_count": 10,
      "metadata": {
        "id": "wDxVUGBXeM11"
      },
      "outputs": [],
      "source": [
        "def load_mnist_labels(file_path):\n",
        "    with open(file_path, 'rb') as f:\n",
        "        magic = np.frombuffer(f.read(4), dtype='>u4')[0]\n",
        "        num = np.frombuffer(f.read(4), dtype='>u4')[0]\n",
        "        print(f\"Magic number: {magic}, Number of labels: {num}\")\n",
        "        labels = np.frombuffer(f.read(), dtype=np.uint8)\n",
        "    return labels"
      ]
    },
    {
      "cell_type": "code",
      "execution_count": 11,
      "metadata": {
        "id": "T4VsMI46eQ-9"
      },
      "outputs": [],
      "source": [
        "def save_images(images, labels, base_dir,new_size=(56, 56)):\n",
        "    for idx, (image, label) in enumerate(zip(images, labels)):\n",
        "        class_name = classes[label]\n",
        "        image_dir = os.path.join(base_dir, class_name)\n",
        "        image_path = os.path.join(image_dir, f'image_{idx:04d}.jpeg')\n",
        "        image = Image.fromarray(image)\n",
        "        image = image.resize(new_size, Image.ANTIALIAS)\n",
        "        image.save(image_path)"
      ]
    },
    {
      "cell_type": "code",
      "execution_count": 12,
      "metadata": {
        "colab": {
          "base_uri": "https://localhost:8080/"
        },
        "id": "WFASRmUheUw6",
        "outputId": "474c34b2-fba6-4e79-95c9-758439db82f6"
      },
      "outputs": [
        {
          "output_type": "stream",
          "name": "stdout",
          "text": [
            "Magic number: 2051, Number of images: 60000, Rows: 28, Columns: 28\n",
            "Magic number: 2049, Number of labels: 60000\n"
          ]
        },
        {
          "output_type": "stream",
          "name": "stderr",
          "text": [
            "<ipython-input-11-81941a92c02b>:7: DeprecationWarning: ANTIALIAS is deprecated and will be removed in Pillow 10 (2023-07-01). Use LANCZOS or Resampling.LANCZOS instead.\n",
            "  image = image.resize(new_size, Image.ANTIALIAS)\n"
          ]
        }
      ],
      "source": [
        "# Load and save training images\n",
        "train_images = load_mnist_images(train_images_path)\n",
        "train_labels = load_mnist_labels(train_labels_path)\n",
        "save_images(train_images, train_labels, train_dir,new_size=(28,28))"
      ]
    },
    {
      "cell_type": "code",
      "execution_count": 13,
      "metadata": {
        "colab": {
          "base_uri": "https://localhost:8080/"
        },
        "id": "58q_RAcVegGj",
        "outputId": "0ddb7303-200e-4dad-abb8-518064d73637"
      },
      "outputs": [
        {
          "output_type": "stream",
          "name": "stdout",
          "text": [
            "Magic number: 2051, Number of images: 10000, Rows: 28, Columns: 28\n",
            "Magic number: 2049, Number of labels: 10000\n"
          ]
        },
        {
          "output_type": "stream",
          "name": "stderr",
          "text": [
            "<ipython-input-11-81941a92c02b>:7: DeprecationWarning: ANTIALIAS is deprecated and will be removed in Pillow 10 (2023-07-01). Use LANCZOS or Resampling.LANCZOS instead.\n",
            "  image = image.resize(new_size, Image.ANTIALIAS)\n"
          ]
        }
      ],
      "source": [
        "test_images = load_mnist_images(test_images_path)\n",
        "test_labels = load_mnist_labels(test_labels_path)\n",
        "save_images(test_images, test_labels, test_dir,new_size=(28,28))"
      ]
    },
    {
      "cell_type": "code",
      "execution_count": 14,
      "metadata": {
        "id": "HaS3HG6JhJJB"
      },
      "outputs": [],
      "source": [
        "def walk_through_dir(dir_path):\n",
        "  \"\"\"\n",
        "  Walks through dir_path returning its contents.\n",
        "  Args:\n",
        "    dir_path (str or pathlib.Path): target directory\n",
        "\n",
        "  Returns:\n",
        "    A print out of:\n",
        "      number of subdiretories in dir_path\n",
        "      number of images (files) in each subdirectory\n",
        "      name of each subdirectory\n",
        "  \"\"\"\n",
        "  for dirpath, dirnames, filenames in os.walk(dir_path):\n",
        "    print(f\"There are {len(dirnames)} directories and {len(filenames)} images in '{dirpath}'.\")"
      ]
    },
    {
      "cell_type": "code",
      "execution_count": 15,
      "metadata": {
        "colab": {
          "base_uri": "https://localhost:8080/"
        },
        "id": "pO9tykrSFA22",
        "outputId": "7e63f5f2-f971-49da-9355-20b435299031"
      },
      "outputs": [
        {
          "output_type": "stream",
          "name": "stdout",
          "text": [
            "There are 2 directories and 0 images in './fashion_mnist_dataset'.\n",
            "There are 10 directories and 0 images in './fashion_mnist_dataset/train'.\n",
            "There are 0 directories and 6000 images in './fashion_mnist_dataset/train/trouser'.\n",
            "There are 0 directories and 6000 images in './fashion_mnist_dataset/train/coat'.\n",
            "There are 0 directories and 6000 images in './fashion_mnist_dataset/train/shirt'.\n",
            "There are 0 directories and 6000 images in './fashion_mnist_dataset/train/bag'.\n",
            "There are 0 directories and 6000 images in './fashion_mnist_dataset/train/sandal'.\n",
            "There are 0 directories and 6000 images in './fashion_mnist_dataset/train/tshirt_top'.\n",
            "There are 0 directories and 6000 images in './fashion_mnist_dataset/train/pullover'.\n",
            "There are 0 directories and 6000 images in './fashion_mnist_dataset/train/ankle_boot'.\n",
            "There are 0 directories and 6000 images in './fashion_mnist_dataset/train/dress'.\n",
            "There are 0 directories and 6000 images in './fashion_mnist_dataset/train/sneaker'.\n",
            "There are 10 directories and 0 images in './fashion_mnist_dataset/test'.\n",
            "There are 0 directories and 1000 images in './fashion_mnist_dataset/test/trouser'.\n",
            "There are 0 directories and 1000 images in './fashion_mnist_dataset/test/coat'.\n",
            "There are 0 directories and 1000 images in './fashion_mnist_dataset/test/shirt'.\n",
            "There are 0 directories and 1000 images in './fashion_mnist_dataset/test/bag'.\n",
            "There are 0 directories and 1000 images in './fashion_mnist_dataset/test/sandal'.\n",
            "There are 0 directories and 1000 images in './fashion_mnist_dataset/test/tshirt_top'.\n",
            "There are 0 directories and 1000 images in './fashion_mnist_dataset/test/pullover'.\n",
            "There are 0 directories and 1000 images in './fashion_mnist_dataset/test/ankle_boot'.\n",
            "There are 0 directories and 1000 images in './fashion_mnist_dataset/test/dress'.\n",
            "There are 0 directories and 1000 images in './fashion_mnist_dataset/test/sneaker'.\n"
          ]
        }
      ],
      "source": [
        "walk_through_dir(\"./fashion_mnist_dataset\")"
      ]
    },
    {
      "cell_type": "code",
      "execution_count": 16,
      "metadata": {
        "id": "aXGO9ElyFE4J"
      },
      "outputs": [],
      "source": [
        "import random\n",
        "from pathlib import Path\n",
        "from PIL import Image"
      ]
    },
    {
      "cell_type": "code",
      "execution_count": 17,
      "metadata": {
        "id": "qeDy38kvGCGC"
      },
      "outputs": [],
      "source": [
        "random.seed(42)\n",
        "base_dir = Path('./fashion_mnist_dataset')\n",
        "\n",
        "list_images = list(base_dir.glob(\"*/*/*.jpeg\"))"
      ]
    },
    {
      "cell_type": "code",
      "execution_count": 18,
      "metadata": {
        "id": "b7IjKef4Gd77"
      },
      "outputs": [],
      "source": [
        "image_path = random.choice(list_images)"
      ]
    },
    {
      "cell_type": "code",
      "execution_count": 19,
      "metadata": {
        "colab": {
          "base_uri": "https://localhost:8080/"
        },
        "id": "iYxMc1baHVbJ",
        "outputId": "548bd21e-7621-4c9f-abee-4dd2bd250ea4"
      },
      "outputs": [
        {
          "output_type": "execute_result",
          "data": {
            "text/plain": [
              "PosixPath('fashion_mnist_dataset/train/shirt/image_30445.jpeg')"
            ]
          },
          "metadata": {},
          "execution_count": 19
        }
      ],
      "source": [
        "image_path"
      ]
    },
    {
      "cell_type": "code",
      "execution_count": 20,
      "metadata": {
        "id": "iS-CnXOOH_ag"
      },
      "outputs": [],
      "source": [
        "image_class = image_path.parent.stem"
      ]
    },
    {
      "cell_type": "code",
      "execution_count": 21,
      "metadata": {
        "id": "Ke68qX0ZJpPA"
      },
      "outputs": [],
      "source": [
        "image = Image.open(image_path)"
      ]
    },
    {
      "cell_type": "code",
      "execution_count": 22,
      "metadata": {
        "colab": {
          "base_uri": "https://localhost:8080/"
        },
        "id": "hlp6RsFSIh9I",
        "outputId": "19c41af8-1ab3-4956-b33a-1d8389014f82"
      },
      "outputs": [
        {
          "output_type": "stream",
          "name": "stdout",
          "text": [
            "path of image is : fashion_mnist_dataset/train/shirt/image_30445.jpeg\n",
            " Image class is : shirt \n",
            "Image height is :28\n",
            "Image with is : 28\n"
          ]
        }
      ],
      "source": [
        "print(f'path of image is : {image_path}')\n",
        "print(f' Image class is : {image_class} ')\n",
        "print(f'Image height is :{image.height}')\n",
        "print(f'Image with is : {image.width}')\n",
        "\n"
      ]
    },
    {
      "cell_type": "code",
      "execution_count": 23,
      "metadata": {
        "colab": {
          "base_uri": "https://localhost:8080/",
          "height": 65
        },
        "id": "7o_C8lmOIj-t",
        "outputId": "675eefaa-142b-4d12-b1c7-28a904407cf4"
      },
      "outputs": [
        {
          "output_type": "execute_result",
          "data": {
            "text/plain": [
              "<PIL.JpegImagePlugin.JpegImageFile image mode=L size=28x28>"
            ],
            "image/png": "[encoded data removed]"
          },
          "metadata": {},
          "execution_count": 23
        }
      ],
      "source": [
        "image"
      ]
    },
    {
      "cell_type": "markdown",
      "metadata": {
        "id": "VAR1p-qoNTa_"
      },
      "source": [
        "We can do the same with **matplotlib.pyplot.imshow()**, except we have to convert the image to a NumPy array first."
      ]
    },
    {
      "cell_type": "code",
      "execution_count": 24,
      "metadata": {
        "id": "pflZutqCKfM9"
      },
      "outputs": [],
      "source": [
        "import matplotlib.pyplot as plt\n",
        "import numpy as np\n"
      ]
    },
    {
      "cell_type": "code",
      "execution_count": 25,
      "metadata": {
        "id": "RsEDaHTXLiOS"
      },
      "outputs": [],
      "source": [
        "from numpy import asarray"
      ]
    },
    {
      "cell_type": "code",
      "execution_count": 26,
      "metadata": {
        "id": "infSR26KLwol"
      },
      "outputs": [],
      "source": [
        "numpydata = asarray(image)"
      ]
    },
    {
      "cell_type": "code",
      "execution_count": 27,
      "metadata": {
        "colab": {
          "base_uri": "https://localhost:8080/",
          "height": 85
        },
        "id": "r5J1VG9eYL86",
        "outputId": "3cd023c8-a368-4e91-c5c0-8e2a090170d9"
      },
      "outputs": [
        {
          "output_type": "execute_result",
          "data": {
            "text/plain": [
              "array([[  0,   2,   0,   1,   0,   0,   6,   0,   0,   1,   2,  72, 180,\n",
              "        156, 156, 178, 124,   0,   4,   0,   4,  14,   0,   0,   0,   0,\n",
              "          0,   0],\n",
              "       [  0,  11,   2,   2,   9,  17,   0,   0,   1,   4,  15, 194, 230,\n",
              "        195, 165, 255, 233,   0,   0,   6,   0,   6,   0,  21,   0,   0,\n",
              "          0,   0],\n",
              "       [  0,  14,   0,   0,   0,   0,   0,  21,  51, 123, 220, 198, 213,\n",
              "        143, 209, 242, 191, 182, 150,  73,   0,   0,  14,   0,   0,   0,\n",
              "          0,   0],\n",
              "       [  0,   0,   0,   6,   1,   0,  73, 151, 197, 222, 196, 219, 196,\n",
              "        251, 223, 200, 143, 198, 183, 199, 163,  65,   0,   0,   0,   0,\n",
              "          0,   0],\n",
              "       [  7,   0,   0,  12,   4,   4, 171, 214, 189, 175, 194, 186, 203,\n",
              "        200, 203, 177, 181, 166, 166, 141, 173, 172,  14,  14,   0,   0,\n",
              "          0,   0],\n",
              "       [  4,   0,   0,   0,   0,  42, 200, 173, 192, 194, 206, 187, 188,\n",
              "        204, 185, 152, 173, 147, 182, 175, 168, 165,  51,   0,   0,   0,\n",
              "          0,   0],\n",
              "       [  0,   0,   2,   0,   2, 117, 212, 179, 196, 180, 181, 189, 177,\n",
              "        181, 157, 175, 163, 171, 165, 162, 164, 166, 131,   0,   0,   0,\n",
              "          0,   0],\n",
              "       [  7,   1,   5,   0,   0, 145, 183, 192, 197, 190, 201, 181, 188,\n",
              "        190, 174, 184, 168, 173, 171, 138, 176, 184, 117,   8,   0,   0,\n",
              "          0,   0],\n",
              "       [  0,   6,   2,   1,   0, 178, 188, 190, 216, 173, 177, 209, 171,\n",
              "        174, 184, 173, 169, 153, 163, 149, 183, 171, 145,   4,   0,   0,\n",
              "          0,   0],\n",
              "       [  0,   3,   0,   0,   0, 199, 191, 193, 216, 183, 183, 193, 176,\n",
              "        177, 173, 174, 168, 168, 160, 139, 198, 169, 163,   4,   0,   0,\n",
              "          0,   0],\n",
              "       [  3,   0,   0,   0,   2, 222, 186, 191, 223, 188, 187, 178, 182,\n",
              "        182, 165, 177, 167, 179, 151, 141, 213, 162, 186,   1,   0,   0,\n",
              "          0,   0],\n",
              "       [  4,   0,   0,   0,   6, 232, 177, 186, 238, 183, 185, 178, 184,\n",
              "        185, 169, 181, 168, 175, 143, 164, 215, 152, 202,   0,   0,   0,\n",
              "          0,   0],\n",
              "       [  1,   0,   3,   0,  21, 234, 175, 188, 245, 182, 181, 190, 179,\n",
              "        183, 176, 178, 174, 164, 144, 187, 212, 150, 209,   8,   0,   0,\n",
              "          0,   0],\n",
              "       [  0,   0,   4,   6,  46, 230, 182, 192, 215, 196, 180, 197, 174,\n",
              "        180, 176, 175, 179, 159, 155, 169, 216, 157, 208,  31,   0,   0,\n",
              "          0,   0],\n",
              "       [  0,   0,   0,   8,  70, 221, 187, 187, 145, 217, 178, 191, 172,\n",
              "        185, 171, 180, 175, 163, 167, 105, 224, 167, 201,  56,   0,   0,\n",
              "          0,   0],\n",
              "       [  4,   0,   0,   8,  83, 212, 185, 175,  82, 232, 176, 180, 174,\n",
              "        191, 168, 189, 168, 167, 173,  45, 231, 172, 193,  72,   0,   0,\n",
              "          0,   0],\n",
              "       [  5,   0,   4,   2,  96, 196, 200, 155,  49, 240, 188, 183, 176,\n",
              "        185, 176, 180, 170, 168, 190,  39, 186, 183, 196,  79,   0,   0,\n",
              "          0,   0],\n",
              "       [  0,   0,   0,   3, 101, 196, 213, 109,  30, 235, 177, 176, 177,\n",
              "        183, 176, 177, 171, 165, 187,  28, 137, 182, 181,  92,   0,   0,\n",
              "          0,   0],\n",
              "       [  0,   0,   0,   5, 106, 193, 231,  45,  27, 246, 177, 179, 186,\n",
              "        186, 182, 177, 175, 167, 198,  34,  87, 201, 169, 109,   0,   0,\n",
              "          0,   0],\n",
              "       [  0,   5,   0,   5, 106, 189, 242,   0,  41, 255, 184, 184, 191,\n",
              "        186, 182, 174, 174, 167, 209,  54,  52, 228, 162, 114,   0,   0,\n",
              "          0,   0],\n",
              "       [  0,   8,   0,   3, 104, 189, 240,   0,  53, 255, 186, 184, 185,\n",
              "        183, 176, 171, 172, 165, 207,  64,  24, 234, 160, 106,   0,   0,\n",
              "          0,   0],\n",
              "       [  0,   2,   0,   0, 106, 196, 214,   1,  62, 241, 187, 188, 181,\n",
              "        187, 176, 178, 178, 170, 202,  68,   6, 220, 167,  95,   0,   0,\n",
              "          0,   0],\n",
              "       [  0,   0,   0,   0, 111, 203, 170,   5,  68, 217, 191, 197, 180,\n",
              "        196, 177, 186, 179, 179, 203,  78,   2, 193, 173,  79,   0,   0,\n",
              "          0,   0],\n",
              "       [  5,   0,   0,   1, 115, 206, 133,   0,  68, 199, 192, 201, 177,\n",
              "        198, 172, 185, 170, 180, 203,  86,   4, 171, 171,  59,   0,   0,\n",
              "          0,   0],\n",
              "       [  2,   0,   0,   9, 120, 222, 128,   3,  13, 224, 178, 186, 184,\n",
              "        195, 177, 178, 175, 181, 202,  78,   0, 183, 178,  69,   0,   0,\n",
              "          0,   0],\n",
              "       [  5,   0,   6,   0,  44, 104,  49,   0,   0, 178, 207, 187, 187,\n",
              "        197, 176, 172, 167, 186, 216,   0,   0,  91, 131,  20,   0,   0,\n",
              "          0,   0],\n",
              "       [  1,   0,   9,   0,   0,  14,   0,   0,   5,  97, 198, 189, 205,\n",
              "        214, 196, 197, 202, 189, 138,   0,   0,   0,   5,   0,   0,   0,\n",
              "          0,   0],\n",
              "       [  0,   0,   4,   0,   0,   3,   0,  10,   0,   0,  93, 145, 172,\n",
              "        176, 167, 175, 161, 112,   0,   0,   8,   6,   0,  31,   0,   0,\n",
              "          0,   0]], dtype=uint8)"
            ],
            "text/html": [
              "<style>\n",
              "      .ndarray_repr .ndarray_raw_data {\n",
              "        display: none;\n",
              "      }\n",
              "      .ndarray_repr.show_array .ndarray_raw_data {\n",
              "        display: block;\n",
              "      }\n",
              "      .ndarray_repr.show_array .ndarray_image_preview {\n",
              "        display: none;\n",
              "      }\n",
              "      </style>\n",
              "      <div id=\"id-ff6589d5-2037-4c19-b83b-368e0f419950\" class=\"ndarray_repr\"><pre>ndarray (28, 28) <button style=\"padding: 0 2px;\">show data</button></pre><img src=\"data:image/png;base64,iVBORw0KGgoAAAANSUhEUgAAABwAAAAcCAAAAABXZoBIAAACaElEQVR4nC2Sy4odVRSGv7Wvp6rOtTvtSZOOGkERBEdC5g5EEcQH0IGCM8c+gQ/gEzhSnGtAyMR4AYkQGxLBgYq3ti+hc/qc6j5dVadq7+2geg3/D/7/X4slqCgJt0HktQ+Peeqnj01n8pJ+CqWyGYiZfHf4/efpBByOHQBhXALsPP36e48nd1+99aD666uvr0QBXJveeOvl3cP5ye2Dkx9vr6a/f/oNAOIbhjVfvHRUbtezoA/NiqNn0/uUgApw0b1w81e9PZSVWRzVT6bPtc3zJYDqUKg3h86UR2p9cjC/vH523snbACgvmrj370jya3WRzTKr3PFwqxwAqMYG4ZaN22fHe2fLfC2ndeHP9zoARYiJHa3J3dLqtaRJuJzErd5WB1DzNnprVs7WOhWVmjTzAGAEMHnFpFUoMUa6eq4up4l+Fc1EReVTN2yjD24t8xB9Xyghbrfz5p9x8m0g2LZYGJ/mfSE6db2y7d2duIm2tZ0Z3hvkzS6AMsCoihffTuJauZA1xv3gbT0FUILZjJaT0z8HQ602g0rJbPOo0B5AtXRiGT180q4biQQJYb2fVqOrTJQNW/dCgc60w6jC/bx9MeuhBbri0Tjz1kJIFNf+uNHYHmpiJDJEsQmbEGPMD1yse7ghKH8oWSmmM3hnW7Mo/bqHEaz/xbhjk6VMBpJJ3v3nlgDKghj9W8tCTFBtqoSBehxPr27LwE5bfX+3XPlgGyup7oY+BzA6uurO8n44f3jzVKvUtsX4Sz57cR9AJGUV4xL7zgfVNFuIPX/wEdj26m9Nhw75Je++csNUg3L/EwZx88zfwP+stgjmbmTavwAAAABJRU5ErkJggg==\" class=\"ndarray_image_preview\" /><pre class=\"ndarray_raw_data\">array([[  0,   2,   0,   1,   0,   0,   6,   0,   0,   1,   2,  72, 180,\n",
              "        156, 156, 178, 124,   0,   4,   0,   4,  14,   0,   0,   0,   0,\n",
              "          0,   0],\n",
              "       [  0,  11,   2,   2,   9,  17,   0,   0,   1,   4,  15, 194, 230,\n",
              "        195, 165, 255, 233,   0,   0,   6,   0,   6,   0,  21,   0,   0,\n",
              "          0,   0],\n",
              "       [  0,  14,   0,   0,   0,   0,   0,  21,  51, 123, 220, 198, 213,\n",
              "        143, 209, 242, 191, 182, 150,  73,   0,   0,  14,   0,   0,   0,\n",
              "          0,   0],\n",
              "       [  0,   0,   0,   6,   1,   0,  73, 151, 197, 222, 196, 219, 196,\n",
              "        251, 223, 200, 143, 198, 183, 199, 163,  65,   0,   0,   0,   0,\n",
              "          0,   0],\n",
              "       [  7,   0,   0,  12,   4,   4, 171, 214, 189, 175, 194, 186, 203,\n",
              "        200, 203, 177, 181, 166, 166, 141, 173, 172,  14,  14,   0,   0,\n",
              "          0,   0],\n",
              "       [  4,   0,   0,   0,   0,  42, 200, 173, 192, 194, 206, 187, 188,\n",
              "        204, 185, 152, 173, 147, 182, 175, 168, 165,  51,   0,   0,   0,\n",
              "          0,   0],\n",
              "       [  0,   0,   2,   0,   2, 117, 212, 179, 196, 180, 181, 189, 177,\n",
              "        181, 157, 175, 163, 171, 165, 162, 164, 166, 131,   0,   0,   0,\n",
              "          0,   0],\n",
              "       [  7,   1,   5,   0,   0, 145, 183, 192, 197, 190, 201, 181, 188,\n",
              "        190, 174, 184, 168, 173, 171, 138, 176, 184, 117,   8,   0,   0,\n",
              "          0,   0],\n",
              "       [  0,   6,   2,   1,   0, 178, 188, 190, 216, 173, 177, 209, 171,\n",
              "        174, 184, 173, 169, 153, 163, 149, 183, 171, 145,   4,   0,   0,\n",
              "          0,   0],\n",
              "       [  0,   3,   0,   0,   0, 199, 191, 193, 216, 183, 183, 193, 176,\n",
              "        177, 173, 174, 168, 168, 160, 139, 198, 169, 163,   4,   0,   0,\n",
              "          0,   0],\n",
              "       [  3,   0,   0,   0,   2, 222, 186, 191, 223, 188, 187, 178, 182,\n",
              "        182, 165, 177, 167, 179, 151, 141, 213, 162, 186,   1,   0,   0,\n",
              "          0,   0],\n",
              "       [  4,   0,   0,   0,   6, 232, 177, 186, 238, 183, 185, 178, 184,\n",
              "        185, 169, 181, 168, 175, 143, 164, 215, 152, 202,   0,   0,   0,\n",
              "          0,   0],\n",
              "       [  1,   0,   3,   0,  21, 234, 175, 188, 245, 182, 181, 190, 179,\n",
              "        183, 176, 178, 174, 164, 144, 187, 212, 150, 209,   8,   0,   0,\n",
              "          0,   0],\n",
              "       [  0,   0,   4,   6,  46, 230, 182, 192, 215, 196, 180, 197, 174,\n",
              "        180, 176, 175, 179, 159, 155, 169, 216, 157, 208,  31,   0,   0,\n",
              "          0,   0],\n",
              "       [  0,   0,   0,   8,  70, 221, 187, 187, 145, 217, 178, 191, 172,\n",
              "        185, 171, 180, 175, 163, 167, 105, 224, 167, 201,  56,   0,   0,\n",
              "          0,   0],\n",
              "       [  4,   0,   0,   8,  83, 212, 185, 175,  82, 232, 176, 180, 174,\n",
              "        191, 168, 189, 168, 167, 173,  45, 231, 172, 193,  72,   0,   0,\n",
              "          0,   0],\n",
              "       [  5,   0,   4,   2,  96, 196, 200, 155,  49, 240, 188, 183, 176,\n",
              "        185, 176, 180, 170, 168, 190,  39, 186, 183, 196,  79,   0,   0,\n",
              "          0,   0],\n",
              "       [  0,   0,   0,   3, 101, 196, 213, 109,  30, 235, 177, 176, 177,\n",
              "        183, 176, 177, 171, 165, 187,  28, 137, 182, 181,  92,   0,   0,\n",
              "          0,   0],\n",
              "       [  0,   0,   0,   5, 106, 193, 231,  45,  27, 246, 177, 179, 186,\n",
              "        186, 182, 177, 175, 167, 198,  34,  87, 201, 169, 109,   0,   0,\n",
              "          0,   0],\n",
              "       [  0,   5,   0,   5, 106, 189, 242,   0,  41, 255, 184, 184, 191,\n",
              "        186, 182, 174, 174, 167, 209,  54,  52, 228, 162, 114,   0,   0,\n",
              "          0,   0],\n",
              "       [  0,   8,   0,   3, 104, 189, 240,   0,  53, 255, 186, 184, 185,\n",
              "        183, 176, 171, 172, 165, 207,  64,  24, 234, 160, 106,   0,   0,\n",
              "          0,   0],\n",
              "       [  0,   2,   0,   0, 106, 196, 214,   1,  62, 241, 187, 188, 181,\n",
              "        187, 176, 178, 178, 170, 202,  68,   6, 220, 167,  95,   0,   0,\n",
              "          0,   0],\n",
              "       [  0,   0,   0,   0, 111, 203, 170,   5,  68, 217, 191, 197, 180,\n",
              "        196, 177, 186, 179, 179, 203,  78,   2, 193, 173,  79,   0,   0,\n",
              "          0,   0],\n",
              "       [  5,   0,   0,   1, 115, 206, 133,   0,  68, 199, 192, 201, 177,\n",
              "        198, 172, 185, 170, 180, 203,  86,   4, 171, 171,  59,   0,   0,\n",
              "          0,   0],\n",
              "       [  2,   0,   0,   9, 120, 222, 128,   3,  13, 224, 178, 186, 184,\n",
              "        195, 177, 178, 175, 181, 202,  78,   0, 183, 178,  69,   0,   0,\n",
              "          0,   0],\n",
              "       [  5,   0,   6,   0,  44, 104,  49,   0,   0, 178, 207, 187, 187,\n",
              "        197, 176, 172, 167, 186, 216,   0,   0,  91, 131,  20,   0,   0,\n",
              "          0,   0],\n",
              "       [  1,   0,   9,   0,   0,  14,   0,   0,   5,  97, 198, 189, 205,\n",
              "        214, 196, 197, 202, 189, 138,   0,   0,   0,   5,   0,   0,   0,\n",
              "          0,   0],\n",
              "       [  0,   0,   4,   0,   0,   3,   0,  10,   0,   0,  93, 145, 172,\n",
              "        176, 167, 175, 161, 112,   0,   0,   8,   6,   0,  31,   0,   0,\n",
              "          0,   0]], dtype=uint8)</pre></div><script>\n",
              "      (() => {\n",
              "      const titles = ['show data', 'hide data'];\n",
              "      let index = 0\n",
              "      document.querySelector('#id-ff6589d5-2037-4c19-b83b-368e0f419950 button').onclick = (e) => {\n",
              "        document.querySelector('#id-ff6589d5-2037-4c19-b83b-368e0f419950').classList.toggle('show_array');\n",
              "        index = (++index) % 2;\n",
              "        document.querySelector('#id-ff6589d5-2037-4c19-b83b-368e0f419950 button').textContent = titles[index];\n",
              "        e.preventDefault();\n",
              "        e.stopPropagation();\n",
              "      }\n",
              "      })();\n",
              "    </script>"
            ]
          },
          "metadata": {},
          "execution_count": 27
        }
      ],
      "source": [
        "numpydata"
      ]
    },
    {
      "cell_type": "code",
      "execution_count": 28,
      "metadata": {
        "id": "7jFa1QX8YNnN"
      },
      "outputs": [],
      "source": [
        "np_img = np.array(image)"
      ]
    },
    {
      "cell_type": "code",
      "execution_count": 29,
      "metadata": {
        "colab": {
          "base_uri": "https://localhost:8080/",
          "height": 85
        },
        "id": "bBSQVIICYcZ8",
        "outputId": "486e343a-9aba-4c6b-d83b-46b8e79f02bb"
      },
      "outputs": [
        {
          "output_type": "execute_result",
          "data": {
            "text/plain": [
              "array([[  0,   2,   0,   1,   0,   0,   6,   0,   0,   1,   2,  72, 180,\n",
              "        156, 156, 178, 124,   0,   4,   0,   4,  14,   0,   0,   0,   0,\n",
              "          0,   0],\n",
              "       [  0,  11,   2,   2,   9,  17,   0,   0,   1,   4,  15, 194, 230,\n",
              "        195, 165, 255, 233,   0,   0,   6,   0,   6,   0,  21,   0,   0,\n",
              "          0,   0],\n",
              "       [  0,  14,   0,   0,   0,   0,   0,  21,  51, 123, 220, 198, 213,\n",
              "        143, 209, 242, 191, 182, 150,  73,   0,   0,  14,   0,   0,   0,\n",
              "          0,   0],\n",
              "       [  0,   0,   0,   6,   1,   0,  73, 151, 197, 222, 196, 219, 196,\n",
              "        251, 223, 200, 143, 198, 183, 199, 163,  65,   0,   0,   0,   0,\n",
              "          0,   0],\n",
              "       [  7,   0,   0,  12,   4,   4, 171, 214, 189, 175, 194, 186, 203,\n",
              "        200, 203, 177, 181, 166, 166, 141, 173, 172,  14,  14,   0,   0,\n",
              "          0,   0],\n",
              "       [  4,   0,   0,   0,   0,  42, 200, 173, 192, 194, 206, 187, 188,\n",
              "        204, 185, 152, 173, 147, 182, 175, 168, 165,  51,   0,   0,   0,\n",
              "          0,   0],\n",
              "       [  0,   0,   2,   0,   2, 117, 212, 179, 196, 180, 181, 189, 177,\n",
              "        181, 157, 175, 163, 171, 165, 162, 164, 166, 131,   0,   0,   0,\n",
              "          0,   0],\n",
              "       [  7,   1,   5,   0,   0, 145, 183, 192, 197, 190, 201, 181, 188,\n",
              "        190, 174, 184, 168, 173, 171, 138, 176, 184, 117,   8,   0,   0,\n",
              "          0,   0],\n",
              "       [  0,   6,   2,   1,   0, 178, 188, 190, 216, 173, 177, 209, 171,\n",
              "        174, 184, 173, 169, 153, 163, 149, 183, 171, 145,   4,   0,   0,\n",
              "          0,   0],\n",
              "       [  0,   3,   0,   0,   0, 199, 191, 193, 216, 183, 183, 193, 176,\n",
              "        177, 173, 174, 168, 168, 160, 139, 198, 169, 163,   4,   0,   0,\n",
              "          0,   0],\n",
              "       [  3,   0,   0,   0,   2, 222, 186, 191, 223, 188, 187, 178, 182,\n",
              "        182, 165, 177, 167, 179, 151, 141, 213, 162, 186,   1,   0,   0,\n",
              "          0,   0],\n",
              "       [  4,   0,   0,   0,   6, 232, 177, 186, 238, 183, 185, 178, 184,\n",
              "        185, 169, 181, 168, 175, 143, 164, 215, 152, 202,   0,   0,   0,\n",
              "          0,   0],\n",
              "       [  1,   0,   3,   0,  21, 234, 175, 188, 245, 182, 181, 190, 179,\n",
              "        183, 176, 178, 174, 164, 144, 187, 212, 150, 209,   8,   0,   0,\n",
              "          0,   0],\n",
              "       [  0,   0,   4,   6,  46, 230, 182, 192, 215, 196, 180, 197, 174,\n",
              "        180, 176, 175, 179, 159, 155, 169, 216, 157, 208,  31,   0,   0,\n",
              "          0,   0],\n",
              "       [  0,   0,   0,   8,  70, 221, 187, 187, 145, 217, 178, 191, 172,\n",
              "        185, 171, 180, 175, 163, 167, 105, 224, 167, 201,  56,   0,   0,\n",
              "          0,   0],\n",
              "       [  4,   0,   0,   8,  83, 212, 185, 175,  82, 232, 176, 180, 174,\n",
              "        191, 168, 189, 168, 167, 173,  45, 231, 172, 193,  72,   0,   0,\n",
              "          0,   0],\n",
              "       [  5,   0,   4,   2,  96, 196, 200, 155,  49, 240, 188, 183, 176,\n",
              "        185, 176, 180, 170, 168, 190,  39, 186, 183, 196,  79,   0,   0,\n",
              "          0,   0],\n",
              "       [  0,   0,   0,   3, 101, 196, 213, 109,  30, 235, 177, 176, 177,\n",
              "        183, 176, 177, 171, 165, 187,  28, 137, 182, 181,  92,   0,   0,\n",
              "          0,   0],\n",
              "       [  0,   0,   0,   5, 106, 193, 231,  45,  27, 246, 177, 179, 186,\n",
              "        186, 182, 177, 175, 167, 198,  34,  87, 201, 169, 109,   0,   0,\n",
              "          0,   0],\n",
              "       [  0,   5,   0,   5, 106, 189, 242,   0,  41, 255, 184, 184, 191,\n",
              "        186, 182, 174, 174, 167, 209,  54,  52, 228, 162, 114,   0,   0,\n",
              "          0,   0],\n",
              "       [  0,   8,   0,   3, 104, 189, 240,   0,  53, 255, 186, 184, 185,\n",
              "        183, 176, 171, 172, 165, 207,  64,  24, 234, 160, 106,   0,   0,\n",
              "          0,   0],\n",
              "       [  0,   2,   0,   0, 106, 196, 214,   1,  62, 241, 187, 188, 181,\n",
              "        187, 176, 178, 178, 170, 202,  68,   6, 220, 167,  95,   0,   0,\n",
              "          0,   0],\n",
              "       [  0,   0,   0,   0, 111, 203, 170,   5,  68, 217, 191, 197, 180,\n",
              "        196, 177, 186, 179, 179, 203,  78,   2, 193, 173,  79,   0,   0,\n",
              "          0,   0],\n",
              "       [  5,   0,   0,   1, 115, 206, 133,   0,  68, 199, 192, 201, 177,\n",
              "        198, 172, 185, 170, 180, 203,  86,   4, 171, 171,  59,   0,   0,\n",
              "          0,   0],\n",
              "       [  2,   0,   0,   9, 120, 222, 128,   3,  13, 224, 178, 186, 184,\n",
              "        195, 177, 178, 175, 181, 202,  78,   0, 183, 178,  69,   0,   0,\n",
              "          0,   0],\n",
              "       [  5,   0,   6,   0,  44, 104,  49,   0,   0, 178, 207, 187, 187,\n",
              "        197, 176, 172, 167, 186, 216,   0,   0,  91, 131,  20,   0,   0,\n",
              "          0,   0],\n",
              "       [  1,   0,   9,   0,   0,  14,   0,   0,   5,  97, 198, 189, 205,\n",
              "        214, 196, 197, 202, 189, 138,   0,   0,   0,   5,   0,   0,   0,\n",
              "          0,   0],\n",
              "       [  0,   0,   4,   0,   0,   3,   0,  10,   0,   0,  93, 145, 172,\n",
              "        176, 167, 175, 161, 112,   0,   0,   8,   6,   0,  31,   0,   0,\n",
              "          0,   0]], dtype=uint8)"
            ],
            "text/html": [
              "<style>\n",
              "      .ndarray_repr .ndarray_raw_data {\n",
              "        display: none;\n",
              "      }\n",
              "      .ndarray_repr.show_array .ndarray_raw_data {\n",
              "        display: block;\n",
              "      }\n",
              "      .ndarray_repr.show_array .ndarray_image_preview {\n",
              "        display: none;\n",
              "      }\n",
              "      </style>\n",
              "      <div id=\"id-9a51a55f-e06f-4cac-a8e3-77daaac09e0f\" class=\"ndarray_repr\"><pre>ndarray (28, 28) <button style=\"padding: 0 2px;\">show data</button></pre><img src=\"data:image/png;base64,iVBORw0KGgoAAAANSUhEUgAAABwAAAAcCAAAAABXZoBIAAACaElEQVR4nC2Sy4odVRSGv7Wvp6rOtTvtSZOOGkERBEdC5g5EEcQH0IGCM8c+gQ/gEzhSnGtAyMR4AYkQGxLBgYq3ti+hc/qc6j5dVadq7+2geg3/D/7/X4slqCgJt0HktQ+Peeqnj01n8pJ+CqWyGYiZfHf4/efpBByOHQBhXALsPP36e48nd1+99aD666uvr0QBXJveeOvl3cP5ye2Dkx9vr6a/f/oNAOIbhjVfvHRUbtezoA/NiqNn0/uUgApw0b1w81e9PZSVWRzVT6bPtc3zJYDqUKg3h86UR2p9cjC/vH523snbACgvmrj370jya3WRzTKr3PFwqxwAqMYG4ZaN22fHe2fLfC2ndeHP9zoARYiJHa3J3dLqtaRJuJzErd5WB1DzNnprVs7WOhWVmjTzAGAEMHnFpFUoMUa6eq4up4l+Fc1EReVTN2yjD24t8xB9Xyghbrfz5p9x8m0g2LZYGJ/mfSE6db2y7d2duIm2tZ0Z3hvkzS6AMsCoihffTuJauZA1xv3gbT0FUILZjJaT0z8HQ602g0rJbPOo0B5AtXRiGT180q4biQQJYb2fVqOrTJQNW/dCgc60w6jC/bx9MeuhBbri0Tjz1kJIFNf+uNHYHmpiJDJEsQmbEGPMD1yse7ghKH8oWSmmM3hnW7Mo/bqHEaz/xbhjk6VMBpJJ3v3nlgDKghj9W8tCTFBtqoSBehxPr27LwE5bfX+3XPlgGyup7oY+BzA6uurO8n44f3jzVKvUtsX4Sz57cR9AJGUV4xL7zgfVNFuIPX/wEdj26m9Nhw75Je++csNUg3L/EwZx88zfwP+stgjmbmTavwAAAABJRU5ErkJggg==\" class=\"ndarray_image_preview\" /><pre class=\"ndarray_raw_data\">array([[  0,   2,   0,   1,   0,   0,   6,   0,   0,   1,   2,  72, 180,\n",
              "        156, 156, 178, 124,   0,   4,   0,   4,  14,   0,   0,   0,   0,\n",
              "          0,   0],\n",
              "       [  0,  11,   2,   2,   9,  17,   0,   0,   1,   4,  15, 194, 230,\n",
              "        195, 165, 255, 233,   0,   0,   6,   0,   6,   0,  21,   0,   0,\n",
              "          0,   0],\n",
              "       [  0,  14,   0,   0,   0,   0,   0,  21,  51, 123, 220, 198, 213,\n",
              "        143, 209, 242, 191, 182, 150,  73,   0,   0,  14,   0,   0,   0,\n",
              "          0,   0],\n",
              "       [  0,   0,   0,   6,   1,   0,  73, 151, 197, 222, 196, 219, 196,\n",
              "        251, 223, 200, 143, 198, 183, 199, 163,  65,   0,   0,   0,   0,\n",
              "          0,   0],\n",
              "       [  7,   0,   0,  12,   4,   4, 171, 214, 189, 175, 194, 186, 203,\n",
              "        200, 203, 177, 181, 166, 166, 141, 173, 172,  14,  14,   0,   0,\n",
              "          0,   0],\n",
              "       [  4,   0,   0,   0,   0,  42, 200, 173, 192, 194, 206, 187, 188,\n",
              "        204, 185, 152, 173, 147, 182, 175, 168, 165,  51,   0,   0,   0,\n",
              "          0,   0],\n",
              "       [  0,   0,   2,   0,   2, 117, 212, 179, 196, 180, 181, 189, 177,\n",
              "        181, 157, 175, 163, 171, 165, 162, 164, 166, 131,   0,   0,   0,\n",
              "          0,   0],\n",
              "       [  7,   1,   5,   0,   0, 145, 183, 192, 197, 190, 201, 181, 188,\n",
              "        190, 174, 184, 168, 173, 171, 138, 176, 184, 117,   8,   0,   0,\n",
              "          0,   0],\n",
              "       [  0,   6,   2,   1,   0, 178, 188, 190, 216, 173, 177, 209, 171,\n",
              "        174, 184, 173, 169, 153, 163, 149, 183, 171, 145,   4,   0,   0,\n",
              "          0,   0],\n",
              "       [  0,   3,   0,   0,   0, 199, 191, 193, 216, 183, 183, 193, 176,\n",
              "        177, 173, 174, 168, 168, 160, 139, 198, 169, 163,   4,   0,   0,\n",
              "          0,   0],\n",
              "       [  3,   0,   0,   0,   2, 222, 186, 191, 223, 188, 187, 178, 182,\n",
              "        182, 165, 177, 167, 179, 151, 141, 213, 162, 186,   1,   0,   0,\n",
              "          0,   0],\n",
              "       [  4,   0,   0,   0,   6, 232, 177, 186, 238, 183, 185, 178, 184,\n",
              "        185, 169, 181, 168, 175, 143, 164, 215, 152, 202,   0,   0,   0,\n",
              "          0,   0],\n",
              "       [  1,   0,   3,   0,  21, 234, 175, 188, 245, 182, 181, 190, 179,\n",
              "        183, 176, 178, 174, 164, 144, 187, 212, 150, 209,   8,   0,   0,\n",
              "          0,   0],\n",
              "       [  0,   0,   4,   6,  46, 230, 182, 192, 215, 196, 180, 197, 174,\n",
              "        180, 176, 175, 179, 159, 155, 169, 216, 157, 208,  31,   0,   0,\n",
              "          0,   0],\n",
              "       [  0,   0,   0,   8,  70, 221, 187, 187, 145, 217, 178, 191, 172,\n",
              "        185, 171, 180, 175, 163, 167, 105, 224, 167, 201,  56,   0,   0,\n",
              "          0,   0],\n",
              "       [  4,   0,   0,   8,  83, 212, 185, 175,  82, 232, 176, 180, 174,\n",
              "        191, 168, 189, 168, 167, 173,  45, 231, 172, 193,  72,   0,   0,\n",
              "          0,   0],\n",
              "       [  5,   0,   4,   2,  96, 196, 200, 155,  49, 240, 188, 183, 176,\n",
              "        185, 176, 180, 170, 168, 190,  39, 186, 183, 196,  79,   0,   0,\n",
              "          0,   0],\n",
              "       [  0,   0,   0,   3, 101, 196, 213, 109,  30, 235, 177, 176, 177,\n",
              "        183, 176, 177, 171, 165, 187,  28, 137, 182, 181,  92,   0,   0,\n",
              "          0,   0],\n",
              "       [  0,   0,   0,   5, 106, 193, 231,  45,  27, 246, 177, 179, 186,\n",
              "        186, 182, 177, 175, 167, 198,  34,  87, 201, 169, 109,   0,   0,\n",
              "          0,   0],\n",
              "       [  0,   5,   0,   5, 106, 189, 242,   0,  41, 255, 184, 184, 191,\n",
              "        186, 182, 174, 174, 167, 209,  54,  52, 228, 162, 114,   0,   0,\n",
              "          0,   0],\n",
              "       [  0,   8,   0,   3, 104, 189, 240,   0,  53, 255, 186, 184, 185,\n",
              "        183, 176, 171, 172, 165, 207,  64,  24, 234, 160, 106,   0,   0,\n",
              "          0,   0],\n",
              "       [  0,   2,   0,   0, 106, 196, 214,   1,  62, 241, 187, 188, 181,\n",
              "        187, 176, 178, 178, 170, 202,  68,   6, 220, 167,  95,   0,   0,\n",
              "          0,   0],\n",
              "       [  0,   0,   0,   0, 111, 203, 170,   5,  68, 217, 191, 197, 180,\n",
              "        196, 177, 186, 179, 179, 203,  78,   2, 193, 173,  79,   0,   0,\n",
              "          0,   0],\n",
              "       [  5,   0,   0,   1, 115, 206, 133,   0,  68, 199, 192, 201, 177,\n",
              "        198, 172, 185, 170, 180, 203,  86,   4, 171, 171,  59,   0,   0,\n",
              "          0,   0],\n",
              "       [  2,   0,   0,   9, 120, 222, 128,   3,  13, 224, 178, 186, 184,\n",
              "        195, 177, 178, 175, 181, 202,  78,   0, 183, 178,  69,   0,   0,\n",
              "          0,   0],\n",
              "       [  5,   0,   6,   0,  44, 104,  49,   0,   0, 178, 207, 187, 187,\n",
              "        197, 176, 172, 167, 186, 216,   0,   0,  91, 131,  20,   0,   0,\n",
              "          0,   0],\n",
              "       [  1,   0,   9,   0,   0,  14,   0,   0,   5,  97, 198, 189, 205,\n",
              "        214, 196, 197, 202, 189, 138,   0,   0,   0,   5,   0,   0,   0,\n",
              "          0,   0],\n",
              "       [  0,   0,   4,   0,   0,   3,   0,  10,   0,   0,  93, 145, 172,\n",
              "        176, 167, 175, 161, 112,   0,   0,   8,   6,   0,  31,   0,   0,\n",
              "          0,   0]], dtype=uint8)</pre></div><script>\n",
              "      (() => {\n",
              "      const titles = ['show data', 'hide data'];\n",
              "      let index = 0\n",
              "      document.querySelector('#id-9a51a55f-e06f-4cac-a8e3-77daaac09e0f button').onclick = (e) => {\n",
              "        document.querySelector('#id-9a51a55f-e06f-4cac-a8e3-77daaac09e0f').classList.toggle('show_array');\n",
              "        index = (++index) % 2;\n",
              "        document.querySelector('#id-9a51a55f-e06f-4cac-a8e3-77daaac09e0f button').textContent = titles[index];\n",
              "        e.preventDefault();\n",
              "        e.stopPropagation();\n",
              "      }\n",
              "      })();\n",
              "    </script>"
            ]
          },
          "metadata": {},
          "execution_count": 29
        }
      ],
      "source": [
        "np_img"
      ]
    },
    {
      "cell_type": "code",
      "execution_count": 30,
      "metadata": {
        "colab": {
          "base_uri": "https://localhost:8080/",
          "height": 637
        },
        "id": "xZAB5JXkYgix",
        "outputId": "08ba8400-0711-4a25-ab9e-97fbf250e93d"
      },
      "outputs": [
        {
          "output_type": "execute_result",
          "data": {
            "text/plain": [
              "<matplotlib.image.AxesImage at 0x791a1c8e9a80>"
            ]
          },
          "metadata": {},
          "execution_count": 30
        },
        {
          "output_type": "display_data",
          "data": {
            "text/plain": [
              "<Figure size 1000x700 with 1 Axes>"
            ],
            "image/png": "[encoded data removed]"
          },
          "metadata": {}
        }
      ],
      "source": [
        "plt.figure(figsize=(10, 7))\n",
        "plt.imshow(np_img)"
      ]
    },
    {
      "cell_type": "markdown",
      "metadata": {
        "id": "m2hjS4znZ0Zv"
      },
      "source": [
        "## Transforming data"
      ]
    },
    {
      "cell_type": "code",
      "execution_count": 31,
      "metadata": {
        "id": "ELU9fBZxS5o3"
      },
      "outputs": [],
      "source": [
        "import torch\n",
        "from torchvision import datasets ,transforms"
      ]
    },
    {
      "cell_type": "markdown",
      "metadata": {
        "id": "UuGJB86Pbp-5"
      },
      "source": [
        "Transform the data using **torchvision.datasets** for loading our dataset and **torchvision.transform** for preparing our data"
      ]
    },
    {
      "cell_type": "markdown",
      "source": [
        "I 'm going to build a  to create a custom Dataste to replacite ImageFolder\n",
        "let's break  down\n",
        "\n",
        "1 : create subclass  of *torch.utils.data.Dataset*\n",
        "\n",
        "2 : as intialize our subclass with *targ_dir paremater* (the trajectoire of our data directory )  and  *transform* ( so we have the option of transform our data  if we  needed )\n",
        "\n",
        "3:  create several attributes  like *paths* (paths for images )  and *trabsform* (the transform we can use it if we like but if not we can intialize it as  None )  class_names and classses _to_index ( we can create a function that return classes_names and classes_to_index we named as *find_classes()*)\n",
        "\n",
        "4 : create a function  to load images from file and returm them\n",
        "\n",
        "5 : overwrite the function __len__ method  of torch.utile.data.dataset that return the number of samples that exist  in the Dataset ,this is recommended but is not required\n",
        "\n",
        "6 :  overwrite the fucntion __getitem__ method  of torch.utile.dataset to return  a single sample from dataset , this is required"
      ],
      "metadata": {
        "id": "KNEFFY_bKPIy"
      }
    },
    {
      "cell_type": "markdown",
      "metadata": {
        "id": "u1P2eUvAS5o3"
      },
      "source": [
        "Lest 's code that"
      ]
    },
    {
      "cell_type": "code",
      "source": [
        "from torch.utils.data import Dataset\n",
        "\n",
        "from typing import List ,Tuple ,Dict"
      ],
      "metadata": {
        "id": "HgB_vG95QmUO"
      },
      "execution_count": 32,
      "outputs": []
    },
    {
      "cell_type": "code",
      "source": [
        "def  find_class (directory :str )-> Tuple[List[str],Dict[str ,int]]:\n",
        "\n",
        "  classes  = sorted(entry.name for entry in os.scandir(directory) if entry.is_dir() or entry.is_file())\n",
        "\n",
        "  classes_to_index = {cols_name:i for i , cols_name in enumerate(classes)}\n",
        "\n",
        "  return classes ,classes_to_index"
      ],
      "metadata": {
        "id": "pdYP1GZVUCK3"
      },
      "execution_count": 33,
      "outputs": []
    },
    {
      "cell_type": "code",
      "source": [
        "find_class(test_dir)"
      ],
      "metadata": {
        "colab": {
          "base_uri": "https://localhost:8080/"
        },
        "id": "7yf6JMvEXdB3",
        "outputId": "865ffbe3-6491-448a-a55a-9e57cc9e2bf7"
      },
      "execution_count": 34,
      "outputs": [
        {
          "output_type": "execute_result",
          "data": {
            "text/plain": [
              "(['ankle_boot',\n",
              "  'bag',\n",
              "  'coat',\n",
              "  'dress',\n",
              "  'pullover',\n",
              "  'sandal',\n",
              "  'shirt',\n",
              "  'sneaker',\n",
              "  'trouser',\n",
              "  'tshirt_top'],\n",
              " {'ankle_boot': 0,\n",
              "  'bag': 1,\n",
              "  'coat': 2,\n",
              "  'dress': 3,\n",
              "  'pullover': 4,\n",
              "  'sandal': 5,\n",
              "  'shirt': 6,\n",
              "  'sneaker': 7,\n",
              "  'trouser': 8,\n",
              "  'tshirt_top': 9})"
            ]
          },
          "metadata": {},
          "execution_count": 34
        }
      ]
    },
    {
      "cell_type": "code",
      "source": [
        " l = list(base_dir.glob(\"*/*/*.jpeg\"))\n",
        " l[5].parent.name"
      ],
      "metadata": {
        "colab": {
          "base_uri": "https://localhost:8080/",
          "height": 55
        },
        "id": "2PK4n7Axm1ez",
        "outputId": "5a2b37cf-e903-45e4-aeb1-b9d3724db878"
      },
      "execution_count": 35,
      "outputs": [
        {
          "output_type": "execute_result",
          "data": {
            "text/plain": [
              "'trouser'"
            ],
            "application/vnd.google.colaboratory.intrinsic+json": {
              "type": "string"
            }
          },
          "metadata": {},
          "execution_count": 35
        }
      ]
    },
    {
      "cell_type": "code",
      "source": [
        "# import torch\n",
        "# from PIL import Image\n",
        "# from torchvision import transforms\n",
        "\n",
        "# def transform_to_tensor(image: Image.Image) -> torch.Tensor:\n",
        "#     transform = transforms.Compose([\n",
        "#         transforms.Resize((28, 28)),  # Pass a tuple here\n",
        "#         transforms.ToTensor(),\n",
        "#         transforms.RandomVerticalFlip(p=0.5)\n",
        "#     ])\n",
        "\n",
        "#     return transform(image)\n"
      ],
      "metadata": {
        "id": "Wvlwki57AWh0"
      },
      "execution_count": 36,
      "outputs": []
    },
    {
      "cell_type": "code",
      "source": [
        " def transform_ToTenser(image: Image.Image) ->torch.Tensor:\n",
        "  transform = transforms.Compose([transforms.Resize((64,64)),\n",
        "                                  transforms.ToTensor(),\n",
        "                                  transforms.RandomVerticalFlip(p = 0.5)])\n",
        "\n",
        "  return transform(image)\n",
        "\n",
        "\n",
        "\n"
      ],
      "metadata": {
        "id": "NFqOrCO-kLB5"
      },
      "execution_count": 37,
      "outputs": []
    },
    {
      "cell_type": "code",
      "source": [
        "transform_ToTenser(image)[0][20]"
      ],
      "metadata": {
        "colab": {
          "base_uri": "https://localhost:8080/"
        },
        "id": "lZW3CxG3Xi-7",
        "outputId": "d4ce7963-c8ee-4495-fed1-7480f5e17a71"
      },
      "execution_count": 38,
      "outputs": [
        {
          "output_type": "execute_result",
          "data": {
            "text/plain": [
              "tensor([0.0000, 0.0039, 0.0078, 0.0118, 0.0078, 0.0000, 0.0078, 0.0157, 0.1059,\n",
              "        0.2784, 0.4471, 0.5922, 0.7373, 0.8235, 0.9020, 0.6902, 0.3216, 0.0902,\n",
              "        0.1137, 0.1608, 0.5333, 0.9020, 0.8902, 0.7686, 0.7098, 0.7098, 0.7176,\n",
              "        0.7294, 0.7412, 0.7373, 0.7333, 0.7255, 0.7176, 0.7098, 0.6980, 0.6863,\n",
              "        0.6863, 0.6824, 0.6745, 0.6627, 0.6863, 0.7490, 0.7412, 0.4706, 0.1961,\n",
              "        0.2118, 0.2549, 0.4314, 0.6824, 0.8157, 0.7294, 0.6431, 0.5490, 0.4588,\n",
              "        0.2902, 0.0980, 0.0000, 0.0000, 0.0000, 0.0000, 0.0000, 0.0000, 0.0000,\n",
              "        0.0000])"
            ]
          },
          "metadata": {},
          "execution_count": 38
        }
      ]
    },
    {
      "cell_type": "code",
      "source": [
        "img3 = Image.open(l[200])\n",
        "img3.size"
      ],
      "metadata": {
        "colab": {
          "base_uri": "https://localhost:8080/"
        },
        "id": "aBqKbLy2OV8t",
        "outputId": "5f7b7003-129a-4806-a532-4fc0558f2218"
      },
      "execution_count": 39,
      "outputs": [
        {
          "output_type": "execute_result",
          "data": {
            "text/plain": [
              "(28, 28)"
            ]
          },
          "metadata": {},
          "execution_count": 39
        }
      ]
    },
    {
      "cell_type": "code",
      "source": [
        "imagf = np.asarray(img3)\n",
        "imagf.shape"
      ],
      "metadata": {
        "colab": {
          "base_uri": "https://localhost:8080/"
        },
        "id": "f6ixcPDfXWik",
        "outputId": "a0fe7e9e-0901-4721-ecb6-f2bf7cf7faeb"
      },
      "execution_count": 40,
      "outputs": [
        {
          "output_type": "execute_result",
          "data": {
            "text/plain": [
              "(28, 28)"
            ]
          },
          "metadata": {},
          "execution_count": 40
        }
      ]
    },
    {
      "cell_type": "code",
      "source": [
        "imgnumpy = transforms.ToPILImage(np.asarray(img3))\n",
        "imgnumpy"
      ],
      "metadata": {
        "colab": {
          "base_uri": "https://localhost:8080/"
        },
        "id": "rPcf_EeeV0mD",
        "outputId": "e5e4f699-ef6a-4edf-e2fe-373aed833787"
      },
      "execution_count": 41,
      "outputs": [
        {
          "output_type": "execute_result",
          "data": {
            "text/plain": [
              "ToPILImage(mode=[[  0   0   0   0   0   0   0   0   0 157 120 123 142 153 112 154 107 104\n",
              "  151  22   0   3   0   0   0   0   0   0]\n",
              " [  0   0   0   0   0   0   0   0   8 237 246 255 255 248 211 239 255 240\n",
              "  255  97  15   3   0   2   0   0   0   0]\n",
              " [  0   0   0   0   0   0   0   0  27 250 221 222 223 236 226 237 221 203\n",
              "  240 110   0   0   1   5   0   0   0   0]\n",
              " [  0   0   0   0   0   0   0   0  69 255 204 213 226 241 232 217 230 215\n",
              "  255 161   8   0   1   0   0   0   0   0]\n",
              " [  0   0   0   0   0   0   0   0  74 255 211 231 231 230 224 221 225 205\n",
              "  239 169   0   0   9   4   0   0   0   0]\n",
              " [  0   0   0   0   0   0   0   0 100 255 214 231 224 225 220 234 240 220\n",
              "  238 188   0   0   0   0   0   0   0   0]\n",
              " [  0   0   0   0   0   0   0   0 101 247 212 228 225 235 208 214 216 210\n",
              "  226 201   1  11   1   3   0   0   0   0]\n",
              " [  0   0   0   0   0   0   0   0 107 248 217 215 208 240 223 243 224 220\n",
              "  223 200   0   3   0   4   0   0   0   0]\n",
              " [  0   0   0   0   0   0   0   0 105 255 209 212 211 249 237 233 231 221\n",
              "  220 191   6   0   3   0   0   0   0   0]\n",
              " [  0   0   0   0   0   0   0   0 106 255 208 222 233 228 197 255 221 211\n",
              "  214 192   5   0   0   1   0   0   0   0]\n",
              " [  0   0   0   0   0   0   0   0 110 252 201 219 246 174 108 255 209 197\n",
              "  207 193   4   2   0   4   0   0   0   0]\n",
              " [  0   0   0   0   0   0   0   0 105 250 191 202 248 123  27 246 200 187\n",
              "  207 190   5   2   0   4   0   0   0   0]\n",
              " [  0   0   0   0   0   0   0   0  86 251 184 186 255 105   2 255 196 180\n",
              "  215 181   6   1   0   2   0   0   0   0]\n",
              " [  0   0   0   0   0   0   0   0  68 255 185 182 255  93   1 255 194 175\n",
              "  227 166   7   0   0   0   0   0   0   0]\n",
              " [  0   0   0   0   0   0   0   0  51 255 188 187 255  75   1 249 191 170\n",
              "  238 147   6   0   7   0   0   0   0   0]\n",
              " [  0   0   0   0   0   0   0   0  35 251 187 196 255  66   9 253 188 166\n",
              "  243 135   6   0  12   0   0   0   0   0]\n",
              " [  0   0   0   0   0   0   0   0  13 255 190 192 253  39   3 254 200 164\n",
              "  251 120   0   0   0   0   0   0   0   0]\n",
              " [  0   0   0   0   0   0   0   0   8 255 196 197 255  39   3 253 209 170\n",
              "  247 110   0   0   0   0   0   0   0   0]\n",
              " [  0   0   0   0   0   0   0   0   3 253 206 203 255  38   3 252 220 180\n",
              "  246  96   0   2   0   0   0   0   0   0]\n",
              " [  0   0   0   0   0   0   0   0   1 247 215 205 255  36   4 253 225 192\n",
              "  249  84   0   2   0   0   0   0   0   0]\n",
              " [  0   0   0   0   0   0   0   0   2 240 222 205 255  34   4 253 225 203\n",
              "  255  73   1   0   0   1   0   0   0   0]\n",
              " [  0   0   0   0   0   0   0   0   4 233 228 205 255  32   2 247 227 212\n",
              "  255  59   1   0   0   2   0   0   0   0]\n",
              " [  0   0   0   0   0   0   0   0   3 226 233 206 255  32   0 239 233 218\n",
              "  252  42   1   2   0   3   0   0   0   0]\n",
              " [  0   0   0   0   0   0   0   0   1 222 235 209 255  33   0 232 240 221\n",
              "  246  30   0   5   0   3   0   0   0   0]\n",
              " [  0   0   0   0   0   0   0   0   6 205 239 205 255  25   0 224 239 216\n",
              "  255  12   0   1   0   0   0   0   0   0]\n",
              " [  0   0   0   0   0   0   0   0   0 168 246 227 227  12   5 183 235 212\n",
              "  225   5   0   0   4   6   0   0   0   0]\n",
              " [  0   0   0   0   0   0   0   0   4 196 245 212 250  45   0 179 255 242\n",
              "  209  28   0   0   0   0   0   0   0   0]\n",
              " [  0   0   0   0   0   0   0   0   0  27 152 171  87   0  11  28 148 149\n",
              "  103   0   0   0   6   5   0   0   0   0]])"
            ]
          },
          "metadata": {},
          "execution_count": 41
        }
      ]
    },
    {
      "cell_type": "code",
      "source": [
        "# imgPil = transforms.ToPILImage(t)\n",
        "# imgPil.mode[0][20]"
      ],
      "metadata": {
        "id": "OYrKy68uUiBk"
      },
      "execution_count": 43,
      "outputs": []
    },
    {
      "cell_type": "code",
      "source": [],
      "metadata": {
        "id": "cHsNa6ctOZR5"
      },
      "execution_count": null,
      "outputs": []
    },
    {
      "cell_type": "code",
      "source": [
        "# t = transfom_ToTenser( Image.open( l[20]))\n",
        "# t.shape, t"
      ],
      "metadata": {
        "id": "0Iah7c4D3YMd"
      },
      "execution_count": 45,
      "outputs": []
    },
    {
      "cell_type": "code",
      "source": [
        "import torch\n",
        "import os\n",
        "import pathlib\n",
        "import torch\n"
      ],
      "metadata": {
        "id": "YBnOWbRh6_9P"
      },
      "execution_count": 46,
      "outputs": []
    },
    {
      "cell_type": "code",
      "source": [
        "len(list(pathlib.Path('fashion_mnist_dataset').glob('*/*/*.jpeg')))"
      ],
      "metadata": {
        "colab": {
          "base_uri": "https://localhost:8080/"
        },
        "id": "kSCV92hy6Pu2",
        "outputId": "3662b0f6-082a-4683-861a-55fd4e13ebea"
      },
      "execution_count": 47,
      "outputs": [
        {
          "output_type": "execute_result",
          "data": {
            "text/plain": [
              "70000"
            ]
          },
          "metadata": {},
          "execution_count": 47
        }
      ]
    },
    {
      "cell_type": "code",
      "source": [
        "# from typing_extensions import\n",
        "\n",
        "class DatasetImageFolder(Dataset):\n",
        "\n",
        "  def __init__(self, targ_dir: str , transform = None ):\n",
        "\n",
        "      # super().__init__()\n",
        "      self.targ_dir =  targ_dir\n",
        "      self.transform = transform\n",
        "      self.paths =list(pathlib.Path(targ_dir).glob('*/*.jpeg'))\n",
        "      self.classes , self.classes_to_index = find_class(targ_dir)\n",
        "\n",
        "  # create a function to load image,s from file and returm them\n",
        "  def load_images(self, idex: int  )->Image.Image:\n",
        "\n",
        "    image = self.paths[idex]\n",
        "\n",
        "    return Image.open(image)\n",
        "  #overwrite the function len method of torch.utile.data.dataset that return the number of samples that exist in the Dataset ,this is recommended but is not required\n",
        "  def __len__(self)->int:\n",
        "\n",
        "    return len(self.paths)\n",
        "\n",
        "\n",
        "  def __getitem__(self, index)-> Tuple[torch.Tensor, int]:\n",
        "\n",
        "    image = self.load_images(idex=index)  # This should return a PIL.Image\n",
        "    class_name = self.paths[index].parent.name\n",
        "    class_index = self.classes_to_index[class_name]\n",
        "\n",
        "    if self.transform:\n",
        "        image = self.transform(image)  # Transform the PIL.Image to a torch.Tensor\n",
        "    return image, class_index\n"
      ],
      "metadata": {
        "id": "upX6z_O3QmcR"
      },
      "execution_count": 48,
      "outputs": []
    },
    {
      "cell_type": "code",
      "source": [
        "train_custom_data  = DatasetImageFolder(targ_dir = train_dir ,transform =   transform_ToTenser)\n",
        "\n",
        "test_custom_data  = DatasetImageFolder(targ_dir = test_dir ,transform = transform_ToTenser )\n"
      ],
      "metadata": {
        "id": "BWpis-NRQmec"
      },
      "execution_count": 58,
      "outputs": []
    },
    {
      "cell_type": "code",
      "source": [
        "len(train_custom_data),len(test_custom_data)"
      ],
      "metadata": {
        "colab": {
          "base_uri": "https://localhost:8080/"
        },
        "id": "Il6D6ajXtMbf",
        "outputId": "f68589c6-c3ca-4f3d-9df9-b94b44765e90"
      },
      "execution_count": 61,
      "outputs": [
        {
          "output_type": "execute_result",
          "data": {
            "text/plain": [
              "(60000, 10000)"
            ]
          },
          "metadata": {},
          "execution_count": 61
        }
      ]
    },
    {
      "cell_type": "code",
      "source": [
        "train_custom_data.load_images(0)"
      ],
      "metadata": {
        "colab": {
          "base_uri": "https://localhost:8080/",
          "height": 65
        },
        "id": "-1-X1IF5cxIo",
        "outputId": "fd120f79-1f4d-4dcd-8f24-338662d4c830"
      },
      "execution_count": 66,
      "outputs": [
        {
          "output_type": "execute_result",
          "data": {
            "text/plain": [
              "<PIL.JpegImagePlugin.JpegImageFile image mode=L size=28x28>"
            ],
            "image/png": "[encoded data removed]"
          },
          "metadata": {},
          "execution_count": 66
        }
      ]
    },
    {
      "cell_type": "code",
      "source": [
        "test_custom_data.load_images(0)"
      ],
      "metadata": {
        "colab": {
          "base_uri": "https://localhost:8080/",
          "height": 65
        },
        "id": "H4d-q-dQuD-c",
        "outputId": "80a77b34-30b7-459c-fbfb-4e6ab7809f6d"
      },
      "execution_count": 65,
      "outputs": [
        {
          "output_type": "execute_result",
          "data": {
            "text/plain": [
              "<PIL.JpegImagePlugin.JpegImageFile image mode=L size=28x28>"
            ],
            "image/png": "[encoded data removed]"
          },
          "metadata": {},
          "execution_count": 65
        }
      ]
    },
    {
      "cell_type": "code",
      "source": [
        "type(list(pathlib.Path(train_dir).glob('*/*.jpeg'))[0])"
      ],
      "metadata": {
        "colab": {
          "base_uri": "https://localhost:8080/"
        },
        "id": "wgV5eI3Cr_a4",
        "outputId": "0b73a45e-55fc-4610-d238-068a91020b0c"
      },
      "execution_count": 53,
      "outputs": [
        {
          "output_type": "execute_result",
          "data": {
            "text/plain": [
              "pathlib.PosixPath"
            ]
          },
          "metadata": {},
          "execution_count": 53
        }
      ]
    },
    {
      "cell_type": "code",
      "source": [
        "Image.open(list(pathlib.Path(train_dir).glob('*/*.jpeg'))[0])"
      ],
      "metadata": {
        "id": "vKoFY6zD21Dn",
        "colab": {
          "base_uri": "https://localhost:8080/",
          "height": 65
        },
        "outputId": "e3c8b89f-1756-4698-f757-2feab2e0ed3e"
      },
      "execution_count": 54,
      "outputs": [
        {
          "output_type": "execute_result",
          "data": {
            "text/plain": [
              "<PIL.JpegImagePlugin.JpegImageFile image mode=L size=28x28>"
            ],
            "image/png": "[encoded data removed]"
          },
          "metadata": {},
          "execution_count": 54
        }
      ]
    },
    {
      "cell_type": "code",
      "source": [
        "image , label = train_custom_data[0][0], train_custom_data[0][1]\n",
        "image,label"
      ],
      "metadata": {
        "colab": {
          "base_uri": "https://localhost:8080/"
        },
        "id": "u1R8Ym_RcnwG",
        "outputId": "6ed7afb3-fabf-4002-a288-b9522c13afd2"
      },
      "execution_count": 67,
      "outputs": [
        {
          "output_type": "execute_result",
          "data": {
            "text/plain": [
              "(tensor([[[0., 0., 0.,  ..., 0., 0., 0.],\n",
              "          [0., 0., 0.,  ..., 0., 0., 0.],\n",
              "          [0., 0., 0.,  ..., 0., 0., 0.],\n",
              "          ...,\n",
              "          [0., 0., 0.,  ..., 0., 0., 0.],\n",
              "          [0., 0., 0.,  ..., 0., 0., 0.],\n",
              "          [0., 0., 0.,  ..., 0., 0., 0.]]]),\n",
              " 8)"
            ]
          },
          "metadata": {},
          "execution_count": 67
        }
      ]
    },
    {
      "cell_type": "code",
      "source": [
        "image[0][20]"
      ],
      "metadata": {
        "colab": {
          "base_uri": "https://localhost:8080/"
        },
        "id": "8Kn2XrKnc_aw",
        "outputId": "6ed1b969-4544-43cf-b410-2ad03afc5b33"
      },
      "execution_count": 68,
      "outputs": [
        {
          "output_type": "execute_result",
          "data": {
            "text/plain": [
              "tensor([0.0000, 0.0000, 0.0000, 0.0000, 0.0000, 0.0000, 0.0000, 0.0000, 0.0000,\n",
              "        0.0000, 0.0000, 0.0000, 0.0000, 0.0000, 0.0000, 0.0000, 0.0000, 0.0039,\n",
              "        0.0118, 0.0314, 0.2392, 0.4510, 0.6039, 0.7451, 0.7765, 0.6902, 0.6353,\n",
              "        0.6980, 0.7608, 0.8078, 0.8549, 0.8588, 0.8431, 0.8157, 0.7882, 0.7608,\n",
              "        0.7333, 0.7020, 0.7490, 0.8118, 0.7961, 0.6902, 0.5569, 0.2941, 0.0353,\n",
              "        0.0118, 0.0078, 0.0039, 0.0039, 0.0000, 0.0039, 0.0039, 0.0078, 0.0118,\n",
              "        0.0078, 0.0039, 0.0000, 0.0000, 0.0000, 0.0000, 0.0000, 0.0000, 0.0000,\n",
              "        0.0000])"
            ]
          },
          "metadata": {},
          "execution_count": 68
        }
      ]
    },
    {
      "cell_type": "markdown",
      "source": [
        "# Turn  train  and test custom date into  dataloaders"
      ],
      "metadata": {
        "id": "R-nIJ83NrGv5"
      }
    },
    {
      "cell_type": "code",
      "source": [
        "from torch.utils.data import DataLoader"
      ],
      "metadata": {
        "id": "c96vky8uhpRQ"
      },
      "execution_count": 70,
      "outputs": []
    },
    {
      "cell_type": "code",
      "source": [
        "NUMER_OF_Works = os.cpu_count()\n",
        "# print(NUMER_OF_Works)"
      ],
      "metadata": {
        "id": "uTL9iZiV5qyY"
      },
      "execution_count": 90,
      "outputs": []
    },
    {
      "cell_type": "code",
      "source": [
        "train_dataloaders  =  DataLoader(train_custom_data, batch_size = 10,num_workers= NUMER_OF_Works , shuffle =  True)\n",
        "test_dataloaders  =  DataLoader(test_custom_data, batch_size = 10,num_workers= NUMER_OF_Works,  shuffle =  True)"
      ],
      "metadata": {
        "id": "pI99gDOLu57B"
      },
      "execution_count": 91,
      "outputs": []
    },
    {
      "cell_type": "code",
      "source": [
        "train_features, train_labels = next(iter(train_dataloaders))"
      ],
      "metadata": {
        "id": "1Fj4OFNJvdCl"
      },
      "execution_count": 92,
      "outputs": []
    },
    {
      "cell_type": "code",
      "source": [
        "print(f\" featres batch size is {train_features.shape}\" )"
      ],
      "metadata": {
        "colab": {
          "base_uri": "https://localhost:8080/"
        },
        "id": "weq4V7vdv1Rh",
        "outputId": "b0cb81b7-43fd-4ced-9762-6c329919af2e"
      },
      "execution_count": 93,
      "outputs": [
        {
          "output_type": "stream",
          "name": "stdout",
          "text": [
            " featres batch size is torch.Size([10, 1, 64, 64])\n"
          ]
        }
      ]
    },
    {
      "cell_type": "code",
      "source": [
        "print(f\"the labels batch size  is {train_labels.shape[0]}\" )"
      ],
      "metadata": {
        "colab": {
          "base_uri": "https://localhost:8080/"
        },
        "id": "yWB18iLuwcgw",
        "outputId": "6b425fd5-8e5f-4bd9-fa51-9439e5fbd971"
      },
      "execution_count": 94,
      "outputs": [
        {
          "output_type": "stream",
          "name": "stdout",
          "text": [
            "the labels batch size  is 10\n"
          ]
        }
      ]
    },
    {
      "cell_type": "markdown",
      "source": [
        "# Transforming and augmenting data"
      ],
      "metadata": {
        "id": "fkxqPavV6_uV"
      }
    },
    {
      "cell_type": "markdown",
      "source": [
        " Data augmentation: is the process of artificially adding the diversity to our training data.\n",
        "\n",
        "\n",
        " Data augmentation for images : in the case  of image data , this may mean appluing varios image  tramformations to the training images .\n",
        "\n",
        " this practice allows to model to learn or it gets a chnce to view the perspective  so that  when you use your image classfication  it's seen the same  sort of images  but from differnet perspectives so that when you use  your image classification  model in practice  it's seen the same  sort  of images but from many  differnet angles\n",
        "\n",
        " blog : https://pytorch.org/blog/how-to-train-state-of-the-art-models-using-torchvision-latest-primitives/"
      ],
      "metadata": {
        "id": "evhS6KvOD7rI"
      }
    },
    {
      "cell_type": "code",
      "source": [
        "#https://pytorch.org/vision/stable/auto_examples/transforms/plot_transforms_getting_started.html#sphx-glr-auto-examples-transforms-plot-transforms-getting-started-py"
      ],
      "metadata": {
        "id": "snmg6WFN4GnU"
      },
      "execution_count": null,
      "outputs": []
    }
  ],
  "metadata": {
    "colab": {
      "provenance": [],
      "include_colab_link": true
    },
    "kernelspec": {
      "display_name": "Python 3",
      "name": "python3"
    },
    "language_info": {
      "name": "python"
    }
  },
  "nbformat": 4,
  "nbformat_minor": 0
}