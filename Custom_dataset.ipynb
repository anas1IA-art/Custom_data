{
  "cells": [
    {
      "cell_type": "markdown",
      "metadata": {
        "id": "view-in-github",
        "colab_type": "text"
      },
      "source": [
        "<a href=\"https://colab.research.google.com/github/anas1IA-art/Custom_data/blob/main/Custom_dataset.ipynb\" target=\"_parent\"><img src=\"https://colab.research.google.com/assets/colab-badge.svg\" alt=\"Open In Colab\"/></a>"
      ]
    },
    {
      "cell_type": "markdown",
      "metadata": {
        "id": "fQM3mAL5Z4Y5"
      },
      "source": [
        "## Prepare the data"
      ]
    },
    {
      "cell_type": "code",
      "execution_count": 1,
      "metadata": {
        "id": "RsyM3rHdcdk1"
      },
      "outputs": [],
      "source": [
        "import requests\n",
        "import zipfile\n",
        "from pathlib import Path"
      ]
    },
    {
      "cell_type": "code",
      "execution_count": 2,
      "metadata": {
        "colab": {
          "base_uri": "https://localhost:8080/"
        },
        "id": "iYeO0ajbJTK9",
        "outputId": "9167b19d-806e-43b9-8382-2e4181372331"
      },
      "outputs": [
        {
          "output_type": "stream",
          "name": "stdout",
          "text": [
            "--2024-09-01 10:52:41--  https://github.com/zalandoresearch/fashion-mnist/raw/master/data/fashion/train-images-idx3-ubyte.gz\n",
            "Resolving github.com (github.com)... 140.82.121.3\n",
            "Connecting to github.com (github.com)|140.82.121.3|:443... connected.\n",
            "HTTP request sent, awaiting response... 302 Found\n",
            "Location: https://raw.githubusercontent.com/zalandoresearch/fashion-mnist/master/data/fashion/train-images-idx3-ubyte.gz [following]\n",
            "--2024-09-01 10:52:42--  https://raw.githubusercontent.com/zalandoresearch/fashion-mnist/master/data/fashion/train-images-idx3-ubyte.gz\n",
            "Resolving raw.githubusercontent.com (raw.githubusercontent.com)... 185.199.108.133, 185.199.109.133, 185.199.110.133, ...\n",
            "Connecting to raw.githubusercontent.com (raw.githubusercontent.com)|185.199.108.133|:443... connected.\n",
            "HTTP request sent, awaiting response... 200 OK\n",
            "Length: 26421880 (25M) [application/octet-stream]\n",
            "Saving to: ‘train-images-idx3-ubyte.gz’\n",
            "\n",
            "train-images-idx3-u 100%[===================>]  25.20M   103MB/s    in 0.2s    \n",
            "\n",
            "2024-09-01 10:52:43 (103 MB/s) - ‘train-images-idx3-ubyte.gz’ saved [26421880/26421880]\n",
            "\n"
          ]
        }
      ],
      "source": [
        "# Step 1: Download the specific gzip files\n",
        "!wget https://github.com/zalandoresearch/fashion-mnist/raw/master/data/fashion/train-images-idx3-ubyte.gz\n"
      ]
    },
    {
      "cell_type": "code",
      "execution_count": 3,
      "metadata": {
        "colab": {
          "base_uri": "https://localhost:8080/"
        },
        "id": "CN3QoKSbK40s",
        "outputId": "c81be206-54ed-4f30-daf0-0a6093117334"
      },
      "outputs": [
        {
          "output_type": "stream",
          "name": "stdout",
          "text": [
            "--2024-09-01 10:52:48--  https://github.com/zalandoresearch/fashion-mnist/raw/master/data/fashion/train-labels-idx1-ubyte.gz\n",
            "Resolving github.com (github.com)... 140.82.121.3\n",
            "Connecting to github.com (github.com)|140.82.121.3|:443... connected.\n",
            "HTTP request sent, awaiting response... 302 Found\n",
            "Location: https://raw.githubusercontent.com/zalandoresearch/fashion-mnist/master/data/fashion/train-labels-idx1-ubyte.gz [following]\n",
            "--2024-09-01 10:52:48--  https://raw.githubusercontent.com/zalandoresearch/fashion-mnist/master/data/fashion/train-labels-idx1-ubyte.gz\n",
            "Resolving raw.githubusercontent.com (raw.githubusercontent.com)... 185.199.108.133, 185.199.109.133, 185.199.110.133, ...\n",
            "Connecting to raw.githubusercontent.com (raw.githubusercontent.com)|185.199.108.133|:443... connected.\n",
            "HTTP request sent, awaiting response... 200 OK\n",
            "Length: 29515 (29K) [application/octet-stream]\n",
            "Saving to: ‘train-labels-idx1-ubyte.gz’\n",
            "\n",
            "train-labels-idx1-u 100%[===================>]  28.82K  --.-KB/s    in 0s      \n",
            "\n",
            "2024-09-01 10:52:48 (105 MB/s) - ‘train-labels-idx1-ubyte.gz’ saved [29515/29515]\n",
            "\n",
            "--2024-09-01 10:52:48--  https://github.com/zalandoresearch/fashion-mnist/raw/master/data/fashion/t10k-images-idx3-ubyte.gz\n",
            "Resolving github.com (github.com)... 140.82.121.3\n",
            "Connecting to github.com (github.com)|140.82.121.3|:443... connected.\n",
            "HTTP request sent, awaiting response... 302 Found\n",
            "Location: https://raw.githubusercontent.com/zalandoresearch/fashion-mnist/master/data/fashion/t10k-images-idx3-ubyte.gz [following]\n",
            "--2024-09-01 10:52:49--  https://raw.githubusercontent.com/zalandoresearch/fashion-mnist/master/data/fashion/t10k-images-idx3-ubyte.gz\n",
            "Resolving raw.githubusercontent.com (raw.githubusercontent.com)... 185.199.108.133, 185.199.109.133, 185.199.110.133, ...\n",
            "Connecting to raw.githubusercontent.com (raw.githubusercontent.com)|185.199.108.133|:443... connected.\n",
            "HTTP request sent, awaiting response... 200 OK\n",
            "Length: 4422102 (4.2M) [application/octet-stream]\n",
            "Saving to: ‘t10k-images-idx3-ubyte.gz’\n",
            "\n",
            "t10k-images-idx3-ub 100%[===================>]   4.22M  --.-KB/s    in 0.03s   \n",
            "\n",
            "2024-09-01 10:52:49 (125 MB/s) - ‘t10k-images-idx3-ubyte.gz’ saved [4422102/4422102]\n",
            "\n",
            "--2024-09-01 10:52:49--  https://github.com/zalandoresearch/fashion-mnist/raw/master/data/fashion/t10k-labels-idx1-ubyte.gz\n",
            "Resolving github.com (github.com)... 140.82.121.3\n",
            "Connecting to github.com (github.com)|140.82.121.3|:443... connected.\n",
            "HTTP request sent, awaiting response... 302 Found\n",
            "Location: https://raw.githubusercontent.com/zalandoresearch/fashion-mnist/master/data/fashion/t10k-labels-idx1-ubyte.gz [following]\n",
            "--2024-09-01 10:52:49--  https://raw.githubusercontent.com/zalandoresearch/fashion-mnist/master/data/fashion/t10k-labels-idx1-ubyte.gz\n",
            "Resolving raw.githubusercontent.com (raw.githubusercontent.com)... 185.199.109.133, 185.199.110.133, 185.199.111.133, ...\n",
            "Connecting to raw.githubusercontent.com (raw.githubusercontent.com)|185.199.109.133|:443... connected.\n",
            "HTTP request sent, awaiting response... 200 OK\n",
            "Length: 5148 (5.0K) [application/octet-stream]\n",
            "Saving to: ‘t10k-labels-idx1-ubyte.gz’\n",
            "\n",
            "t10k-labels-idx1-ub 100%[===================>]   5.03K  --.-KB/s    in 0s      \n",
            "\n",
            "2024-09-01 10:52:49 (46.7 MB/s) - ‘t10k-labels-idx1-ubyte.gz’ saved [5148/5148]\n",
            "\n"
          ]
        }
      ],
      "source": [
        "!wget https://github.com/zalandoresearch/fashion-mnist/raw/master/data/fashion/train-labels-idx1-ubyte.gz\n",
        "!wget https://github.com/zalandoresearch/fashion-mnist/raw/master/data/fashion/t10k-images-idx3-ubyte.gz\n",
        "!wget https://github.com/zalandoresearch/fashion-mnist/raw/master/data/fashion/t10k-labels-idx1-ubyte.gz"
      ]
    },
    {
      "cell_type": "code",
      "execution_count": 4,
      "metadata": {
        "id": "7EULQ33WKUl3"
      },
      "outputs": [],
      "source": [
        "# Step 2: Extract the gzip files\n",
        "!gzip -d train-images-idx3-ubyte.gz\n",
        "!gzip -d train-labels-idx1-ubyte.gz\n",
        "!gzip -d t10k-images-idx3-ubyte.gz\n",
        "!gzip -d t10k-labels-idx1-ubyte.gz"
      ]
    },
    {
      "cell_type": "code",
      "execution_count": 5,
      "metadata": {
        "id": "hUij_ORjbrQj"
      },
      "outputs": [],
      "source": [
        "import os\n",
        "import numpy as np\n",
        "from PIL import Image"
      ]
    },
    {
      "cell_type": "code",
      "execution_count": 6,
      "metadata": {
        "colab": {
          "base_uri": "https://localhost:8080/"
        },
        "id": "xL-uSLu9da4o",
        "outputId": "ab1ce906-eb4b-4797-d7d2-ba34c9eaa528"
      },
      "outputs": [
        {
          "output_type": "stream",
          "name": "stdout",
          "text": [
            "Did not find fashion_mnist_dataset directory, creating one...\n"
          ]
        }
      ],
      "source": [
        "# Define the directory structure\n",
        "base_dir = 'fashion_mnist_dataset'\n",
        "\n",
        "if os.path.isdir(base_dir):\n",
        "    print(f\"{base_dir} directory exists.\")\n",
        "else:\n",
        "    print(f\"Did not find {base_dir} directory, creating one...\")\n",
        "    os.makedirs(base_dir, exist_ok=True)\n",
        "\n",
        "train_dir = os.path.join(base_dir, 'train')\n",
        "test_dir = os.path.join(base_dir, 'test')\n",
        "classes = ['tshirt_top', 'trouser', 'pullover', 'dress', 'coat', 'sandal', 'shirt', 'sneaker', 'bag', 'ankle_boot']\n"
      ]
    },
    {
      "cell_type": "code",
      "execution_count": 7,
      "metadata": {
        "id": "M9r_PJ15dciV"
      },
      "outputs": [],
      "source": [
        "# Create the directory structure\n",
        "for d in [train_dir, test_dir]:\n",
        "    os.makedirs(d, exist_ok=True)\n",
        "    for c in classes:\n",
        "        os.makedirs(os.path.join(d, c), exist_ok=True)"
      ]
    },
    {
      "cell_type": "code",
      "execution_count": 8,
      "metadata": {
        "id": "f4eTgKNReZDm"
      },
      "outputs": [],
      "source": [
        "# Paths to the extracted files\n",
        "train_images_path = 'train-images-idx3-ubyte'\n",
        "train_labels_path = 'train-labels-idx1-ubyte'\n",
        "test_images_path = 't10k-images-idx3-ubyte'\n",
        "test_labels_path = 't10k-labels-idx1-ubyte'"
      ]
    },
    {
      "cell_type": "code",
      "execution_count": 9,
      "metadata": {
        "id": "mDSwuw4QdtcU"
      },
      "outputs": [],
      "source": [
        "# Helper function to load MNIST data\n",
        "def load_mnist_images(file_path):\n",
        "    with open(file_path, 'rb') as f:\n",
        "        magic = np.frombuffer(f.read(4), dtype='>u4')[0]\n",
        "        num = np.frombuffer(f.read(4), dtype='>u4')[0]\n",
        "        rows = np.frombuffer(f.read(4), dtype='>u4')[0]\n",
        "        cols = np.frombuffer(f.read(4), dtype='>u4')[0]\n",
        "        print(f\"Magic number: {magic}, Number of images: {num}, Rows: {rows}, Columns: {cols}\")\n",
        "        images = np.frombuffer(f.read(), dtype=np.uint8).reshape(num, rows, cols)\n",
        "    return images"
      ]
    },
    {
      "cell_type": "code",
      "execution_count": 10,
      "metadata": {
        "id": "wDxVUGBXeM11"
      },
      "outputs": [],
      "source": [
        "def load_mnist_labels(file_path):\n",
        "    with open(file_path, 'rb') as f:\n",
        "        magic = np.frombuffer(f.read(4), dtype='>u4')[0]\n",
        "        num = np.frombuffer(f.read(4), dtype='>u4')[0]\n",
        "        print(f\"Magic number: {magic}, Number of labels: {num}\")\n",
        "        labels = np.frombuffer(f.read(), dtype=np.uint8)\n",
        "    return labels"
      ]
    },
    {
      "cell_type": "code",
      "execution_count": 11,
      "metadata": {
        "id": "T4VsMI46eQ-9"
      },
      "outputs": [],
      "source": [
        "def save_images(images, labels, base_dir,new_size=(56, 56)):\n",
        "    for idx, (image, label) in enumerate(zip(images, labels)):\n",
        "        class_name = classes[label]\n",
        "        image_dir = os.path.join(base_dir, class_name)\n",
        "        image_path = os.path.join(image_dir, f'image_{idx:04d}.jpeg')\n",
        "        image = Image.fromarray(image)\n",
        "        image = image.resize(new_size, Image.ANTIALIAS)\n",
        "        image.save(image_path)"
      ]
    },
    {
      "cell_type": "code",
      "execution_count": 12,
      "metadata": {
        "colab": {
          "base_uri": "https://localhost:8080/"
        },
        "id": "WFASRmUheUw6",
        "outputId": "1d872c94-a0c1-4ea3-8028-52a4be0fce82"
      },
      "outputs": [
        {
          "output_type": "stream",
          "name": "stdout",
          "text": [
            "Magic number: 2051, Number of images: 60000, Rows: 28, Columns: 28\n",
            "Magic number: 2049, Number of labels: 60000\n"
          ]
        },
        {
          "output_type": "stream",
          "name": "stderr",
          "text": [
            "<ipython-input-11-81941a92c02b>:7: DeprecationWarning: ANTIALIAS is deprecated and will be removed in Pillow 10 (2023-07-01). Use LANCZOS or Resampling.LANCZOS instead.\n",
            "  image = image.resize(new_size, Image.ANTIALIAS)\n"
          ]
        }
      ],
      "source": [
        "# Load and save training images\n",
        "train_images = load_mnist_images(train_images_path)\n",
        "train_labels = load_mnist_labels(train_labels_path)\n",
        "save_images(train_images, train_labels, train_dir,new_size=(28,28))"
      ]
    },
    {
      "cell_type": "code",
      "execution_count": 13,
      "metadata": {
        "colab": {
          "base_uri": "https://localhost:8080/"
        },
        "id": "58q_RAcVegGj",
        "outputId": "62911a06-a581-4e0a-dccb-db1a9dcb8b0a"
      },
      "outputs": [
        {
          "output_type": "stream",
          "name": "stdout",
          "text": [
            "Magic number: 2051, Number of images: 10000, Rows: 28, Columns: 28\n",
            "Magic number: 2049, Number of labels: 10000\n"
          ]
        },
        {
          "output_type": "stream",
          "name": "stderr",
          "text": [
            "<ipython-input-11-81941a92c02b>:7: DeprecationWarning: ANTIALIAS is deprecated and will be removed in Pillow 10 (2023-07-01). Use LANCZOS or Resampling.LANCZOS instead.\n",
            "  image = image.resize(new_size, Image.ANTIALIAS)\n"
          ]
        }
      ],
      "source": [
        "test_images = load_mnist_images(test_images_path)\n",
        "test_labels = load_mnist_labels(test_labels_path)\n",
        "save_images(test_images, test_labels, test_dir,new_size=(28,28))"
      ]
    },
    {
      "cell_type": "code",
      "execution_count": 14,
      "metadata": {
        "id": "HaS3HG6JhJJB"
      },
      "outputs": [],
      "source": [
        "def walk_through_dir(dir_path):\n",
        "  \"\"\"\n",
        "  Walks through dir_path returning its contents.\n",
        "  Args:\n",
        "    dir_path (str or pathlib.Path): target directory\n",
        "\n",
        "  Returns:\n",
        "    A print out of:\n",
        "      number of subdiretories in dir_path\n",
        "      number of images (files) in each subdirectory\n",
        "      name of each subdirectory\n",
        "  \"\"\"\n",
        "  for dirpath, dirnames, filenames in os.walk(dir_path):\n",
        "    print(f\"There are {len(dirnames)} directories and {len(filenames)} images in '{dirpath}'.\")"
      ]
    },
    {
      "cell_type": "code",
      "execution_count": 15,
      "metadata": {
        "colab": {
          "base_uri": "https://localhost:8080/"
        },
        "id": "pO9tykrSFA22",
        "outputId": "191b89a4-a3fe-4433-ce3c-8f90ae1d6bd8"
      },
      "outputs": [
        {
          "output_type": "stream",
          "name": "stdout",
          "text": [
            "There are 2 directories and 0 images in './fashion_mnist_dataset'.\n",
            "There are 10 directories and 0 images in './fashion_mnist_dataset/test'.\n",
            "There are 0 directories and 1000 images in './fashion_mnist_dataset/test/sneaker'.\n",
            "There are 0 directories and 1000 images in './fashion_mnist_dataset/test/coat'.\n",
            "There are 0 directories and 1000 images in './fashion_mnist_dataset/test/shirt'.\n",
            "There are 0 directories and 1000 images in './fashion_mnist_dataset/test/bag'.\n",
            "There are 0 directories and 1000 images in './fashion_mnist_dataset/test/trouser'.\n",
            "There are 0 directories and 1000 images in './fashion_mnist_dataset/test/sandal'.\n",
            "There are 0 directories and 1000 images in './fashion_mnist_dataset/test/pullover'.\n",
            "There are 0 directories and 1000 images in './fashion_mnist_dataset/test/tshirt_top'.\n",
            "There are 0 directories and 1000 images in './fashion_mnist_dataset/test/dress'.\n",
            "There are 0 directories and 1000 images in './fashion_mnist_dataset/test/ankle_boot'.\n",
            "There are 10 directories and 0 images in './fashion_mnist_dataset/train'.\n",
            "There are 0 directories and 6000 images in './fashion_mnist_dataset/train/sneaker'.\n",
            "There are 0 directories and 6000 images in './fashion_mnist_dataset/train/coat'.\n",
            "There are 0 directories and 6000 images in './fashion_mnist_dataset/train/shirt'.\n",
            "There are 0 directories and 6000 images in './fashion_mnist_dataset/train/bag'.\n",
            "There are 0 directories and 6000 images in './fashion_mnist_dataset/train/trouser'.\n",
            "There are 0 directories and 6000 images in './fashion_mnist_dataset/train/sandal'.\n",
            "There are 0 directories and 6000 images in './fashion_mnist_dataset/train/pullover'.\n",
            "There are 0 directories and 6000 images in './fashion_mnist_dataset/train/tshirt_top'.\n",
            "There are 0 directories and 6000 images in './fashion_mnist_dataset/train/dress'.\n",
            "There are 0 directories and 6000 images in './fashion_mnist_dataset/train/ankle_boot'.\n"
          ]
        }
      ],
      "source": [
        "walk_through_dir(\"./fashion_mnist_dataset\")"
      ]
    },
    {
      "cell_type": "code",
      "execution_count": 16,
      "metadata": {
        "id": "aXGO9ElyFE4J"
      },
      "outputs": [],
      "source": [
        "import random\n",
        "from pathlib import Path\n",
        "from PIL import Image"
      ]
    },
    {
      "cell_type": "code",
      "execution_count": 17,
      "metadata": {
        "id": "qeDy38kvGCGC"
      },
      "outputs": [],
      "source": [
        "random.seed(42)\n",
        "base_dir = Path('./fashion_mnist_dataset')\n",
        "\n",
        "list_images = list(base_dir.glob(\"*/*/*.jpeg\"))"
      ]
    },
    {
      "cell_type": "code",
      "execution_count": 18,
      "metadata": {
        "id": "b7IjKef4Gd77"
      },
      "outputs": [],
      "source": [
        "image_path = random.choice(list_images)"
      ]
    },
    {
      "cell_type": "code",
      "execution_count": 19,
      "metadata": {
        "colab": {
          "base_uri": "https://localhost:8080/"
        },
        "id": "iYxMc1baHVbJ",
        "outputId": "a8e86117-5a6d-4800-f97a-395d58f958ce"
      },
      "outputs": [
        {
          "output_type": "execute_result",
          "data": {
            "text/plain": [
              "PosixPath('fashion_mnist_dataset/train/sneaker/image_3431.jpeg')"
            ]
          },
          "metadata": {},
          "execution_count": 19
        }
      ],
      "source": [
        "image_path"
      ]
    },
    {
      "cell_type": "code",
      "execution_count": 20,
      "metadata": {
        "id": "iS-CnXOOH_ag"
      },
      "outputs": [],
      "source": [
        "image_class = image_path.parent.stem"
      ]
    },
    {
      "cell_type": "code",
      "execution_count": 21,
      "metadata": {
        "id": "Ke68qX0ZJpPA"
      },
      "outputs": [],
      "source": [
        "image = Image.open(image_path)"
      ]
    },
    {
      "cell_type": "code",
      "execution_count": 22,
      "metadata": {
        "colab": {
          "base_uri": "https://localhost:8080/"
        },
        "id": "hlp6RsFSIh9I",
        "outputId": "9a8a23c6-eff0-4652-dbdf-39aaf92018ed"
      },
      "outputs": [
        {
          "output_type": "stream",
          "name": "stdout",
          "text": [
            "path of image is : fashion_mnist_dataset/train/sneaker/image_3431.jpeg\n",
            " Image class is : sneaker \n",
            "Image height is :28\n",
            "Image with is : 28\n"
          ]
        }
      ],
      "source": [
        "print(f'path of image is : {image_path}')\n",
        "print(f' Image class is : {image_class} ')\n",
        "print(f'Image height is :{image.height}')\n",
        "print(f'Image with is : {image.width}')\n",
        "\n"
      ]
    },
    {
      "cell_type": "code",
      "execution_count": 46,
      "metadata": {
        "colab": {
          "base_uri": "https://localhost:8080/",
          "height": 45
        },
        "id": "7o_C8lmOIj-t",
        "outputId": "9d30a485-c214-4c19-d7c6-13dc4ac770e6"
      },
      "outputs": [
        {
          "output_type": "execute_result",
          "data": {
            "text/plain": [
              "<PIL.JpegImagePlugin.JpegImageFile image mode=L size=28x28>"
            ],
            "image/png": "[encoded data removed]"
          },
          "metadata": {},
          "execution_count": 46
        }
      ],
      "source": [
        "image"
      ]
    },
    {
      "cell_type": "markdown",
      "metadata": {
        "id": "VAR1p-qoNTa_"
      },
      "source": [
        "We can do the same with **matplotlib.pyplot.imshow()**, except we have to convert the image to a NumPy array first."
      ]
    },
    {
      "cell_type": "code",
      "execution_count": 24,
      "metadata": {
        "id": "pflZutqCKfM9"
      },
      "outputs": [],
      "source": [
        "import matplotlib.pyplot as plt\n",
        "import numpy as np\n"
      ]
    },
    {
      "cell_type": "code",
      "execution_count": 25,
      "metadata": {
        "id": "RsEDaHTXLiOS"
      },
      "outputs": [],
      "source": [
        "from numpy import asarray"
      ]
    },
    {
      "cell_type": "code",
      "execution_count": 26,
      "metadata": {
        "id": "infSR26KLwol"
      },
      "outputs": [],
      "source": [
        "numpydata = asarray(image)"
      ]
    },
    {
      "cell_type": "code",
      "execution_count": 50,
      "metadata": {
        "colab": {
          "base_uri": "https://localhost:8080/",
          "height": 65
        },
        "id": "r5J1VG9eYL86",
        "outputId": "3819967e-de3f-466e-d39f-9c283162eaac"
      },
      "outputs": [
        {
          "output_type": "execute_result",
          "data": {
            "text/plain": [
              "array([[  0,   0,   0,   0,   0,   0,   0,   0,   0,   0,   0,   0,   0,\n",
              "          0,   0,   0,   0,   8,   0,  16,   0,   0,   6,   0,   0,   0,\n",
              "          0,   0],\n",
              "       [  0,   0,   0,   0,   0,   0,   0,   0,   0,   0,   0,   0,   0,\n",
              "          0,   0,   0,  10,   0,  12,   0,   0,   6,   0,   3,   0,   0,\n",
              "          0,   0],\n",
              "       [  0,   0,   0,   0,   0,   0,   0,   0,   0,   0,   0,   0,   0,\n",
              "          0,   0,   0,   0,   8,   0,   2,   0,   6,   0,   5,   0,   0,\n",
              "          0,   0],\n",
              "       [  0,   0,   0,   0,   0,   0,   0,   0,   0,   0,   0,   0,   0,\n",
              "          0,   0,   0,   1,   0,  18,   0,  10,   1,   0,   9,   0,   0,\n",
              "          0,   0],\n",
              "       [  0,   0,   0,   0,   0,   0,   0,   0,   0,   0,   0,   0,   0,\n",
              "          0,   0,   0,   3,   9,   0,   3,   8,   0,   6,   1,   0,   0,\n",
              "          0,   0],\n",
              "       [  0,   0,   0,   0,   0,   0,   0,   0,   0,   0,   0,   0,   0,\n",
              "          0,   0,   0,   0,   0,  13,   2,   0,   0,   6,   0,   0,   0,\n",
              "          0,   0],\n",
              "       [  0,   0,   0,   0,   0,   0,   0,   0,   0,   0,   0,   0,   0,\n",
              "          0,   0,   0,  14,   0, 179,  29,   6,  11,   0,   6,   0,   0,\n",
              "          0,   0],\n",
              "       [  0,   0,   0,   0,   0,   0,   0,   0,   0,   0,   0,   0,   0,\n",
              "          0,   0,   0,   6, 168, 210, 206,   0,   2,   9,   0,   0,   0,\n",
              "          0,   0],\n",
              "       [  0,   2,   3,   0,   0,   5,   4,   0,   0,   0,   4,   0,   0,\n",
              "          0,   5, 102, 165, 197, 159, 178, 127,   0,   0,   0,   0,  26,\n",
              "          2,   0],\n",
              "       [  6,   6,   5,   3,   1,   0,   0,   0,   5,   1,   0,   0,  13,\n",
              "          0,  86, 200, 180, 166, 189, 219, 208, 215, 224, 182, 143, 198,\n",
              "        128,   8],\n",
              "       [  0,   0,   0,   2,   3,   0,   0,   4,   0,   0,   0,   1,   1,\n",
              "         13, 172, 172, 179, 215, 183, 200, 229, 220, 228, 202, 187, 216,\n",
              "         90,   0],\n",
              "       [  2,   2,   2,   1,   1,   0,   0,   0,   9,   0,   8,   0,   0,\n",
              "        118, 226,  84,   6,  59, 224, 209, 170, 230, 210, 212, 189, 198,\n",
              "         33,   2],\n",
              "       [  0,   0,   0,   0,   0,   2,   2,   0,   0,   7,   0,  18, 171,\n",
              "        208, 156, 255, 176,   0,   0,  94, 186, 237, 193, 186, 195, 238,\n",
              "         99,   3],\n",
              "       [  6,  10,  10,   6,   5,   7,   6,   2,  10,   5,   0, 184, 228,\n",
              "        127, 183, 157, 228, 249, 174, 206, 229, 190, 218, 188, 193, 228,\n",
              "        168,   0],\n",
              "       [  0,   0,   0,   3,   4,   0,   0,   5,   2,  55, 202, 211, 165,\n",
              "        194, 225, 206, 181, 164, 216, 237, 208, 205, 204, 193, 219, 209,\n",
              "        203,   0],\n",
              "       [  8,   0,  15,  69,  99, 100, 120, 157, 164, 188, 177, 120, 200,\n",
              "        224, 227, 236, 227, 200, 199, 192, 208, 199, 163, 204, 218, 206,\n",
              "        214,   0],\n",
              "       [  0,  74, 144, 187, 172, 167, 190, 168, 182, 170, 180, 214, 236,\n",
              "        231, 225, 229, 209, 255, 181, 197, 234, 179, 191, 223, 205, 198,\n",
              "        253,  13],\n",
              "       [ 57, 173, 152, 152, 191, 186, 138, 157, 187, 172, 166, 174, 176,\n",
              "        171, 173, 183, 179, 185, 174, 204, 197, 193, 241, 216, 213, 204,\n",
              "        195,  59],\n",
              "       [ 81, 192, 178, 166, 164, 191, 173, 198, 183, 191, 206, 219, 222,\n",
              "        218, 218, 221, 225, 209, 225, 232, 189, 205, 242, 188, 173, 191,\n",
              "        199,  96],\n",
              "       [ 28, 152, 195, 195, 190, 190, 169, 189, 186, 193, 196, 192, 189,\n",
              "        192, 199, 203, 201, 205, 210, 192, 179, 189, 186, 171, 199, 183,\n",
              "        200,  40],\n",
              "       [  0,  29, 148, 203, 202, 218, 242, 190, 198, 205, 209, 207, 210,\n",
              "        217, 221, 219, 220, 230, 229, 214, 229, 233, 216, 238, 209, 209,\n",
              "        196,  20],\n",
              "       [  0,   0,   1,   0,  65,  92, 136, 184, 178, 182, 183, 179, 169,\n",
              "        155, 136, 121, 118, 105, 111, 112, 108, 109, 109, 120, 133, 132,\n",
              "         48,   7],\n",
              "       [  5,   0,  17,   0,  10,   0,   0,   0,  11,   5,   0,   0,   0,\n",
              "          0,   0,   6,   1,   0,   0,   6,   0,   0,  12,  10,   0,  20,\n",
              "          0,   2],\n",
              "       [  6,   0,   4,   0,   0,   9,   0,  10,   0,   0,   0,   4,   2,\n",
              "          0,   0,   4,   0,  14,   0,   0,   5,   0,   0,   0,   0,   1,\n",
              "          6,   0],\n",
              "       [  0,   0,   0,   0,   0,   0,   0,   0,   0,   0,   0,   0,   0,\n",
              "          0,   0,   0,   0,   0,   0,   0,   0,   0,   0,   0,   0,   0,\n",
              "          0,   0],\n",
              "       [  0,   0,   0,   0,   0,   0,   0,   0,   0,   0,   0,   0,   0,\n",
              "          0,   0,   0,   0,   0,   0,   0,   0,   0,   0,   0,   0,   0,\n",
              "          0,   0],\n",
              "       [  0,   0,   0,   0,   0,   0,   0,   0,   0,   0,   0,   0,   0,\n",
              "          0,   0,   0,   0,   0,   0,   0,   0,   0,   0,   0,   0,   0,\n",
              "          0,   0],\n",
              "       [  0,   0,   0,   0,   0,   0,   0,   0,   0,   0,   0,   0,   0,\n",
              "          0,   0,   0,   0,   0,   0,   0,   0,   0,   0,   0,   0,   0,\n",
              "          0,   0]], dtype=uint8)"
            ],
            "text/html": [
              "<style>\n",
              "      .ndarray_repr .ndarray_raw_data {\n",
              "        display: none;\n",
              "      }\n",
              "      .ndarray_repr.show_array .ndarray_raw_data {\n",
              "        display: block;\n",
              "      }\n",
              "      .ndarray_repr.show_array .ndarray_image_preview {\n",
              "        display: none;\n",
              "      }\n",
              "      </style>\n",
              "      <div id=\"id-1bc13c50-9b17-41d4-a191-bf2b2495aebc\" class=\"ndarray_repr\"><pre>ndarray (28, 28) <button style=\"padding: 0 2px;\">show data</button></pre><img src=\"data:image/png;base64,iVBORw0KGgoAAAANSUhEUgAAABwAAAAcCAAAAABXZoBIAAAB70lEQVR4nLWSPWhTURiG3/Odc8/9yd9tkjaxbWKxBKktUsE2OrooOBWE4uSiCK4i6Obq7qjgWtBBEEWyiUor/lAK/lQcxKYWtEl783eb3HPvccimyeg7fg+83zs8wN+x4ALynzMAwEEckOCDqQWChDGQMaThMNgDIbfBLUg2uBYJGjooiScFGRtC5crGB1D/JYE4YAgAAoBx9UHhffV25APjBCaho0gDhtJINJev7zZyxbZpf9osV+6IHkAUQgQAayWWq+aJ77WCL7JG+usBEZGOAGXD0vra4sqFKzP2a6fuUH2V+iuIABPph+v39WPgUqX2ovKyfpkzKaA0aWUFwfO5e6d+nht9OpXbnPxhTL+6yABwpmCEC3ftjcLh2s7eydGtULfHO70FZh2kFossWzLz7dWlPLf9bd11/W8zyZZ1jOH82VkvyP1KtpwjY0FP7B5/5pbexKfq3bLLTt/4jaPBeqbo9SwKyFGyXeyq+Z3Q92+JfMZobU9MH/IyqQRX4GLfNT+6rOqlrZJ4+2V2JNDK59RphNwUkfDqHax5k/v2GkPhZlm7+XeWKSJuiog52kuJvbEtNJcYwPSZibn5nmCq06h5YVMyxRBL6EefYWAEDoBY3xrJAAnEHWRBkBCADQeAIEAgib5dbIgN/zl/AIOLpuJTfi5mAAAAAElFTkSuQmCC\" class=\"ndarray_image_preview\" /><pre class=\"ndarray_raw_data\">array([[  0,   0,   0,   0,   0,   0,   0,   0,   0,   0,   0,   0,   0,\n",
              "          0,   0,   0,   0,   8,   0,  16,   0,   0,   6,   0,   0,   0,\n",
              "          0,   0],\n",
              "       [  0,   0,   0,   0,   0,   0,   0,   0,   0,   0,   0,   0,   0,\n",
              "          0,   0,   0,  10,   0,  12,   0,   0,   6,   0,   3,   0,   0,\n",
              "          0,   0],\n",
              "       [  0,   0,   0,   0,   0,   0,   0,   0,   0,   0,   0,   0,   0,\n",
              "          0,   0,   0,   0,   8,   0,   2,   0,   6,   0,   5,   0,   0,\n",
              "          0,   0],\n",
              "       [  0,   0,   0,   0,   0,   0,   0,   0,   0,   0,   0,   0,   0,\n",
              "          0,   0,   0,   1,   0,  18,   0,  10,   1,   0,   9,   0,   0,\n",
              "          0,   0],\n",
              "       [  0,   0,   0,   0,   0,   0,   0,   0,   0,   0,   0,   0,   0,\n",
              "          0,   0,   0,   3,   9,   0,   3,   8,   0,   6,   1,   0,   0,\n",
              "          0,   0],\n",
              "       [  0,   0,   0,   0,   0,   0,   0,   0,   0,   0,   0,   0,   0,\n",
              "          0,   0,   0,   0,   0,  13,   2,   0,   0,   6,   0,   0,   0,\n",
              "          0,   0],\n",
              "       [  0,   0,   0,   0,   0,   0,   0,   0,   0,   0,   0,   0,   0,\n",
              "          0,   0,   0,  14,   0, 179,  29,   6,  11,   0,   6,   0,   0,\n",
              "          0,   0],\n",
              "       [  0,   0,   0,   0,   0,   0,   0,   0,   0,   0,   0,   0,   0,\n",
              "          0,   0,   0,   6, 168, 210, 206,   0,   2,   9,   0,   0,   0,\n",
              "          0,   0],\n",
              "       [  0,   2,   3,   0,   0,   5,   4,   0,   0,   0,   4,   0,   0,\n",
              "          0,   5, 102, 165, 197, 159, 178, 127,   0,   0,   0,   0,  26,\n",
              "          2,   0],\n",
              "       [  6,   6,   5,   3,   1,   0,   0,   0,   5,   1,   0,   0,  13,\n",
              "          0,  86, 200, 180, 166, 189, 219, 208, 215, 224, 182, 143, 198,\n",
              "        128,   8],\n",
              "       [  0,   0,   0,   2,   3,   0,   0,   4,   0,   0,   0,   1,   1,\n",
              "         13, 172, 172, 179, 215, 183, 200, 229, 220, 228, 202, 187, 216,\n",
              "         90,   0],\n",
              "       [  2,   2,   2,   1,   1,   0,   0,   0,   9,   0,   8,   0,   0,\n",
              "        118, 226,  84,   6,  59, 224, 209, 170, 230, 210, 212, 189, 198,\n",
              "         33,   2],\n",
              "       [  0,   0,   0,   0,   0,   2,   2,   0,   0,   7,   0,  18, 171,\n",
              "        208, 156, 255, 176,   0,   0,  94, 186, 237, 193, 186, 195, 238,\n",
              "         99,   3],\n",
              "       [  6,  10,  10,   6,   5,   7,   6,   2,  10,   5,   0, 184, 228,\n",
              "        127, 183, 157, 228, 249, 174, 206, 229, 190, 218, 188, 193, 228,\n",
              "        168,   0],\n",
              "       [  0,   0,   0,   3,   4,   0,   0,   5,   2,  55, 202, 211, 165,\n",
              "        194, 225, 206, 181, 164, 216, 237, 208, 205, 204, 193, 219, 209,\n",
              "        203,   0],\n",
              "       [  8,   0,  15,  69,  99, 100, 120, 157, 164, 188, 177, 120, 200,\n",
              "        224, 227, 236, 227, 200, 199, 192, 208, 199, 163, 204, 218, 206,\n",
              "        214,   0],\n",
              "       [  0,  74, 144, 187, 172, 167, 190, 168, 182, 170, 180, 214, 236,\n",
              "        231, 225, 229, 209, 255, 181, 197, 234, 179, 191, 223, 205, 198,\n",
              "        253,  13],\n",
              "       [ 57, 173, 152, 152, 191, 186, 138, 157, 187, 172, 166, 174, 176,\n",
              "        171, 173, 183, 179, 185, 174, 204, 197, 193, 241, 216, 213, 204,\n",
              "        195,  59],\n",
              "       [ 81, 192, 178, 166, 164, 191, 173, 198, 183, 191, 206, 219, 222,\n",
              "        218, 218, 221, 225, 209, 225, 232, 189, 205, 242, 188, 173, 191,\n",
              "        199,  96],\n",
              "       [ 28, 152, 195, 195, 190, 190, 169, 189, 186, 193, 196, 192, 189,\n",
              "        192, 199, 203, 201, 205, 210, 192, 179, 189, 186, 171, 199, 183,\n",
              "        200,  40],\n",
              "       [  0,  29, 148, 203, 202, 218, 242, 190, 198, 205, 209, 207, 210,\n",
              "        217, 221, 219, 220, 230, 229, 214, 229, 233, 216, 238, 209, 209,\n",
              "        196,  20],\n",
              "       [  0,   0,   1,   0,  65,  92, 136, 184, 178, 182, 183, 179, 169,\n",
              "        155, 136, 121, 118, 105, 111, 112, 108, 109, 109, 120, 133, 132,\n",
              "         48,   7],\n",
              "       [  5,   0,  17,   0,  10,   0,   0,   0,  11,   5,   0,   0,   0,\n",
              "          0,   0,   6,   1,   0,   0,   6,   0,   0,  12,  10,   0,  20,\n",
              "          0,   2],\n",
              "       [  6,   0,   4,   0,   0,   9,   0,  10,   0,   0,   0,   4,   2,\n",
              "          0,   0,   4,   0,  14,   0,   0,   5,   0,   0,   0,   0,   1,\n",
              "          6,   0],\n",
              "       [  0,   0,   0,   0,   0,   0,   0,   0,   0,   0,   0,   0,   0,\n",
              "          0,   0,   0,   0,   0,   0,   0,   0,   0,   0,   0,   0,   0,\n",
              "          0,   0],\n",
              "       [  0,   0,   0,   0,   0,   0,   0,   0,   0,   0,   0,   0,   0,\n",
              "          0,   0,   0,   0,   0,   0,   0,   0,   0,   0,   0,   0,   0,\n",
              "          0,   0],\n",
              "       [  0,   0,   0,   0,   0,   0,   0,   0,   0,   0,   0,   0,   0,\n",
              "          0,   0,   0,   0,   0,   0,   0,   0,   0,   0,   0,   0,   0,\n",
              "          0,   0],\n",
              "       [  0,   0,   0,   0,   0,   0,   0,   0,   0,   0,   0,   0,   0,\n",
              "          0,   0,   0,   0,   0,   0,   0,   0,   0,   0,   0,   0,   0,\n",
              "          0,   0]], dtype=uint8)</pre></div><script>\n",
              "      (() => {\n",
              "      const titles = ['show data', 'hide data'];\n",
              "      let index = 0\n",
              "      document.querySelector('#id-1bc13c50-9b17-41d4-a191-bf2b2495aebc button').onclick = (e) => {\n",
              "        document.querySelector('#id-1bc13c50-9b17-41d4-a191-bf2b2495aebc').classList.toggle('show_array');\n",
              "        index = (++index) % 2;\n",
              "        document.querySelector('#id-1bc13c50-9b17-41d4-a191-bf2b2495aebc button').textContent = titles[index];\n",
              "        e.preventDefault();\n",
              "        e.stopPropagation();\n",
              "      }\n",
              "      })();\n",
              "    </script>"
            ]
          },
          "metadata": {},
          "execution_count": 50
        }
      ],
      "source": [
        "numpydata"
      ]
    },
    {
      "cell_type": "code",
      "execution_count": 28,
      "metadata": {
        "id": "7jFa1QX8YNnN"
      },
      "outputs": [],
      "source": [
        "np_img = np.array(image)"
      ]
    },
    {
      "cell_type": "code",
      "execution_count": 29,
      "metadata": {
        "colab": {
          "base_uri": "https://localhost:8080/",
          "height": 65
        },
        "id": "bBSQVIICYcZ8",
        "outputId": "3c04b390-ab11-4344-f9f4-46b9819a6646"
      },
      "outputs": [
        {
          "output_type": "execute_result",
          "data": {
            "text/plain": [
              "array([[  0,   0,   0,   0,   0,   0,   0,   0,   0,   0,   0,   0,   0,\n",
              "          0,   0,   0,   0,   8,   0,  16,   0,   0,   6,   0,   0,   0,\n",
              "          0,   0],\n",
              "       [  0,   0,   0,   0,   0,   0,   0,   0,   0,   0,   0,   0,   0,\n",
              "          0,   0,   0,  10,   0,  12,   0,   0,   6,   0,   3,   0,   0,\n",
              "          0,   0],\n",
              "       [  0,   0,   0,   0,   0,   0,   0,   0,   0,   0,   0,   0,   0,\n",
              "          0,   0,   0,   0,   8,   0,   2,   0,   6,   0,   5,   0,   0,\n",
              "          0,   0],\n",
              "       [  0,   0,   0,   0,   0,   0,   0,   0,   0,   0,   0,   0,   0,\n",
              "          0,   0,   0,   1,   0,  18,   0,  10,   1,   0,   9,   0,   0,\n",
              "          0,   0],\n",
              "       [  0,   0,   0,   0,   0,   0,   0,   0,   0,   0,   0,   0,   0,\n",
              "          0,   0,   0,   3,   9,   0,   3,   8,   0,   6,   1,   0,   0,\n",
              "          0,   0],\n",
              "       [  0,   0,   0,   0,   0,   0,   0,   0,   0,   0,   0,   0,   0,\n",
              "          0,   0,   0,   0,   0,  13,   2,   0,   0,   6,   0,   0,   0,\n",
              "          0,   0],\n",
              "       [  0,   0,   0,   0,   0,   0,   0,   0,   0,   0,   0,   0,   0,\n",
              "          0,   0,   0,  14,   0, 179,  29,   6,  11,   0,   6,   0,   0,\n",
              "          0,   0],\n",
              "       [  0,   0,   0,   0,   0,   0,   0,   0,   0,   0,   0,   0,   0,\n",
              "          0,   0,   0,   6, 168, 210, 206,   0,   2,   9,   0,   0,   0,\n",
              "          0,   0],\n",
              "       [  0,   2,   3,   0,   0,   5,   4,   0,   0,   0,   4,   0,   0,\n",
              "          0,   5, 102, 165, 197, 159, 178, 127,   0,   0,   0,   0,  26,\n",
              "          2,   0],\n",
              "       [  6,   6,   5,   3,   1,   0,   0,   0,   5,   1,   0,   0,  13,\n",
              "          0,  86, 200, 180, 166, 189, 219, 208, 215, 224, 182, 143, 198,\n",
              "        128,   8],\n",
              "       [  0,   0,   0,   2,   3,   0,   0,   4,   0,   0,   0,   1,   1,\n",
              "         13, 172, 172, 179, 215, 183, 200, 229, 220, 228, 202, 187, 216,\n",
              "         90,   0],\n",
              "       [  2,   2,   2,   1,   1,   0,   0,   0,   9,   0,   8,   0,   0,\n",
              "        118, 226,  84,   6,  59, 224, 209, 170, 230, 210, 212, 189, 198,\n",
              "         33,   2],\n",
              "       [  0,   0,   0,   0,   0,   2,   2,   0,   0,   7,   0,  18, 171,\n",
              "        208, 156, 255, 176,   0,   0,  94, 186, 237, 193, 186, 195, 238,\n",
              "         99,   3],\n",
              "       [  6,  10,  10,   6,   5,   7,   6,   2,  10,   5,   0, 184, 228,\n",
              "        127, 183, 157, 228, 249, 174, 206, 229, 190, 218, 188, 193, 228,\n",
              "        168,   0],\n",
              "       [  0,   0,   0,   3,   4,   0,   0,   5,   2,  55, 202, 211, 165,\n",
              "        194, 225, 206, 181, 164, 216, 237, 208, 205, 204, 193, 219, 209,\n",
              "        203,   0],\n",
              "       [  8,   0,  15,  69,  99, 100, 120, 157, 164, 188, 177, 120, 200,\n",
              "        224, 227, 236, 227, 200, 199, 192, 208, 199, 163, 204, 218, 206,\n",
              "        214,   0],\n",
              "       [  0,  74, 144, 187, 172, 167, 190, 168, 182, 170, 180, 214, 236,\n",
              "        231, 225, 229, 209, 255, 181, 197, 234, 179, 191, 223, 205, 198,\n",
              "        253,  13],\n",
              "       [ 57, 173, 152, 152, 191, 186, 138, 157, 187, 172, 166, 174, 176,\n",
              "        171, 173, 183, 179, 185, 174, 204, 197, 193, 241, 216, 213, 204,\n",
              "        195,  59],\n",
              "       [ 81, 192, 178, 166, 164, 191, 173, 198, 183, 191, 206, 219, 222,\n",
              "        218, 218, 221, 225, 209, 225, 232, 189, 205, 242, 188, 173, 191,\n",
              "        199,  96],\n",
              "       [ 28, 152, 195, 195, 190, 190, 169, 189, 186, 193, 196, 192, 189,\n",
              "        192, 199, 203, 201, 205, 210, 192, 179, 189, 186, 171, 199, 183,\n",
              "        200,  40],\n",
              "       [  0,  29, 148, 203, 202, 218, 242, 190, 198, 205, 209, 207, 210,\n",
              "        217, 221, 219, 220, 230, 229, 214, 229, 233, 216, 238, 209, 209,\n",
              "        196,  20],\n",
              "       [  0,   0,   1,   0,  65,  92, 136, 184, 178, 182, 183, 179, 169,\n",
              "        155, 136, 121, 118, 105, 111, 112, 108, 109, 109, 120, 133, 132,\n",
              "         48,   7],\n",
              "       [  5,   0,  17,   0,  10,   0,   0,   0,  11,   5,   0,   0,   0,\n",
              "          0,   0,   6,   1,   0,   0,   6,   0,   0,  12,  10,   0,  20,\n",
              "          0,   2],\n",
              "       [  6,   0,   4,   0,   0,   9,   0,  10,   0,   0,   0,   4,   2,\n",
              "          0,   0,   4,   0,  14,   0,   0,   5,   0,   0,   0,   0,   1,\n",
              "          6,   0],\n",
              "       [  0,   0,   0,   0,   0,   0,   0,   0,   0,   0,   0,   0,   0,\n",
              "          0,   0,   0,   0,   0,   0,   0,   0,   0,   0,   0,   0,   0,\n",
              "          0,   0],\n",
              "       [  0,   0,   0,   0,   0,   0,   0,   0,   0,   0,   0,   0,   0,\n",
              "          0,   0,   0,   0,   0,   0,   0,   0,   0,   0,   0,   0,   0,\n",
              "          0,   0],\n",
              "       [  0,   0,   0,   0,   0,   0,   0,   0,   0,   0,   0,   0,   0,\n",
              "          0,   0,   0,   0,   0,   0,   0,   0,   0,   0,   0,   0,   0,\n",
              "          0,   0],\n",
              "       [  0,   0,   0,   0,   0,   0,   0,   0,   0,   0,   0,   0,   0,\n",
              "          0,   0,   0,   0,   0,   0,   0,   0,   0,   0,   0,   0,   0,\n",
              "          0,   0]], dtype=uint8)"
            ],
            "text/html": [
              "<style>\n",
              "      .ndarray_repr .ndarray_raw_data {\n",
              "        display: none;\n",
              "      }\n",
              "      .ndarray_repr.show_array .ndarray_raw_data {\n",
              "        display: block;\n",
              "      }\n",
              "      .ndarray_repr.show_array .ndarray_image_preview {\n",
              "        display: none;\n",
              "      }\n",
              "      </style>\n",
              "      <div id=\"id-2a48382b-8a78-4dbe-8915-51b96c4184f8\" class=\"ndarray_repr\"><pre>ndarray (28, 28) <button style=\"padding: 0 2px;\">show data</button></pre><img src=\"data:image/png;base64,iVBORw0KGgoAAAANSUhEUgAAABwAAAAcCAAAAABXZoBIAAAB70lEQVR4nLWSPWhTURiG3/Odc8/9yd9tkjaxbWKxBKktUsE2OrooOBWE4uSiCK4i6Obq7qjgWtBBEEWyiUor/lAK/lQcxKYWtEl783eb3HPvccimyeg7fg+83zs8wN+x4ALynzMAwEEckOCDqQWChDGQMaThMNgDIbfBLUg2uBYJGjooiScFGRtC5crGB1D/JYE4YAgAAoBx9UHhffV25APjBCaho0gDhtJINJev7zZyxbZpf9osV+6IHkAUQgQAayWWq+aJ77WCL7JG+usBEZGOAGXD0vra4sqFKzP2a6fuUH2V+iuIABPph+v39WPgUqX2ovKyfpkzKaA0aWUFwfO5e6d+nht9OpXbnPxhTL+6yABwpmCEC3ftjcLh2s7eydGtULfHO70FZh2kFossWzLz7dWlPLf9bd11/W8zyZZ1jOH82VkvyP1KtpwjY0FP7B5/5pbexKfq3bLLTt/4jaPBeqbo9SwKyFGyXeyq+Z3Q92+JfMZobU9MH/IyqQRX4GLfNT+6rOqlrZJ4+2V2JNDK59RphNwUkfDqHax5k/v2GkPhZlm7+XeWKSJuiog52kuJvbEtNJcYwPSZibn5nmCq06h5YVMyxRBL6EefYWAEDoBY3xrJAAnEHWRBkBCADQeAIEAgib5dbIgN/zl/AIOLpuJTfi5mAAAAAElFTkSuQmCC\" class=\"ndarray_image_preview\" /><pre class=\"ndarray_raw_data\">array([[  0,   0,   0,   0,   0,   0,   0,   0,   0,   0,   0,   0,   0,\n",
              "          0,   0,   0,   0,   8,   0,  16,   0,   0,   6,   0,   0,   0,\n",
              "          0,   0],\n",
              "       [  0,   0,   0,   0,   0,   0,   0,   0,   0,   0,   0,   0,   0,\n",
              "          0,   0,   0,  10,   0,  12,   0,   0,   6,   0,   3,   0,   0,\n",
              "          0,   0],\n",
              "       [  0,   0,   0,   0,   0,   0,   0,   0,   0,   0,   0,   0,   0,\n",
              "          0,   0,   0,   0,   8,   0,   2,   0,   6,   0,   5,   0,   0,\n",
              "          0,   0],\n",
              "       [  0,   0,   0,   0,   0,   0,   0,   0,   0,   0,   0,   0,   0,\n",
              "          0,   0,   0,   1,   0,  18,   0,  10,   1,   0,   9,   0,   0,\n",
              "          0,   0],\n",
              "       [  0,   0,   0,   0,   0,   0,   0,   0,   0,   0,   0,   0,   0,\n",
              "          0,   0,   0,   3,   9,   0,   3,   8,   0,   6,   1,   0,   0,\n",
              "          0,   0],\n",
              "       [  0,   0,   0,   0,   0,   0,   0,   0,   0,   0,   0,   0,   0,\n",
              "          0,   0,   0,   0,   0,  13,   2,   0,   0,   6,   0,   0,   0,\n",
              "          0,   0],\n",
              "       [  0,   0,   0,   0,   0,   0,   0,   0,   0,   0,   0,   0,   0,\n",
              "          0,   0,   0,  14,   0, 179,  29,   6,  11,   0,   6,   0,   0,\n",
              "          0,   0],\n",
              "       [  0,   0,   0,   0,   0,   0,   0,   0,   0,   0,   0,   0,   0,\n",
              "          0,   0,   0,   6, 168, 210, 206,   0,   2,   9,   0,   0,   0,\n",
              "          0,   0],\n",
              "       [  0,   2,   3,   0,   0,   5,   4,   0,   0,   0,   4,   0,   0,\n",
              "          0,   5, 102, 165, 197, 159, 178, 127,   0,   0,   0,   0,  26,\n",
              "          2,   0],\n",
              "       [  6,   6,   5,   3,   1,   0,   0,   0,   5,   1,   0,   0,  13,\n",
              "          0,  86, 200, 180, 166, 189, 219, 208, 215, 224, 182, 143, 198,\n",
              "        128,   8],\n",
              "       [  0,   0,   0,   2,   3,   0,   0,   4,   0,   0,   0,   1,   1,\n",
              "         13, 172, 172, 179, 215, 183, 200, 229, 220, 228, 202, 187, 216,\n",
              "         90,   0],\n",
              "       [  2,   2,   2,   1,   1,   0,   0,   0,   9,   0,   8,   0,   0,\n",
              "        118, 226,  84,   6,  59, 224, 209, 170, 230, 210, 212, 189, 198,\n",
              "         33,   2],\n",
              "       [  0,   0,   0,   0,   0,   2,   2,   0,   0,   7,   0,  18, 171,\n",
              "        208, 156, 255, 176,   0,   0,  94, 186, 237, 193, 186, 195, 238,\n",
              "         99,   3],\n",
              "       [  6,  10,  10,   6,   5,   7,   6,   2,  10,   5,   0, 184, 228,\n",
              "        127, 183, 157, 228, 249, 174, 206, 229, 190, 218, 188, 193, 228,\n",
              "        168,   0],\n",
              "       [  0,   0,   0,   3,   4,   0,   0,   5,   2,  55, 202, 211, 165,\n",
              "        194, 225, 206, 181, 164, 216, 237, 208, 205, 204, 193, 219, 209,\n",
              "        203,   0],\n",
              "       [  8,   0,  15,  69,  99, 100, 120, 157, 164, 188, 177, 120, 200,\n",
              "        224, 227, 236, 227, 200, 199, 192, 208, 199, 163, 204, 218, 206,\n",
              "        214,   0],\n",
              "       [  0,  74, 144, 187, 172, 167, 190, 168, 182, 170, 180, 214, 236,\n",
              "        231, 225, 229, 209, 255, 181, 197, 234, 179, 191, 223, 205, 198,\n",
              "        253,  13],\n",
              "       [ 57, 173, 152, 152, 191, 186, 138, 157, 187, 172, 166, 174, 176,\n",
              "        171, 173, 183, 179, 185, 174, 204, 197, 193, 241, 216, 213, 204,\n",
              "        195,  59],\n",
              "       [ 81, 192, 178, 166, 164, 191, 173, 198, 183, 191, 206, 219, 222,\n",
              "        218, 218, 221, 225, 209, 225, 232, 189, 205, 242, 188, 173, 191,\n",
              "        199,  96],\n",
              "       [ 28, 152, 195, 195, 190, 190, 169, 189, 186, 193, 196, 192, 189,\n",
              "        192, 199, 203, 201, 205, 210, 192, 179, 189, 186, 171, 199, 183,\n",
              "        200,  40],\n",
              "       [  0,  29, 148, 203, 202, 218, 242, 190, 198, 205, 209, 207, 210,\n",
              "        217, 221, 219, 220, 230, 229, 214, 229, 233, 216, 238, 209, 209,\n",
              "        196,  20],\n",
              "       [  0,   0,   1,   0,  65,  92, 136, 184, 178, 182, 183, 179, 169,\n",
              "        155, 136, 121, 118, 105, 111, 112, 108, 109, 109, 120, 133, 132,\n",
              "         48,   7],\n",
              "       [  5,   0,  17,   0,  10,   0,   0,   0,  11,   5,   0,   0,   0,\n",
              "          0,   0,   6,   1,   0,   0,   6,   0,   0,  12,  10,   0,  20,\n",
              "          0,   2],\n",
              "       [  6,   0,   4,   0,   0,   9,   0,  10,   0,   0,   0,   4,   2,\n",
              "          0,   0,   4,   0,  14,   0,   0,   5,   0,   0,   0,   0,   1,\n",
              "          6,   0],\n",
              "       [  0,   0,   0,   0,   0,   0,   0,   0,   0,   0,   0,   0,   0,\n",
              "          0,   0,   0,   0,   0,   0,   0,   0,   0,   0,   0,   0,   0,\n",
              "          0,   0],\n",
              "       [  0,   0,   0,   0,   0,   0,   0,   0,   0,   0,   0,   0,   0,\n",
              "          0,   0,   0,   0,   0,   0,   0,   0,   0,   0,   0,   0,   0,\n",
              "          0,   0],\n",
              "       [  0,   0,   0,   0,   0,   0,   0,   0,   0,   0,   0,   0,   0,\n",
              "          0,   0,   0,   0,   0,   0,   0,   0,   0,   0,   0,   0,   0,\n",
              "          0,   0],\n",
              "       [  0,   0,   0,   0,   0,   0,   0,   0,   0,   0,   0,   0,   0,\n",
              "          0,   0,   0,   0,   0,   0,   0,   0,   0,   0,   0,   0,   0,\n",
              "          0,   0]], dtype=uint8)</pre></div><script>\n",
              "      (() => {\n",
              "      const titles = ['show data', 'hide data'];\n",
              "      let index = 0\n",
              "      document.querySelector('#id-2a48382b-8a78-4dbe-8915-51b96c4184f8 button').onclick = (e) => {\n",
              "        document.querySelector('#id-2a48382b-8a78-4dbe-8915-51b96c4184f8').classList.toggle('show_array');\n",
              "        index = (++index) % 2;\n",
              "        document.querySelector('#id-2a48382b-8a78-4dbe-8915-51b96c4184f8 button').textContent = titles[index];\n",
              "        e.preventDefault();\n",
              "        e.stopPropagation();\n",
              "      }\n",
              "      })();\n",
              "    </script>"
            ]
          },
          "metadata": {},
          "execution_count": 29
        }
      ],
      "source": [
        "np_img"
      ]
    },
    {
      "cell_type": "code",
      "execution_count": 30,
      "metadata": {
        "colab": {
          "base_uri": "https://localhost:8080/",
          "height": 617
        },
        "id": "xZAB5JXkYgix",
        "outputId": "ea372982-4b5e-4fa3-c430-666944f7c435"
      },
      "outputs": [
        {
          "output_type": "execute_result",
          "data": {
            "text/plain": [
              "<matplotlib.image.AxesImage at 0x7a67ab733730>"
            ]
          },
          "metadata": {},
          "execution_count": 30
        },
        {
          "output_type": "display_data",
          "data": {
            "text/plain": [
              "<Figure size 1000x700 with 1 Axes>"
            ],
            "image/png": "[encoded data removed]"
          },
          "metadata": {}
        }
      ],
      "source": [
        "plt.figure(figsize=(10, 7))\n",
        "plt.imshow(np_img)"
      ]
    },
    {
      "cell_type": "markdown",
      "metadata": {
        "id": "m2hjS4znZ0Zv"
      },
      "source": [
        "## Transforming data"
      ]
    },
    {
      "cell_type": "code",
      "execution_count": 31,
      "metadata": {
        "id": "ELU9fBZxS5o3"
      },
      "outputs": [],
      "source": [
        "import torch\n",
        "from torchvision import datasets ,transforms"
      ]
    },
    {
      "cell_type": "markdown",
      "metadata": {
        "id": "UuGJB86Pbp-5"
      },
      "source": [
        "Transform the data using **torchvision.datasets** for loading our dataset and **torchvision.transform** for preparing our data"
      ]
    },
    {
      "cell_type": "markdown",
      "source": [
        "I 'm going to build a  to create a custom Dataste to replacite ImageFolder\n",
        "let's break  down\n",
        "\n",
        "1 : create subclass  of *torch.utils.data.Dataset*\n",
        "\n",
        "2 : as intialize our subclass with *targ_dir paremater* (the trajectoire of our data directory )  and  *transform* ( so we have the option of transform our data  if we  needed )\n",
        "\n",
        "3:  create several attributes  like *paths* (paths for images )  and *trabsform* (the transform we can use it if we like but if not we can intialize it as  None )  class_names and classses _to_index ( we can create a function that return classes_names and classes_to_index we named as *find_classes()*)\n",
        "\n",
        "4 : create a function  to load images from file and returm them\n",
        "\n",
        "5 : overwrite the function __len__ method  of torch.utile.data.dataset that return the number of samples that exist  in the Dataset ,this is recommended but is not required\n",
        "\n",
        "6 :  overwrite the fucntion __getitem__ method  of torch.utile.dataset to return  a single sample from dataset , this is required"
      ],
      "metadata": {
        "id": "KNEFFY_bKPIy"
      }
    },
    {
      "cell_type": "markdown",
      "metadata": {
        "id": "u1P2eUvAS5o3"
      },
      "source": [
        "Lest 's code that"
      ]
    },
    {
      "cell_type": "code",
      "source": [
        "from torch.utils.data import Dataset\n",
        "\n",
        "from typing import List ,Tuple ,Dict"
      ],
      "metadata": {
        "id": "HgB_vG95QmUO"
      },
      "execution_count": 32,
      "outputs": []
    },
    {
      "cell_type": "code",
      "source": [
        "def  find_class (directory :str )-> Tuple[List[str],Dict[str ,int]]:\n",
        "\n",
        "  classes  = sorted(entry.name for entry in os.scandir(directory) if entry.is_dir() or entry.is_file())\n",
        "\n",
        "  classes_to_index = {cols_name:i for i , cols_name in enumerate(classes)}\n",
        "\n",
        "  return classes ,classes_to_index"
      ],
      "metadata": {
        "id": "pdYP1GZVUCK3"
      },
      "execution_count": 33,
      "outputs": []
    },
    {
      "cell_type": "code",
      "source": [
        "find_class(test_dir)"
      ],
      "metadata": {
        "colab": {
          "base_uri": "https://localhost:8080/"
        },
        "id": "7yf6JMvEXdB3",
        "outputId": "9cc4ef39-aa1f-435d-e1e6-202dd8f0ed7d"
      },
      "execution_count": 34,
      "outputs": [
        {
          "output_type": "execute_result",
          "data": {
            "text/plain": [
              "(['ankle_boot',\n",
              "  'bag',\n",
              "  'coat',\n",
              "  'dress',\n",
              "  'pullover',\n",
              "  'sandal',\n",
              "  'shirt',\n",
              "  'sneaker',\n",
              "  'trouser',\n",
              "  'tshirt_top'],\n",
              " {'ankle_boot': 0,\n",
              "  'bag': 1,\n",
              "  'coat': 2,\n",
              "  'dress': 3,\n",
              "  'pullover': 4,\n",
              "  'sandal': 5,\n",
              "  'shirt': 6,\n",
              "  'sneaker': 7,\n",
              "  'trouser': 8,\n",
              "  'tshirt_top': 9})"
            ]
          },
          "metadata": {},
          "execution_count": 34
        }
      ]
    },
    {
      "cell_type": "code",
      "source": [
        " l = list(base_dir.glob(\"*/*/*.jpeg\"))\n",
        " l[5].parent.name"
      ],
      "metadata": {
        "colab": {
          "base_uri": "https://localhost:8080/",
          "height": 35
        },
        "id": "2PK4n7Axm1ez",
        "outputId": "bfa873c2-1cd9-49dd-9766-89be6aa6eb4b"
      },
      "execution_count": 35,
      "outputs": [
        {
          "output_type": "execute_result",
          "data": {
            "text/plain": [
              "'sneaker'"
            ],
            "application/vnd.google.colaboratory.intrinsic+json": {
              "type": "string"
            }
          },
          "metadata": {},
          "execution_count": 35
        }
      ]
    },
    {
      "cell_type": "code",
      "source": [
        "# import torch\n",
        "# from PIL import Image\n",
        "# from torchvision import transforms\n",
        "\n",
        "# def transform_to_tensor(image: Image.Image) -> torch.Tensor:\n",
        "#     transform = transforms.Compose([\n",
        "#         transforms.Resize((28, 28)),  # Pass a tuple here\n",
        "#         transforms.ToTensor(),\n",
        "#         transforms.RandomVerticalFlip(p=0.5)\n",
        "#     ])\n",
        "\n",
        "#     return transform(image)\n"
      ],
      "metadata": {
        "id": "Wvlwki57AWh0"
      },
      "execution_count": 36,
      "outputs": []
    },
    {
      "cell_type": "code",
      "source": [
        " def transform_ToTenser(image: Image.Image) ->torch.Tensor:\n",
        "  transform = transforms.Compose([transforms.Resize((64,64)),\n",
        "                                  transforms.ToTensor(),\n",
        "                                  transforms.RandomVerticalFlip(p = 0.5)])\n",
        "\n",
        "  return transform(image)\n",
        "\n",
        "\n",
        "\n"
      ],
      "metadata": {
        "id": "NFqOrCO-kLB5"
      },
      "execution_count": 110,
      "outputs": []
    },
    {
      "cell_type": "code",
      "source": [
        "transform_ToTenser(image)[0][20]"
      ],
      "metadata": {
        "colab": {
          "base_uri": "https://localhost:8080/"
        },
        "id": "lZW3CxG3Xi-7",
        "outputId": "7c9afbdc-a3ae-4f8c-d81c-f012ee1b0928"
      },
      "execution_count": 114,
      "outputs": [
        {
          "output_type": "execute_result",
          "data": {
            "text/plain": [
              "tensor([0.0118, 0.0118, 0.0118, 0.0157, 0.0157, 0.0157, 0.0118, 0.0078, 0.0039,\n",
              "        0.0039, 0.0000, 0.0078, 0.0118, 0.0118, 0.0078, 0.0078, 0.0039, 0.0000,\n",
              "        0.0039, 0.0078, 0.0039, 0.0000, 0.0039, 0.0078, 0.0078, 0.0039, 0.0000,\n",
              "        0.0118, 0.0235, 0.0157, 0.0039, 0.0471, 0.1216, 0.2314, 0.4157, 0.5843,\n",
              "        0.6275, 0.6667, 0.6902, 0.7059, 0.7098, 0.6902, 0.6902, 0.7294, 0.7686,\n",
              "        0.7216, 0.6667, 0.5765, 0.4667, 0.3961, 0.4039, 0.4118, 0.3765, 0.3412,\n",
              "        0.3098, 0.2784, 0.2980, 0.3647, 0.4000, 0.3216, 0.2471, 0.1490, 0.0510,\n",
              "        0.0157])"
            ]
          },
          "metadata": {},
          "execution_count": 114
        }
      ]
    },
    {
      "cell_type": "code",
      "source": [
        "img3 = Image.open(l[200])\n",
        "img3.size"
      ],
      "metadata": {
        "colab": {
          "base_uri": "https://localhost:8080/"
        },
        "id": "aBqKbLy2OV8t",
        "outputId": "53841f94-6db9-43b8-ee0f-6a5a9623da86"
      },
      "execution_count": 72,
      "outputs": [
        {
          "output_type": "execute_result",
          "data": {
            "text/plain": [
              "(28, 28)"
            ]
          },
          "metadata": {},
          "execution_count": 72
        }
      ]
    },
    {
      "cell_type": "code",
      "source": [
        "imagf = np.asarray(img3)\n",
        "imagf.shape"
      ],
      "metadata": {
        "colab": {
          "base_uri": "https://localhost:8080/"
        },
        "id": "f6ixcPDfXWik",
        "outputId": "a25ca1a5-cbfb-4fb7-a074-92a028faa06e"
      },
      "execution_count": 109,
      "outputs": [
        {
          "output_type": "execute_result",
          "data": {
            "text/plain": [
              "(28, 28)"
            ]
          },
          "metadata": {},
          "execution_count": 109
        }
      ]
    },
    {
      "cell_type": "code",
      "source": [
        "imgnumpy = transforms.ToPILImage(np.asarray(img3))\n",
        "imgnumpy"
      ],
      "metadata": {
        "colab": {
          "base_uri": "https://localhost:8080/"
        },
        "id": "rPcf_EeeV0mD",
        "outputId": "9b8c396a-8aa4-4790-e953-8f1303a53e58"
      },
      "execution_count": 87,
      "outputs": [
        {
          "output_type": "execute_result",
          "data": {
            "text/plain": [
              "ToPILImage(mode=[[  0   0   0   0   0   0   0   0   0   0   0   0   0   0   0   0   0   0\n",
              "    0   0   0   0   0   0   0   0   0   0]\n",
              " [  0   0   0   0   0   0   0   0   0   0   0   0   0   0   0   0   0   0\n",
              "    0   0   0   0   0   0   0   0   0   0]\n",
              " [  0   0   0   0   0   0   0   0   0   0   0   0   0   0   0   0   0   0\n",
              "    0   0   0   0   0   0   0   0   0   0]\n",
              " [  0   0   0   0   0   0   0   0   0   0   0   0   0   0   0   0   0   0\n",
              "    0   0   0   0   0   0   0   0   0   0]\n",
              " [  0   0   0   0   0   0   0   0   0   0   0   0   0   0   0   0   0   0\n",
              "    0   0   0   0   0   0   0   0   0   0]\n",
              " [  0   0   0   0   0   0   0   0   0   0   0   0   0   0   0   0   0   0\n",
              "    0   0   0   0   0   0   0   0   0   0]\n",
              " [  0   0   0   0   0   0   0   0   0   0   0   0   0   0   0   0   0   0\n",
              "    0   0   0   0   0   0   0   0   0   0]\n",
              " [  0   0   0   0   0   0   0   0   0   0   0   0   0   0   0   0   0   0\n",
              "    0   0   0   0   0   0   0   0   0   0]\n",
              " [  0   0   0   0   0   0   0   6   0   7   7   0   3   0  12   2   4   4\n",
              "    0   5   0   7   2   0   7   0   3   3]\n",
              " [  9   5   5  10   9   1   0   0   0   0   0  14   8   0   0  98  75  76\n",
              "   72   5  16   0   6  12  11   0   0  13]\n",
              " [  0   0   0   0   0   0   2  15   8  10   5   0   0 117 152 224 179 249\n",
              "  189   0   0   0   6   0   0  12  33   0]\n",
              " [  0   0   6   9   5   0   0   0   0   1  14  87 206 232 138 152 150 142\n",
              "  197 211 107  40  58  80 160 203 182   4]\n",
              " [  9   0   0   0   2  12  11   4   2 120 212 216 143 130 143 157 187 201\n",
              "  180 216 221 246 216 228 222 224 179   0]\n",
              " [  0   7  11   2   0   0   1  10 166 209 123  95 104 187 185 181 195 225\n",
              "  225 220 209 222 213 212 224 218 189  19]\n",
              " [  0   4   8   0   1  44 115 168 164  70  70 177 176 166 160 202 193 238\n",
              "  219 200 233 227 197 214 200 214 212  55]\n",
              " [  9  44  89 125 147 156 150 140 140 135 203 178 178 201 222 237 241 230\n",
              "  232 255 223 232 232 232 234 221 216  92]\n",
              " [ 43 131 147 112 111 108 109 142 181 175 172 180 191 191 178 165 149 145\n",
              "  139 134 132 135 139 142 136 121  90  56]\n",
              " [  3  28  13   1  28  33  20  30  18  14  11  12  14  12   5   0   2   1\n",
              "    0   0   0   0   1   2   0   4   8   7]\n",
              " [  9   2   0   0   9   6   0  11   6   7   7   5   2   2   4   7   6   7\n",
              "    9  11  12  13  12  12   7  11  12  10]\n",
              " [ 16  12  20  27  17   7  13  24  11  13  14  13  10  11  16  20  10  12\n",
              "   14  17  18  18  17  16  29  25  19  13]\n",
              " [  2   0   2   7   1   4   5   0   7   6   5   3   2   0   0   0   2   2\n",
              "    2   2   2   2   3   3   0   0   0   1]\n",
              " [  0   0   0   0   0   4   7   0   0   0   0   0   0   0   0   0   2   1\n",
              "    0   0   0   0   0   0   5   2   1   2]\n",
              " [  0   5   5   0   0   0   3   5   0   0   0   0   4   5   5   4   4   4\n",
              "    3   2   2   2   2   2   6   0   0   0]\n",
              " [  2   0   0   0   7   3   0   0   1   2   1   0   0   0   0   0   0   0\n",
              "    0   0   0   0   0   0   0   0   0   5]\n",
              " [  0   0   0   0   0   0   0   0   0   0   0   0   0   0   0   0   0   0\n",
              "    0   0   0   0   0   0   0   0   0   0]\n",
              " [  0   0   0   0   0   0   0   0   0   0   0   0   0   0   0   0   0   0\n",
              "    0   0   0   0   0   0   0   0   0   0]\n",
              " [  0   0   0   0   0   0   0   0   0   0   0   0   0   0   0   0   0   0\n",
              "    0   0   0   0   0   0   0   0   0   0]\n",
              " [  0   0   0   0   0   0   0   0   0   0   0   0   0   0   0   0   0   0\n",
              "    0   0   0   0   0   0   0   0   0   0]])"
            ]
          },
          "metadata": {},
          "execution_count": 87
        }
      ]
    },
    {
      "cell_type": "code",
      "source": [
        "imgPil = transforms.ToPILImage(t)\n",
        "imgPil.mode[0][20]"
      ],
      "metadata": {
        "colab": {
          "base_uri": "https://localhost:8080/"
        },
        "id": "OYrKy68uUiBk",
        "outputId": "620b58f8-bcdb-4599-cd64-bff10d873425"
      },
      "execution_count": 107,
      "outputs": [
        {
          "output_type": "execute_result",
          "data": {
            "text/plain": [
              "tensor([0.0588, 0.0745, 0.1176, 0.1608, 0.2078, 0.2510, 0.2784, 0.2980, 0.3098,\n",
              "        0.3137, 0.3137, 0.3176, 0.3216, 0.3255, 0.3294, 0.3255, 0.3255, 0.3255,\n",
              "        0.3294, 0.3373, 0.3529, 0.3686, 0.3608, 0.3451, 0.3373, 0.3333, 0.3333,\n",
              "        0.3569, 0.3765, 0.3725, 0.3686, 0.3608, 0.3529, 0.3490, 0.3647, 0.3804,\n",
              "        0.3804, 0.3765, 0.3765, 0.3765, 0.3843, 0.3882, 0.3922, 0.4000, 0.4078,\n",
              "        0.4118, 0.4157, 0.4157, 0.4157, 0.4118, 0.4078, 0.4039, 0.3961, 0.3922,\n",
              "        0.3804, 0.3686, 0.3490, 0.3176, 0.2980, 0.3059, 0.3176, 0.2275, 0.1333,\n",
              "        0.0980])"
            ]
          },
          "metadata": {},
          "execution_count": 107
        }
      ]
    },
    {
      "cell_type": "code",
      "source": [],
      "metadata": {
        "id": "cHsNa6ctOZR5"
      },
      "execution_count": null,
      "outputs": []
    },
    {
      "cell_type": "code",
      "source": [
        "t = transfom_ToTenser( Image.open( l[20]))\n",
        "t.shape, t"
      ],
      "metadata": {
        "colab": {
          "base_uri": "https://localhost:8080/"
        },
        "id": "0Iah7c4D3YMd",
        "outputId": "1dcffb00-5c78-4859-8e3c-2607e16640a1"
      },
      "execution_count": 85,
      "outputs": [
        {
          "output_type": "execute_result",
          "data": {
            "text/plain": [
              "(torch.Size([1, 64, 64]),\n",
              " tensor([[[0., 0., 0.,  ..., 0., 0., 0.],\n",
              "          [0., 0., 0.,  ..., 0., 0., 0.],\n",
              "          [0., 0., 0.,  ..., 0., 0., 0.],\n",
              "          ...,\n",
              "          [0., 0., 0.,  ..., 0., 0., 0.],\n",
              "          [0., 0., 0.,  ..., 0., 0., 0.],\n",
              "          [0., 0., 0.,  ..., 0., 0., 0.]]]))"
            ]
          },
          "metadata": {},
          "execution_count": 85
        }
      ]
    },
    {
      "cell_type": "code",
      "source": [
        "import torch\n",
        "import os\n",
        "import pathlib\n",
        "import torch\n"
      ],
      "metadata": {
        "id": "YBnOWbRh6_9P"
      },
      "execution_count": 39,
      "outputs": []
    },
    {
      "cell_type": "code",
      "source": [
        "len(list(pathlib.Path('fashion_mnist_dataset').glob('*/*/*.jpeg')))"
      ],
      "metadata": {
        "colab": {
          "base_uri": "https://localhost:8080/"
        },
        "id": "kSCV92hy6Pu2",
        "outputId": "b779858a-e70e-4db1-c9a6-6739d5acf6f8"
      },
      "execution_count": 40,
      "outputs": [
        {
          "output_type": "execute_result",
          "data": {
            "text/plain": [
              "70000"
            ]
          },
          "metadata": {},
          "execution_count": 40
        }
      ]
    },
    {
      "cell_type": "code",
      "source": [
        "# from typing_extensions import\n",
        "\n",
        "class DatasetImageFolder(Dataset):\n",
        "\n",
        "  def __init__(self, targ_dir: str , transform = None ):\n",
        "\n",
        "      # super().__init__()\n",
        "      self.targ_dir =  targ_dir\n",
        "      self.transform = transform\n",
        "      self.paths =list(pathlib.Path(targ_dir).glob('*/*.jpeg'))\n",
        "      self.classes , self.classes_to_index = find_class(targ_dir)\n",
        "\n",
        "  # create a function to load image,s from file and returm them\n",
        "  def load_images(self, idex: int  )->Image.Image:\n",
        "\n",
        "    image = self.paths[idex]\n",
        "\n",
        "    return Image.open(image)\n",
        "  #overwrite the function len method of torch.utile.data.dataset that return the number of samples that exist in the Dataset ,this is recommended but is not required\n",
        "  def __len__(self)->int:\n",
        "\n",
        "    return len(self.paths)\n",
        "\n",
        "\n",
        "  def __getitem__(self, index)-> Tuple[torch.Tensor, int]:\n",
        "\n",
        "    image = self.load_images(idex=index)  # This should return a PIL.Image\n",
        "    class_name = self.paths[index].parent.name\n",
        "    class_index = self.classes_to_index[class_name]\n",
        "\n",
        "    if self.transform:\n",
        "        image = self.transform(image)  # Transform the PIL.Image to a torch.Tensor\n",
        "    return image, class_index\n"
      ],
      "metadata": {
        "id": "upX6z_O3QmcR"
      },
      "execution_count": 190,
      "outputs": []
    },
    {
      "cell_type": "code",
      "source": [
        "\n",
        "\n",
        "instance  = DatasetImageFolder(targ_dir = train_dir ,transform =   transform_ToTenser)"
      ],
      "metadata": {
        "id": "BWpis-NRQmec"
      },
      "execution_count": 191,
      "outputs": []
    },
    {
      "cell_type": "code",
      "source": [
        "\n",
        "len(instance)"
      ],
      "metadata": {
        "colab": {
          "base_uri": "https://localhost:8080/"
        },
        "id": "YqprnxKPQmhY",
        "outputId": "7dde6648-ce40-49ef-f656-d0580b9dd251"
      },
      "execution_count": 192,
      "outputs": [
        {
          "output_type": "execute_result",
          "data": {
            "text/plain": [
              "60000"
            ]
          },
          "metadata": {},
          "execution_count": 192
        }
      ]
    },
    {
      "cell_type": "code",
      "source": [
        "instance.classes_to_index"
      ],
      "metadata": {
        "colab": {
          "base_uri": "https://localhost:8080/"
        },
        "id": "VR9trUeqr5UI",
        "outputId": "54566128-e770-4c46-c28a-0f25f7bd53c4"
      },
      "execution_count": 193,
      "outputs": [
        {
          "output_type": "execute_result",
          "data": {
            "text/plain": [
              "{'ankle_boot': 0,\n",
              " 'bag': 1,\n",
              " 'coat': 2,\n",
              " 'dress': 3,\n",
              " 'pullover': 4,\n",
              " 'sandal': 5,\n",
              " 'shirt': 6,\n",
              " 'sneaker': 7,\n",
              " 'trouser': 8,\n",
              " 'tshirt_top': 9}"
            ]
          },
          "metadata": {},
          "execution_count": 193
        }
      ]
    },
    {
      "cell_type": "code",
      "source": [
        "instance.load_images(0)"
      ],
      "metadata": {
        "colab": {
          "base_uri": "https://localhost:8080/",
          "height": 45
        },
        "id": "-1-X1IF5cxIo",
        "outputId": "1f4b554f-ad51-473e-d99a-f8e82bcb1493"
      },
      "execution_count": 194,
      "outputs": [
        {
          "output_type": "execute_result",
          "data": {
            "text/plain": [
              "<PIL.JpegImagePlugin.JpegImageFile image mode=L size=28x28>"
            ],
            "image/png": "[encoded data removed]"
          },
          "metadata": {},
          "execution_count": 194
        }
      ]
    },
    {
      "cell_type": "code",
      "source": [
        "type(list(pathlib.Path(train_dir).glob('*/*.jpeg'))[0])"
      ],
      "metadata": {
        "colab": {
          "base_uri": "https://localhost:8080/"
        },
        "id": "wgV5eI3Cr_a4",
        "outputId": "b9cd48a4-244e-4063-a3eb-9f63ab5a617b"
      },
      "execution_count": 195,
      "outputs": [
        {
          "output_type": "execute_result",
          "data": {
            "text/plain": [
              "pathlib.PosixPath"
            ]
          },
          "metadata": {},
          "execution_count": 195
        }
      ]
    },
    {
      "cell_type": "code",
      "source": [
        "Image.open(list(pathlib.Path(train_dir).glob('*/*.jpeg'))[0])"
      ],
      "metadata": {
        "id": "vKoFY6zD21Dn",
        "colab": {
          "base_uri": "https://localhost:8080/",
          "height": 45
        },
        "outputId": "f349977e-6b07-4b57-aa0d-0c7226955136"
      },
      "execution_count": 196,
      "outputs": [
        {
          "output_type": "execute_result",
          "data": {
            "text/plain": [
              "<PIL.JpegImagePlugin.JpegImageFile image mode=L size=28x28>"
            ],
            "image/png": "[encoded data removed]"
          },
          "metadata": {},
          "execution_count": 196
        }
      ]
    },
    {
      "cell_type": "code",
      "source": [
        "image , label = instance[0][0], instance[0][1]\n",
        "image,label"
      ],
      "metadata": {
        "colab": {
          "base_uri": "https://localhost:8080/"
        },
        "id": "u1R8Ym_RcnwG",
        "outputId": "5f6ccb6d-5218-428d-ed5e-647bab9b3c06"
      },
      "execution_count": 200,
      "outputs": [
        {
          "output_type": "execute_result",
          "data": {
            "text/plain": [
              "(tensor([[[0., 0., 0.,  ..., 0., 0., 0.],\n",
              "          [0., 0., 0.,  ..., 0., 0., 0.],\n",
              "          [0., 0., 0.,  ..., 0., 0., 0.],\n",
              "          ...,\n",
              "          [0., 0., 0.,  ..., 0., 0., 0.],\n",
              "          [0., 0., 0.,  ..., 0., 0., 0.],\n",
              "          [0., 0., 0.,  ..., 0., 0., 0.]]]),\n",
              " 7)"
            ]
          },
          "metadata": {},
          "execution_count": 200
        }
      ]
    },
    {
      "cell_type": "code",
      "source": [
        "image[0][20]"
      ],
      "metadata": {
        "colab": {
          "base_uri": "https://localhost:8080/"
        },
        "id": "8Kn2XrKnc_aw",
        "outputId": "4f2650e2-0762-47ab-b5e2-aa40e500d91a"
      },
      "execution_count": 203,
      "outputs": [
        {
          "output_type": "execute_result",
          "data": {
            "text/plain": [
              "tensor([0.0157, 0.0510, 0.1529, 0.2510, 0.3176, 0.3882, 0.4824, 0.5804, 0.6588,\n",
              "        0.7216, 0.7725, 0.7804, 0.7922, 0.7961, 0.8000, 0.7961, 0.7843, 0.7725,\n",
              "        0.7647, 0.7569, 0.7686, 0.7725, 0.7882, 0.8000, 0.8000, 0.7804, 0.7647,\n",
              "        0.7882, 0.8078, 0.8118, 0.8118, 0.8157, 0.8275, 0.8235, 0.8039, 0.7843,\n",
              "        0.8078, 0.8275, 0.8471, 0.8706, 0.8706, 0.8510, 0.8314, 0.8157, 0.7961,\n",
              "        0.8118, 0.8275, 0.8235, 0.8118, 0.8000, 0.7843, 0.7725, 0.8000, 0.8235,\n",
              "        0.8314, 0.8353, 0.8275, 0.8118, 0.8078, 0.8510, 0.8902, 0.6118, 0.3098,\n",
              "        0.2000])"
            ]
          },
          "metadata": {},
          "execution_count": 203
        }
      ]
    },
    {
      "cell_type": "code",
      "source": [],
      "metadata": {
        "id": "c96vky8uhpRQ"
      },
      "execution_count": null,
      "outputs": []
    }
  ],
  "metadata": {
    "colab": {
      "provenance": [],
      "include_colab_link": true
    },
    "kernelspec": {
      "display_name": "Python 3",
      "name": "python3"
    },
    "language_info": {
      "name": "python"
    }
  },
  "nbformat": 4,
  "nbformat_minor": 0
}