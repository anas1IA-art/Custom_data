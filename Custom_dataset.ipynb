{
  "cells": [
    {
      "cell_type": "markdown",
      "metadata": {
        "id": "view-in-github",
        "colab_type": "text"
      },
      "source": [
        "<a href=\"https://colab.research.google.com/github/anas1IA-art/Custom_data/blob/main/Custom_dataset.ipynb\" target=\"_parent\"><img src=\"https://colab.research.google.com/assets/colab-badge.svg\" alt=\"Open In Colab\"/></a>"
      ]
    },
    {
      "cell_type": "markdown",
      "metadata": {
        "id": "fQM3mAL5Z4Y5"
      },
      "source": [
        "## Prepare the data"
      ]
    },
    {
      "cell_type": "code",
      "execution_count": 109,
      "metadata": {
        "id": "RsyM3rHdcdk1"
      },
      "outputs": [],
      "source": [
        "import requests\n",
        "import zipfile\n",
        "from pathlib import Path"
      ]
    },
    {
      "cell_type": "code",
      "execution_count": 110,
      "metadata": {
        "colab": {
          "base_uri": "https://localhost:8080/"
        },
        "id": "iYeO0ajbJTK9",
        "outputId": "6d1e8fae-b118-45cc-d08c-7a2e5629605f"
      },
      "outputs": [
        {
          "output_type": "stream",
          "name": "stdout",
          "text": [
            "--2024-08-29 16:12:58--  https://github.com/zalandoresearch/fashion-mnist/raw/master/data/fashion/train-images-idx3-ubyte.gz\n",
            "Resolving github.com (github.com)... 140.82.114.4\n",
            "Connecting to github.com (github.com)|140.82.114.4|:443... connected.\n",
            "HTTP request sent, awaiting response... 302 Found\n",
            "Location: https://raw.githubusercontent.com/zalandoresearch/fashion-mnist/master/data/fashion/train-images-idx3-ubyte.gz [following]\n",
            "--2024-08-29 16:12:58--  https://raw.githubusercontent.com/zalandoresearch/fashion-mnist/master/data/fashion/train-images-idx3-ubyte.gz\n",
            "Resolving raw.githubusercontent.com (raw.githubusercontent.com)... 185.199.110.133, 185.199.109.133, 185.199.108.133, ...\n",
            "Connecting to raw.githubusercontent.com (raw.githubusercontent.com)|185.199.110.133|:443... connected.\n",
            "HTTP request sent, awaiting response... 200 OK\n",
            "Length: 26421880 (25M) [application/octet-stream]\n",
            "Saving to: ‘train-images-idx3-ubyte.gz’\n",
            "\n",
            "train-images-idx3-u 100%[===================>]  25.20M   131MB/s    in 0.2s    \n",
            "\n",
            "2024-08-29 16:12:58 (131 MB/s) - ‘train-images-idx3-ubyte.gz’ saved [26421880/26421880]\n",
            "\n"
          ]
        }
      ],
      "source": [
        "# Step 1: Download the specific gzip files\n",
        "!wget https://github.com/zalandoresearch/fashion-mnist/raw/master/data/fashion/train-images-idx3-ubyte.gz\n"
      ]
    },
    {
      "cell_type": "code",
      "execution_count": 111,
      "metadata": {
        "colab": {
          "base_uri": "https://localhost:8080/"
        },
        "id": "CN3QoKSbK40s",
        "outputId": "5958f657-8c8d-456d-c8a9-e01061ec0c8c"
      },
      "outputs": [
        {
          "output_type": "stream",
          "name": "stdout",
          "text": [
            "--2024-08-29 16:12:59--  https://github.com/zalandoresearch/fashion-mnist/raw/master/data/fashion/train-labels-idx1-ubyte.gz\n",
            "Resolving github.com (github.com)... 140.82.113.4\n",
            "Connecting to github.com (github.com)|140.82.113.4|:443... connected.\n",
            "HTTP request sent, awaiting response... 302 Found\n",
            "Location: https://raw.githubusercontent.com/zalandoresearch/fashion-mnist/master/data/fashion/train-labels-idx1-ubyte.gz [following]\n",
            "--2024-08-29 16:12:59--  https://raw.githubusercontent.com/zalandoresearch/fashion-mnist/master/data/fashion/train-labels-idx1-ubyte.gz\n",
            "Resolving raw.githubusercontent.com (raw.githubusercontent.com)... 185.199.108.133, 185.199.109.133, 185.199.110.133, ...\n",
            "Connecting to raw.githubusercontent.com (raw.githubusercontent.com)|185.199.108.133|:443... connected.\n",
            "HTTP request sent, awaiting response... 200 OK\n",
            "Length: 29515 (29K) [application/octet-stream]\n",
            "Saving to: ‘train-labels-idx1-ubyte.gz’\n",
            "\n",
            "train-labels-idx1-u 100%[===================>]  28.82K  --.-KB/s    in 0.002s  \n",
            "\n",
            "2024-08-29 16:12:59 (16.5 MB/s) - ‘train-labels-idx1-ubyte.gz’ saved [29515/29515]\n",
            "\n",
            "--2024-08-29 16:12:59--  https://github.com/zalandoresearch/fashion-mnist/raw/master/data/fashion/t10k-images-idx3-ubyte.gz\n",
            "Resolving github.com (github.com)... 140.82.114.4\n",
            "Connecting to github.com (github.com)|140.82.114.4|:443... connected.\n",
            "HTTP request sent, awaiting response... 302 Found\n",
            "Location: https://raw.githubusercontent.com/zalandoresearch/fashion-mnist/master/data/fashion/t10k-images-idx3-ubyte.gz [following]\n",
            "--2024-08-29 16:13:00--  https://raw.githubusercontent.com/zalandoresearch/fashion-mnist/master/data/fashion/t10k-images-idx3-ubyte.gz\n",
            "Resolving raw.githubusercontent.com (raw.githubusercontent.com)... 185.199.108.133, 185.199.109.133, 185.199.110.133, ...\n",
            "Connecting to raw.githubusercontent.com (raw.githubusercontent.com)|185.199.108.133|:443... connected.\n",
            "HTTP request sent, awaiting response... 200 OK\n",
            "Length: 4422102 (4.2M) [application/octet-stream]\n",
            "Saving to: ‘t10k-images-idx3-ubyte.gz’\n",
            "\n",
            "t10k-images-idx3-ub 100%[===================>]   4.22M  --.-KB/s    in 0.08s   \n",
            "\n",
            "2024-08-29 16:13:00 (51.7 MB/s) - ‘t10k-images-idx3-ubyte.gz’ saved [4422102/4422102]\n",
            "\n",
            "--2024-08-29 16:13:00--  https://github.com/zalandoresearch/fashion-mnist/raw/master/data/fashion/t10k-labels-idx1-ubyte.gz\n",
            "Resolving github.com (github.com)... 140.82.114.3\n",
            "Connecting to github.com (github.com)|140.82.114.3|:443... connected.\n",
            "HTTP request sent, awaiting response... 302 Found\n",
            "Location: https://raw.githubusercontent.com/zalandoresearch/fashion-mnist/master/data/fashion/t10k-labels-idx1-ubyte.gz [following]\n",
            "--2024-08-29 16:13:00--  https://raw.githubusercontent.com/zalandoresearch/fashion-mnist/master/data/fashion/t10k-labels-idx1-ubyte.gz\n",
            "Resolving raw.githubusercontent.com (raw.githubusercontent.com)... 185.199.108.133, 185.199.109.133, 185.199.110.133, ...\n",
            "Connecting to raw.githubusercontent.com (raw.githubusercontent.com)|185.199.108.133|:443... connected.\n",
            "HTTP request sent, awaiting response... 200 OK\n",
            "Length: 5148 (5.0K) [application/octet-stream]\n",
            "Saving to: ‘t10k-labels-idx1-ubyte.gz’\n",
            "\n",
            "t10k-labels-idx1-ub 100%[===================>]   5.03K  --.-KB/s    in 0s      \n",
            "\n",
            "2024-08-29 16:13:00 (48.4 MB/s) - ‘t10k-labels-idx1-ubyte.gz’ saved [5148/5148]\n",
            "\n"
          ]
        }
      ],
      "source": [
        "!wget https://github.com/zalandoresearch/fashion-mnist/raw/master/data/fashion/train-labels-idx1-ubyte.gz\n",
        "!wget https://github.com/zalandoresearch/fashion-mnist/raw/master/data/fashion/t10k-images-idx3-ubyte.gz\n",
        "!wget https://github.com/zalandoresearch/fashion-mnist/raw/master/data/fashion/t10k-labels-idx1-ubyte.gz"
      ]
    },
    {
      "cell_type": "code",
      "execution_count": 112,
      "metadata": {
        "id": "7EULQ33WKUl3",
        "colab": {
          "base_uri": "https://localhost:8080/"
        },
        "outputId": "041222b7-0d94-4dd3-b164-dab494e1eccc"
      },
      "outputs": [
        {
          "output_type": "stream",
          "name": "stdout",
          "text": [
            "gzip: train-images-idx3-ubyte already exists; do you wish to overwrite (y or n)? ^C\n",
            "gzip: train-labels-idx1-ubyte already exists; do you wish to overwrite (y or n)? ^C\n",
            "gzip: t10k-images-idx3-ubyte already exists; do you wish to overwrite (y or n)? ^C\n",
            "gzip: t10k-labels-idx1-ubyte already exists; do you wish to overwrite (y or n)? ^C\n"
          ]
        }
      ],
      "source": [
        "# Step 2: Extract the gzip files\n",
        "!gzip -d train-images-idx3-ubyte.gz\n",
        "!gzip -d train-labels-idx1-ubyte.gz\n",
        "!gzip -d t10k-images-idx3-ubyte.gz\n",
        "!gzip -d t10k-labels-idx1-ubyte.gz"
      ]
    },
    {
      "cell_type": "code",
      "execution_count": 1,
      "metadata": {
        "id": "hUij_ORjbrQj"
      },
      "outputs": [],
      "source": [
        "import os\n",
        "import numpy as np\n",
        "from PIL import Image"
      ]
    },
    {
      "cell_type": "code",
      "execution_count": 2,
      "metadata": {
        "colab": {
          "base_uri": "https://localhost:8080/"
        },
        "id": "xL-uSLu9da4o",
        "outputId": "3022c9c4-cf92-4b6b-b3b5-06f11f776ed3"
      },
      "outputs": [
        {
          "output_type": "stream",
          "name": "stdout",
          "text": [
            "fashion_mnist_dataset directory exists.\n"
          ]
        }
      ],
      "source": [
        "# Define the directory structure\n",
        "base_dir = 'fashion_mnist_dataset'\n",
        "\n",
        "if os.path.isdir(base_dir):\n",
        "    print(f\"{base_dir} directory exists.\")\n",
        "else:\n",
        "    print(f\"Did not find {base_dir} directory, creating one...\")\n",
        "    os.makedirs(base_dir, exist_ok=True)\n",
        "\n",
        "train_dir = os.path.join(base_dir, 'train')\n",
        "test_dir = os.path.join(base_dir, 'test')\n",
        "classes = ['tshirt_top', 'trouser', 'pullover', 'dress', 'coat', 'sandal', 'shirt', 'sneaker', 'bag', 'ankle_boot']\n"
      ]
    },
    {
      "cell_type": "code",
      "execution_count": 3,
      "metadata": {
        "id": "M9r_PJ15dciV"
      },
      "outputs": [],
      "source": [
        "# Create the directory structure\n",
        "for d in [train_dir, test_dir]:\n",
        "    os.makedirs(d, exist_ok=True)\n",
        "    for c in classes:\n",
        "        os.makedirs(os.path.join(d, c), exist_ok=True)"
      ]
    },
    {
      "cell_type": "code",
      "execution_count": 4,
      "metadata": {
        "id": "f4eTgKNReZDm"
      },
      "outputs": [],
      "source": [
        "# Paths to the extracted files\n",
        "train_images_path = 'train-images-idx3-ubyte'\n",
        "train_labels_path = 'train-labels-idx1-ubyte'\n",
        "test_images_path = 't10k-images-idx3-ubyte'\n",
        "test_labels_path = 't10k-labels-idx1-ubyte'"
      ]
    },
    {
      "cell_type": "code",
      "execution_count": 5,
      "metadata": {
        "id": "mDSwuw4QdtcU"
      },
      "outputs": [],
      "source": [
        "# Helper function to load MNIST data\n",
        "def load_mnist_images(file_path):\n",
        "    with open(file_path, 'rb') as f:\n",
        "        magic = np.frombuffer(f.read(4), dtype='>u4')[0]\n",
        "        num = np.frombuffer(f.read(4), dtype='>u4')[0]\n",
        "        rows = np.frombuffer(f.read(4), dtype='>u4')[0]\n",
        "        cols = np.frombuffer(f.read(4), dtype='>u4')[0]\n",
        "        print(f\"Magic number: {magic}, Number of images: {num}, Rows: {rows}, Columns: {cols}\")\n",
        "        images = np.frombuffer(f.read(), dtype=np.uint8).reshape(num, rows, cols)\n",
        "    return images"
      ]
    },
    {
      "cell_type": "code",
      "execution_count": 6,
      "metadata": {
        "id": "wDxVUGBXeM11"
      },
      "outputs": [],
      "source": [
        "def load_mnist_labels(file_path):\n",
        "    with open(file_path, 'rb') as f:\n",
        "        magic = np.frombuffer(f.read(4), dtype='>u4')[0]\n",
        "        num = np.frombuffer(f.read(4), dtype='>u4')[0]\n",
        "        print(f\"Magic number: {magic}, Number of labels: {num}\")\n",
        "        labels = np.frombuffer(f.read(), dtype=np.uint8)\n",
        "    return labels"
      ]
    },
    {
      "cell_type": "code",
      "execution_count": 7,
      "metadata": {
        "id": "T4VsMI46eQ-9"
      },
      "outputs": [],
      "source": [
        "def save_images(images, labels, base_dir,new_size=(56, 56)):\n",
        "    for idx, (image, label) in enumerate(zip(images, labels)):\n",
        "        class_name = classes[label]\n",
        "        image_dir = os.path.join(base_dir, class_name)\n",
        "        image_path = os.path.join(image_dir, f'image_{idx:04d}.jpeg')\n",
        "        image = Image.fromarray(image)\n",
        "        image = image.resize(new_size, Image.ANTIALIAS)\n",
        "        image.save(image_path)"
      ]
    },
    {
      "cell_type": "code",
      "execution_count": 8,
      "metadata": {
        "colab": {
          "base_uri": "https://localhost:8080/"
        },
        "id": "WFASRmUheUw6",
        "outputId": "3a1b9452-8fba-464f-8791-5d0fe66bdbf8"
      },
      "outputs": [
        {
          "output_type": "stream",
          "name": "stdout",
          "text": [
            "Magic number: 2051, Number of images: 60000, Rows: 28, Columns: 28\n",
            "Magic number: 2049, Number of labels: 60000\n"
          ]
        },
        {
          "output_type": "stream",
          "name": "stderr",
          "text": [
            "<ipython-input-7-81941a92c02b>:7: DeprecationWarning: ANTIALIAS is deprecated and will be removed in Pillow 10 (2023-07-01). Use LANCZOS or Resampling.LANCZOS instead.\n",
            "  image = image.resize(new_size, Image.ANTIALIAS)\n"
          ]
        }
      ],
      "source": [
        "# Load and save training images\n",
        "train_images = load_mnist_images(train_images_path)\n",
        "train_labels = load_mnist_labels(train_labels_path)\n",
        "save_images(train_images, train_labels, train_dir,new_size=(28,28))"
      ]
    },
    {
      "cell_type": "code",
      "execution_count": 9,
      "metadata": {
        "colab": {
          "base_uri": "https://localhost:8080/"
        },
        "id": "58q_RAcVegGj",
        "outputId": "66b2bcf9-52c9-4f8d-e474-dc1e98f24d3b"
      },
      "outputs": [
        {
          "output_type": "stream",
          "name": "stdout",
          "text": [
            "Magic number: 2051, Number of images: 10000, Rows: 28, Columns: 28\n",
            "Magic number: 2049, Number of labels: 10000\n"
          ]
        },
        {
          "output_type": "stream",
          "name": "stderr",
          "text": [
            "<ipython-input-7-81941a92c02b>:7: DeprecationWarning: ANTIALIAS is deprecated and will be removed in Pillow 10 (2023-07-01). Use LANCZOS or Resampling.LANCZOS instead.\n",
            "  image = image.resize(new_size, Image.ANTIALIAS)\n"
          ]
        }
      ],
      "source": [
        "test_images = load_mnist_images(test_images_path)\n",
        "test_labels = load_mnist_labels(test_labels_path)\n",
        "save_images(test_images, test_labels, test_dir,new_size=(28,28))"
      ]
    },
    {
      "cell_type": "code",
      "execution_count": 10,
      "metadata": {
        "id": "HaS3HG6JhJJB"
      },
      "outputs": [],
      "source": [
        "def walk_through_dir(dir_path):\n",
        "  \"\"\"\n",
        "  Walks through dir_path returning its contents.\n",
        "  Args:\n",
        "    dir_path (str or pathlib.Path): target directory\n",
        "\n",
        "  Returns:\n",
        "    A print out of:\n",
        "      number of subdiretories in dir_path\n",
        "      number of images (files) in each subdirectory\n",
        "      name of each subdirectory\n",
        "  \"\"\"\n",
        "  for dirpath, dirnames, filenames in os.walk(dir_path):\n",
        "    print(f\"There are {len(dirnames)} directories and {len(filenames)} images in '{dirpath}'.\")"
      ]
    },
    {
      "cell_type": "code",
      "execution_count": 11,
      "metadata": {
        "colab": {
          "base_uri": "https://localhost:8080/"
        },
        "id": "pO9tykrSFA22",
        "outputId": "84086949-3ee4-4bcb-df4c-a1515fb715a5"
      },
      "outputs": [
        {
          "output_type": "stream",
          "name": "stdout",
          "text": [
            "There are 2 directories and 0 images in './fashion_mnist_dataset'.\n",
            "There are 10 directories and 0 images in './fashion_mnist_dataset/train'.\n",
            "There are 0 directories and 6000 images in './fashion_mnist_dataset/train/bag'.\n",
            "There are 0 directories and 6000 images in './fashion_mnist_dataset/train/sandal'.\n",
            "There are 0 directories and 6000 images in './fashion_mnist_dataset/train/tshirt_top'.\n",
            "There are 0 directories and 6000 images in './fashion_mnist_dataset/train/trouser'.\n",
            "There are 0 directories and 6000 images in './fashion_mnist_dataset/train/coat'.\n",
            "There are 0 directories and 6000 images in './fashion_mnist_dataset/train/sneaker'.\n",
            "There are 0 directories and 6000 images in './fashion_mnist_dataset/train/pullover'.\n",
            "There are 0 directories and 6000 images in './fashion_mnist_dataset/train/shirt'.\n",
            "There are 0 directories and 6000 images in './fashion_mnist_dataset/train/ankle_boot'.\n",
            "There are 0 directories and 6000 images in './fashion_mnist_dataset/train/dress'.\n",
            "There are 10 directories and 0 images in './fashion_mnist_dataset/test'.\n",
            "There are 0 directories and 1000 images in './fashion_mnist_dataset/test/bag'.\n",
            "There are 0 directories and 1000 images in './fashion_mnist_dataset/test/sandal'.\n",
            "There are 0 directories and 1000 images in './fashion_mnist_dataset/test/tshirt_top'.\n",
            "There are 0 directories and 1000 images in './fashion_mnist_dataset/test/trouser'.\n",
            "There are 0 directories and 1000 images in './fashion_mnist_dataset/test/coat'.\n",
            "There are 0 directories and 1000 images in './fashion_mnist_dataset/test/sneaker'.\n",
            "There are 0 directories and 1000 images in './fashion_mnist_dataset/test/pullover'.\n",
            "There are 0 directories and 1000 images in './fashion_mnist_dataset/test/shirt'.\n",
            "There are 0 directories and 1000 images in './fashion_mnist_dataset/test/ankle_boot'.\n",
            "There are 0 directories and 1000 images in './fashion_mnist_dataset/test/dress'.\n"
          ]
        }
      ],
      "source": [
        "walk_through_dir(\"./fashion_mnist_dataset\")"
      ]
    },
    {
      "cell_type": "code",
      "execution_count": 12,
      "metadata": {
        "id": "aXGO9ElyFE4J"
      },
      "outputs": [],
      "source": [
        "import random\n",
        "from pathlib import Path\n",
        "from PIL import Image"
      ]
    },
    {
      "cell_type": "code",
      "execution_count": 13,
      "metadata": {
        "id": "qeDy38kvGCGC"
      },
      "outputs": [],
      "source": [
        "random.seed(42)\n",
        "base_dir = Path('./fashion_mnist_dataset')\n",
        "\n",
        "list_images = list(base_dir.glob(\"*/*/*.jpeg\"))"
      ]
    },
    {
      "cell_type": "code",
      "execution_count": 14,
      "metadata": {
        "id": "b7IjKef4Gd77"
      },
      "outputs": [],
      "source": [
        "image_path = random.choice(list_images)"
      ]
    },
    {
      "cell_type": "code",
      "execution_count": 15,
      "metadata": {
        "colab": {
          "base_uri": "https://localhost:8080/"
        },
        "id": "iYxMc1baHVbJ",
        "outputId": "59c445dd-f9de-4879-904f-df4ff448b5bc"
      },
      "outputs": [
        {
          "output_type": "execute_result",
          "data": {
            "text/plain": [
              "PosixPath('fashion_mnist_dataset/train/tshirt_top/image_10191.jpeg')"
            ]
          },
          "metadata": {},
          "execution_count": 15
        }
      ],
      "source": [
        "image_path"
      ]
    },
    {
      "cell_type": "code",
      "execution_count": 16,
      "metadata": {
        "id": "iS-CnXOOH_ag"
      },
      "outputs": [],
      "source": [
        "image_class = image_path.parent.stem"
      ]
    },
    {
      "cell_type": "code",
      "execution_count": 17,
      "metadata": {
        "id": "Ke68qX0ZJpPA"
      },
      "outputs": [],
      "source": [
        "image = Image.open(image_path)"
      ]
    },
    {
      "cell_type": "code",
      "execution_count": 18,
      "metadata": {
        "colab": {
          "base_uri": "https://localhost:8080/"
        },
        "id": "hlp6RsFSIh9I",
        "outputId": "8e8e34f0-6762-4e90-f9a1-b2b195c4d5f4"
      },
      "outputs": [
        {
          "output_type": "stream",
          "name": "stdout",
          "text": [
            "path of image is : fashion_mnist_dataset/train/tshirt_top/image_10191.jpeg\n",
            " Image class is : tshirt_top \n",
            "Image height is :28\n",
            "Image with is : 28\n"
          ]
        }
      ],
      "source": [
        "print(f'path of image is : {image_path}')\n",
        "print(f' Image class is : {image_class} ')\n",
        "print(f'Image height is :{image.height}')\n",
        "print(f'Image with is : {image.width}')\n",
        "\n"
      ]
    },
    {
      "cell_type": "code",
      "execution_count": 19,
      "metadata": {
        "colab": {
          "base_uri": "https://localhost:8080/",
          "height": 65
        },
        "id": "7o_C8lmOIj-t",
        "outputId": "fc5d3385-2a50-4edc-c132-f2535a0037fe"
      },
      "outputs": [
        {
          "output_type": "execute_result",
          "data": {
            "text/plain": [
              "<PIL.JpegImagePlugin.JpegImageFile image mode=L size=28x28>"
            ],
            "image/png": "[encoded data removed]"
          },
          "metadata": {},
          "execution_count": 19
        }
      ],
      "source": [
        "image"
      ]
    },
    {
      "cell_type": "markdown",
      "metadata": {
        "id": "VAR1p-qoNTa_"
      },
      "source": [
        "We can do the same with **matplotlib.pyplot.imshow()**, except we have to convert the image to a NumPy array first."
      ]
    },
    {
      "cell_type": "code",
      "execution_count": 20,
      "metadata": {
        "id": "pflZutqCKfM9"
      },
      "outputs": [],
      "source": [
        "import matplotlib.pyplot as plt\n",
        "import numpy as np\n"
      ]
    },
    {
      "cell_type": "code",
      "execution_count": 21,
      "metadata": {
        "id": "RsEDaHTXLiOS"
      },
      "outputs": [],
      "source": [
        "from numpy import asarray"
      ]
    },
    {
      "cell_type": "code",
      "execution_count": 22,
      "metadata": {
        "id": "infSR26KLwol"
      },
      "outputs": [],
      "source": [
        "numpydata = asarray(image)"
      ]
    },
    {
      "cell_type": "code",
      "execution_count": 23,
      "metadata": {
        "colab": {
          "base_uri": "https://localhost:8080/",
          "height": 85
        },
        "id": "r5J1VG9eYL86",
        "outputId": "79b16394-4b79-4194-b16e-c6ca85b0ada6"
      },
      "outputs": [
        {
          "output_type": "execute_result",
          "data": {
            "text/plain": [
              "array([[  0,   2,   2,   0,   0,   5,   4,   0,   0, 111, 187,  52,   7,\n",
              "          0,   2,  20, 222, 152,  12,   0,   4,   0,  13,   0,   0,   0,\n",
              "          0,   0],\n",
              "       [  0,   3,   3,   0,   0,   0,   1,   0,  14, 160, 197, 205, 231,\n",
              "        135, 166, 250, 182, 211, 113,   7,  13,   0,   1,   0,   0,   0,\n",
              "          0,   0],\n",
              "       [  0,   3,   3,   0,   0,   0,   2,   3,   0, 133, 169, 171, 235,\n",
              "        255, 248, 230, 115, 204, 148,   0,   9,   0,   0,   6,   0,   0,\n",
              "          0,   0],\n",
              "       [  0,   0,   0,   0,   0,   3,   5,   5,   8, 151, 196, 177, 190,\n",
              "        234, 216, 198, 157, 202, 159,   0,  10,   1,   0,   4,   0,   0,\n",
              "          0,   0],\n",
              "       [  0,   0,   0,   0,   4,   4,   2,   0,   8, 205, 185, 192, 198,\n",
              "        166, 173, 192, 200, 200, 186,  50,   5,   0,   2,   0,   0,   0,\n",
              "          0,   0],\n",
              "       [  2,   0,   0,   0,   2,   0,   0,   0, 112, 219, 193, 181, 195,\n",
              "        210, 198, 185, 174, 183, 213, 127,   0,   0,  15,   0,   0,   0,\n",
              "          0,   0],\n",
              "       [  0,   0,   0,   1,   0,   0,   2,  12, 210, 177, 196, 191, 178,\n",
              "        198, 181, 208, 179, 187, 216, 188,   0,   0,   9,   0,   0,   0,\n",
              "          0,   0],\n",
              "       [  0,   0,   4,   4,   0,   0,  13,  33, 198, 193, 158, 174, 204,\n",
              "        186, 175, 192, 179, 162, 164, 191,   0,   0,   0,   1,   0,   0,\n",
              "          0,   0],\n",
              "       [  0,   0,   2,   2,   0,   0,   9,  26, 187, 175, 154, 174, 193,\n",
              "        181, 185, 192, 172, 138, 172, 165,   0,   3,   3,   2,   0,   0,\n",
              "          0,   0],\n",
              "       [  0,   0,   2,   3,   0,   0,   3,  14, 190, 186, 165, 176, 189,\n",
              "        178, 181, 184, 179, 155, 181, 160,   0,   3,   0,   0,   0,   0,\n",
              "          0,   0],\n",
              "       [  0,   0,   1,   4,   2,   0,   0,   1, 187, 195, 176, 176, 180,\n",
              "        172, 176, 173, 179, 172, 188, 149,   0,   6,   0,   0,   0,   0,\n",
              "          0,   0],\n",
              "       [  0,   0,   0,   2,   2,   0,   0,   0, 175, 195, 182, 173, 172,\n",
              "        167, 172, 166, 171, 178, 190, 134,   0,   9,   0,   3,   0,   0,\n",
              "          0,   0],\n",
              "       [  2,   0,   0,   0,   1,   3,   1,   0, 164, 192, 183, 172, 170,\n",
              "        168, 175, 168, 166, 178, 190, 123,   0,   7,   0,   2,   0,   0,\n",
              "          0,   0],\n",
              "       [  2,   2,   0,   0,   0,   3,   4,   2, 159, 190, 184, 176, 174,\n",
              "        172, 179, 173, 170, 177, 193, 122,   0,   2,   0,   0,   0,   0,\n",
              "          0,   0],\n",
              "       [  0,   3,   3,   0,   0,   2,   3,   0, 159, 188, 183, 179, 177,\n",
              "        171, 177, 173, 177, 174, 197, 127,   2,   0,   1,   0,   0,   0,\n",
              "          0,   0],\n",
              "       [  0,   4,   6,   0,   0,   0,   0,   0, 160, 186, 181, 179, 177,\n",
              "        168, 172, 169, 180, 171, 199, 133,   6,   1,   7,   1,   0,   0,\n",
              "          0,   0],\n",
              "       [  0,   0,   6,   0,   0,   0,  11,   0, 166, 181, 187, 178, 170,\n",
              "        171, 174, 173, 178, 163, 182, 150,   0,   3,   8,   0,   0,   0,\n",
              "          0,   0],\n",
              "       [  1,   0,   0,   0,  10,   0,   0,   8, 180, 182, 181, 175, 172,\n",
              "        173, 173, 172, 176, 173, 175, 166,   3,   1,   3,   0,   0,   0,\n",
              "          0,   0],\n",
              "       [  0,   1,   0,   0,  11,   0,   0,  77, 195, 183, 173, 172, 174,\n",
              "        174, 172, 171, 172, 182, 166, 184,  32,   0,   0,   2,   0,   0,\n",
              "          0,   0],\n",
              "       [  0,   2,   1,   0,   2,   0,   0, 164, 196, 180, 169, 173, 176,\n",
              "        172, 170, 172, 170, 180, 162, 191,  82,   0,   3,   0,   0,   0,\n",
              "          0,   0],\n",
              "       [  0,   2,   1,   1,   0,   0,  16, 201, 187, 176, 171, 176, 178,\n",
              "        172, 170, 174, 169, 170, 164, 185, 136,   0,   7,   0,   0,   0,\n",
              "          0,   0],\n",
              "       [  4,   0,   0,   0,   2,   0,  39, 187, 180, 177, 176, 178, 178,\n",
              "        174, 174, 176, 171, 165, 169, 177, 171,   5,   6,   0,   0,   0,\n",
              "          0,   0],\n",
              "       [  4,   0,   0,   0,   0,   1,  78, 182, 181, 182, 180, 177, 178,\n",
              "        181, 179, 175, 174, 168, 173, 174, 179,  14,   0,   2,   0,   0,\n",
              "          0,   0],\n",
              "       [  0,   0,   7,   0,   0,   0, 113, 199, 186, 187, 181, 174, 178,\n",
              "        186, 184, 174, 176, 174, 174, 176, 174,  20,   0,   9,   0,   0,\n",
              "          0,   0],\n",
              "       [  0,   0,   5,   0,   0,   0, 152, 192, 183, 178, 174, 174, 174,\n",
              "        174, 176, 178, 175, 165, 167, 173, 201,  44,   4,   0,   0,   0,\n",
              "          0,   0],\n",
              "       [  4,   4,   0,   0,   0,   0, 141, 183, 183, 180, 177, 174, 171,\n",
              "        167, 164, 163, 186, 167, 174, 158, 160, 124,   4,   8,   0,   0,\n",
              "          0,   0],\n",
              "       [  0,   0,   0,   5,  17,  30, 167, 213, 187, 189, 191, 191, 189,\n",
              "        185, 180, 176, 162, 166, 199, 190, 178, 162,   7,   0,   0,   0,\n",
              "          0,   0],\n",
              "       [  4,   4,   0,   0,   0,   0,  73, 109, 131, 141, 153, 160, 163,\n",
              "        164, 161, 157, 167, 154, 134, 101,  94,  21,   2,   9,   0,   0,\n",
              "          0,   0]], dtype=uint8)"
            ],
            "text/html": [
              "<style>\n",
              "      .ndarray_repr .ndarray_raw_data {\n",
              "        display: none;\n",
              "      }\n",
              "      .ndarray_repr.show_array .ndarray_raw_data {\n",
              "        display: block;\n",
              "      }\n",
              "      .ndarray_repr.show_array .ndarray_image_preview {\n",
              "        display: none;\n",
              "      }\n",
              "      </style>\n",
              "      <div id=\"id-1e620119-7bc3-4b8c-a317-0524ff005813\" class=\"ndarray_repr\"><pre>ndarray (28, 28) <button style=\"padding: 0 2px;\">show data</button></pre><img src=\"data:image/png;base64,iVBORw0KGgoAAAANSUhEUgAAABwAAAAcCAAAAABXZoBIAAACEElEQVR4nD2SOW4UQRSGv/equnsW401stgWJWSQgASEniJCAAIkMkSIhkZFyA64AOXcgAG5AhlhEAE4wSCyD7W56uqvqFcHMOP6lfwdVKDw8fnW9Qo9/ebaE5xgAigiExPLV0fPdpy/2Pt14WA2pAfAAIHrwbahnn3S/3tzf7pRc9oCSEjing/Wt8t3P3d1LNkYEm9ECXlJgp1kZvH7fX7atayFrBFAFLBqPlgdNurLR7U227oSFIQMxdOnBBzea1JNThXc3oZ+7xTsYn6hXP0826/4v3986aGUOmkHsmj+RJozofgz2cE4WUQT62o3/aUzkam1YQ1rQZlHSYRqOafvQsFY1OI5AA3JNmaYhdtNS93EzWBUsO6FJkk2cBmgw8kxTjYyzYOLNvKXsMmHekImDnA3LzmWjSr5Qk8UqDiwhZpBCdElLL+U8ZwQYU4Yyd069TSdrvUoGUKFnRDNYlj6p5myjbtVZmNFmAYFbKzJNKjnHYbt+Jic9ekIL9yRFUTMxi9U13NGeYqyeb6M6Bc3/tN+ZH0S95aycOuikUNSrhmK6XeRFfWByMUjhM1WRnfNpMOxnmpEK8vZaUUiiKLKWoqGkWuwJXOxS2xHrqc9tl7ZO+3am6QPQtKgjdfX+WKv9j3cZAPgIxdKxzbN7pWIxxB9+Y7W+4KYA4onA7XMnR0uVkxRHh7++di9/Vy3wHy1t+lekO5BHAAAAAElFTkSuQmCC\" class=\"ndarray_image_preview\" /><pre class=\"ndarray_raw_data\">array([[  0,   2,   2,   0,   0,   5,   4,   0,   0, 111, 187,  52,   7,\n",
              "          0,   2,  20, 222, 152,  12,   0,   4,   0,  13,   0,   0,   0,\n",
              "          0,   0],\n",
              "       [  0,   3,   3,   0,   0,   0,   1,   0,  14, 160, 197, 205, 231,\n",
              "        135, 166, 250, 182, 211, 113,   7,  13,   0,   1,   0,   0,   0,\n",
              "          0,   0],\n",
              "       [  0,   3,   3,   0,   0,   0,   2,   3,   0, 133, 169, 171, 235,\n",
              "        255, 248, 230, 115, 204, 148,   0,   9,   0,   0,   6,   0,   0,\n",
              "          0,   0],\n",
              "       [  0,   0,   0,   0,   0,   3,   5,   5,   8, 151, 196, 177, 190,\n",
              "        234, 216, 198, 157, 202, 159,   0,  10,   1,   0,   4,   0,   0,\n",
              "          0,   0],\n",
              "       [  0,   0,   0,   0,   4,   4,   2,   0,   8, 205, 185, 192, 198,\n",
              "        166, 173, 192, 200, 200, 186,  50,   5,   0,   2,   0,   0,   0,\n",
              "          0,   0],\n",
              "       [  2,   0,   0,   0,   2,   0,   0,   0, 112, 219, 193, 181, 195,\n",
              "        210, 198, 185, 174, 183, 213, 127,   0,   0,  15,   0,   0,   0,\n",
              "          0,   0],\n",
              "       [  0,   0,   0,   1,   0,   0,   2,  12, 210, 177, 196, 191, 178,\n",
              "        198, 181, 208, 179, 187, 216, 188,   0,   0,   9,   0,   0,   0,\n",
              "          0,   0],\n",
              "       [  0,   0,   4,   4,   0,   0,  13,  33, 198, 193, 158, 174, 204,\n",
              "        186, 175, 192, 179, 162, 164, 191,   0,   0,   0,   1,   0,   0,\n",
              "          0,   0],\n",
              "       [  0,   0,   2,   2,   0,   0,   9,  26, 187, 175, 154, 174, 193,\n",
              "        181, 185, 192, 172, 138, 172, 165,   0,   3,   3,   2,   0,   0,\n",
              "          0,   0],\n",
              "       [  0,   0,   2,   3,   0,   0,   3,  14, 190, 186, 165, 176, 189,\n",
              "        178, 181, 184, 179, 155, 181, 160,   0,   3,   0,   0,   0,   0,\n",
              "          0,   0],\n",
              "       [  0,   0,   1,   4,   2,   0,   0,   1, 187, 195, 176, 176, 180,\n",
              "        172, 176, 173, 179, 172, 188, 149,   0,   6,   0,   0,   0,   0,\n",
              "          0,   0],\n",
              "       [  0,   0,   0,   2,   2,   0,   0,   0, 175, 195, 182, 173, 172,\n",
              "        167, 172, 166, 171, 178, 190, 134,   0,   9,   0,   3,   0,   0,\n",
              "          0,   0],\n",
              "       [  2,   0,   0,   0,   1,   3,   1,   0, 164, 192, 183, 172, 170,\n",
              "        168, 175, 168, 166, 178, 190, 123,   0,   7,   0,   2,   0,   0,\n",
              "          0,   0],\n",
              "       [  2,   2,   0,   0,   0,   3,   4,   2, 159, 190, 184, 176, 174,\n",
              "        172, 179, 173, 170, 177, 193, 122,   0,   2,   0,   0,   0,   0,\n",
              "          0,   0],\n",
              "       [  0,   3,   3,   0,   0,   2,   3,   0, 159, 188, 183, 179, 177,\n",
              "        171, 177, 173, 177, 174, 197, 127,   2,   0,   1,   0,   0,   0,\n",
              "          0,   0],\n",
              "       [  0,   4,   6,   0,   0,   0,   0,   0, 160, 186, 181, 179, 177,\n",
              "        168, 172, 169, 180, 171, 199, 133,   6,   1,   7,   1,   0,   0,\n",
              "          0,   0],\n",
              "       [  0,   0,   6,   0,   0,   0,  11,   0, 166, 181, 187, 178, 170,\n",
              "        171, 174, 173, 178, 163, 182, 150,   0,   3,   8,   0,   0,   0,\n",
              "          0,   0],\n",
              "       [  1,   0,   0,   0,  10,   0,   0,   8, 180, 182, 181, 175, 172,\n",
              "        173, 173, 172, 176, 173, 175, 166,   3,   1,   3,   0,   0,   0,\n",
              "          0,   0],\n",
              "       [  0,   1,   0,   0,  11,   0,   0,  77, 195, 183, 173, 172, 174,\n",
              "        174, 172, 171, 172, 182, 166, 184,  32,   0,   0,   2,   0,   0,\n",
              "          0,   0],\n",
              "       [  0,   2,   1,   0,   2,   0,   0, 164, 196, 180, 169, 173, 176,\n",
              "        172, 170, 172, 170, 180, 162, 191,  82,   0,   3,   0,   0,   0,\n",
              "          0,   0],\n",
              "       [  0,   2,   1,   1,   0,   0,  16, 201, 187, 176, 171, 176, 178,\n",
              "        172, 170, 174, 169, 170, 164, 185, 136,   0,   7,   0,   0,   0,\n",
              "          0,   0],\n",
              "       [  4,   0,   0,   0,   2,   0,  39, 187, 180, 177, 176, 178, 178,\n",
              "        174, 174, 176, 171, 165, 169, 177, 171,   5,   6,   0,   0,   0,\n",
              "          0,   0],\n",
              "       [  4,   0,   0,   0,   0,   1,  78, 182, 181, 182, 180, 177, 178,\n",
              "        181, 179, 175, 174, 168, 173, 174, 179,  14,   0,   2,   0,   0,\n",
              "          0,   0],\n",
              "       [  0,   0,   7,   0,   0,   0, 113, 199, 186, 187, 181, 174, 178,\n",
              "        186, 184, 174, 176, 174, 174, 176, 174,  20,   0,   9,   0,   0,\n",
              "          0,   0],\n",
              "       [  0,   0,   5,   0,   0,   0, 152, 192, 183, 178, 174, 174, 174,\n",
              "        174, 176, 178, 175, 165, 167, 173, 201,  44,   4,   0,   0,   0,\n",
              "          0,   0],\n",
              "       [  4,   4,   0,   0,   0,   0, 141, 183, 183, 180, 177, 174, 171,\n",
              "        167, 164, 163, 186, 167, 174, 158, 160, 124,   4,   8,   0,   0,\n",
              "          0,   0],\n",
              "       [  0,   0,   0,   5,  17,  30, 167, 213, 187, 189, 191, 191, 189,\n",
              "        185, 180, 176, 162, 166, 199, 190, 178, 162,   7,   0,   0,   0,\n",
              "          0,   0],\n",
              "       [  4,   4,   0,   0,   0,   0,  73, 109, 131, 141, 153, 160, 163,\n",
              "        164, 161, 157, 167, 154, 134, 101,  94,  21,   2,   9,   0,   0,\n",
              "          0,   0]], dtype=uint8)</pre></div><script>\n",
              "      (() => {\n",
              "      const titles = ['show data', 'hide data'];\n",
              "      let index = 0\n",
              "      document.querySelector('#id-1e620119-7bc3-4b8c-a317-0524ff005813 button').onclick = (e) => {\n",
              "        document.querySelector('#id-1e620119-7bc3-4b8c-a317-0524ff005813').classList.toggle('show_array');\n",
              "        index = (++index) % 2;\n",
              "        document.querySelector('#id-1e620119-7bc3-4b8c-a317-0524ff005813 button').textContent = titles[index];\n",
              "        e.preventDefault();\n",
              "        e.stopPropagation();\n",
              "      }\n",
              "      })();\n",
              "    </script>"
            ]
          },
          "metadata": {},
          "execution_count": 23
        }
      ],
      "source": [
        "numpydata"
      ]
    },
    {
      "cell_type": "code",
      "execution_count": 24,
      "metadata": {
        "id": "7jFa1QX8YNnN"
      },
      "outputs": [],
      "source": [
        "np_img = np.array(image)"
      ]
    },
    {
      "cell_type": "code",
      "execution_count": 25,
      "metadata": {
        "colab": {
          "base_uri": "https://localhost:8080/",
          "height": 85
        },
        "id": "bBSQVIICYcZ8",
        "outputId": "e9c264c6-6bd3-46e0-8537-426f57c0c653"
      },
      "outputs": [
        {
          "output_type": "execute_result",
          "data": {
            "text/plain": [
              "array([[  0,   2,   2,   0,   0,   5,   4,   0,   0, 111, 187,  52,   7,\n",
              "          0,   2,  20, 222, 152,  12,   0,   4,   0,  13,   0,   0,   0,\n",
              "          0,   0],\n",
              "       [  0,   3,   3,   0,   0,   0,   1,   0,  14, 160, 197, 205, 231,\n",
              "        135, 166, 250, 182, 211, 113,   7,  13,   0,   1,   0,   0,   0,\n",
              "          0,   0],\n",
              "       [  0,   3,   3,   0,   0,   0,   2,   3,   0, 133, 169, 171, 235,\n",
              "        255, 248, 230, 115, 204, 148,   0,   9,   0,   0,   6,   0,   0,\n",
              "          0,   0],\n",
              "       [  0,   0,   0,   0,   0,   3,   5,   5,   8, 151, 196, 177, 190,\n",
              "        234, 216, 198, 157, 202, 159,   0,  10,   1,   0,   4,   0,   0,\n",
              "          0,   0],\n",
              "       [  0,   0,   0,   0,   4,   4,   2,   0,   8, 205, 185, 192, 198,\n",
              "        166, 173, 192, 200, 200, 186,  50,   5,   0,   2,   0,   0,   0,\n",
              "          0,   0],\n",
              "       [  2,   0,   0,   0,   2,   0,   0,   0, 112, 219, 193, 181, 195,\n",
              "        210, 198, 185, 174, 183, 213, 127,   0,   0,  15,   0,   0,   0,\n",
              "          0,   0],\n",
              "       [  0,   0,   0,   1,   0,   0,   2,  12, 210, 177, 196, 191, 178,\n",
              "        198, 181, 208, 179, 187, 216, 188,   0,   0,   9,   0,   0,   0,\n",
              "          0,   0],\n",
              "       [  0,   0,   4,   4,   0,   0,  13,  33, 198, 193, 158, 174, 204,\n",
              "        186, 175, 192, 179, 162, 164, 191,   0,   0,   0,   1,   0,   0,\n",
              "          0,   0],\n",
              "       [  0,   0,   2,   2,   0,   0,   9,  26, 187, 175, 154, 174, 193,\n",
              "        181, 185, 192, 172, 138, 172, 165,   0,   3,   3,   2,   0,   0,\n",
              "          0,   0],\n",
              "       [  0,   0,   2,   3,   0,   0,   3,  14, 190, 186, 165, 176, 189,\n",
              "        178, 181, 184, 179, 155, 181, 160,   0,   3,   0,   0,   0,   0,\n",
              "          0,   0],\n",
              "       [  0,   0,   1,   4,   2,   0,   0,   1, 187, 195, 176, 176, 180,\n",
              "        172, 176, 173, 179, 172, 188, 149,   0,   6,   0,   0,   0,   0,\n",
              "          0,   0],\n",
              "       [  0,   0,   0,   2,   2,   0,   0,   0, 175, 195, 182, 173, 172,\n",
              "        167, 172, 166, 171, 178, 190, 134,   0,   9,   0,   3,   0,   0,\n",
              "          0,   0],\n",
              "       [  2,   0,   0,   0,   1,   3,   1,   0, 164, 192, 183, 172, 170,\n",
              "        168, 175, 168, 166, 178, 190, 123,   0,   7,   0,   2,   0,   0,\n",
              "          0,   0],\n",
              "       [  2,   2,   0,   0,   0,   3,   4,   2, 159, 190, 184, 176, 174,\n",
              "        172, 179, 173, 170, 177, 193, 122,   0,   2,   0,   0,   0,   0,\n",
              "          0,   0],\n",
              "       [  0,   3,   3,   0,   0,   2,   3,   0, 159, 188, 183, 179, 177,\n",
              "        171, 177, 173, 177, 174, 197, 127,   2,   0,   1,   0,   0,   0,\n",
              "          0,   0],\n",
              "       [  0,   4,   6,   0,   0,   0,   0,   0, 160, 186, 181, 179, 177,\n",
              "        168, 172, 169, 180, 171, 199, 133,   6,   1,   7,   1,   0,   0,\n",
              "          0,   0],\n",
              "       [  0,   0,   6,   0,   0,   0,  11,   0, 166, 181, 187, 178, 170,\n",
              "        171, 174, 173, 178, 163, 182, 150,   0,   3,   8,   0,   0,   0,\n",
              "          0,   0],\n",
              "       [  1,   0,   0,   0,  10,   0,   0,   8, 180, 182, 181, 175, 172,\n",
              "        173, 173, 172, 176, 173, 175, 166,   3,   1,   3,   0,   0,   0,\n",
              "          0,   0],\n",
              "       [  0,   1,   0,   0,  11,   0,   0,  77, 195, 183, 173, 172, 174,\n",
              "        174, 172, 171, 172, 182, 166, 184,  32,   0,   0,   2,   0,   0,\n",
              "          0,   0],\n",
              "       [  0,   2,   1,   0,   2,   0,   0, 164, 196, 180, 169, 173, 176,\n",
              "        172, 170, 172, 170, 180, 162, 191,  82,   0,   3,   0,   0,   0,\n",
              "          0,   0],\n",
              "       [  0,   2,   1,   1,   0,   0,  16, 201, 187, 176, 171, 176, 178,\n",
              "        172, 170, 174, 169, 170, 164, 185, 136,   0,   7,   0,   0,   0,\n",
              "          0,   0],\n",
              "       [  4,   0,   0,   0,   2,   0,  39, 187, 180, 177, 176, 178, 178,\n",
              "        174, 174, 176, 171, 165, 169, 177, 171,   5,   6,   0,   0,   0,\n",
              "          0,   0],\n",
              "       [  4,   0,   0,   0,   0,   1,  78, 182, 181, 182, 180, 177, 178,\n",
              "        181, 179, 175, 174, 168, 173, 174, 179,  14,   0,   2,   0,   0,\n",
              "          0,   0],\n",
              "       [  0,   0,   7,   0,   0,   0, 113, 199, 186, 187, 181, 174, 178,\n",
              "        186, 184, 174, 176, 174, 174, 176, 174,  20,   0,   9,   0,   0,\n",
              "          0,   0],\n",
              "       [  0,   0,   5,   0,   0,   0, 152, 192, 183, 178, 174, 174, 174,\n",
              "        174, 176, 178, 175, 165, 167, 173, 201,  44,   4,   0,   0,   0,\n",
              "          0,   0],\n",
              "       [  4,   4,   0,   0,   0,   0, 141, 183, 183, 180, 177, 174, 171,\n",
              "        167, 164, 163, 186, 167, 174, 158, 160, 124,   4,   8,   0,   0,\n",
              "          0,   0],\n",
              "       [  0,   0,   0,   5,  17,  30, 167, 213, 187, 189, 191, 191, 189,\n",
              "        185, 180, 176, 162, 166, 199, 190, 178, 162,   7,   0,   0,   0,\n",
              "          0,   0],\n",
              "       [  4,   4,   0,   0,   0,   0,  73, 109, 131, 141, 153, 160, 163,\n",
              "        164, 161, 157, 167, 154, 134, 101,  94,  21,   2,   9,   0,   0,\n",
              "          0,   0]], dtype=uint8)"
            ],
            "text/html": [
              "<style>\n",
              "      .ndarray_repr .ndarray_raw_data {\n",
              "        display: none;\n",
              "      }\n",
              "      .ndarray_repr.show_array .ndarray_raw_data {\n",
              "        display: block;\n",
              "      }\n",
              "      .ndarray_repr.show_array .ndarray_image_preview {\n",
              "        display: none;\n",
              "      }\n",
              "      </style>\n",
              "      <div id=\"id-c671cb26-8f67-4308-9e55-184b08d26003\" class=\"ndarray_repr\"><pre>ndarray (28, 28) <button style=\"padding: 0 2px;\">show data</button></pre><img src=\"data:image/png;base64,iVBORw0KGgoAAAANSUhEUgAAABwAAAAcCAAAAABXZoBIAAACEElEQVR4nD2SOW4UQRSGv/equnsW401stgWJWSQgASEniJCAAIkMkSIhkZFyA64AOXcgAG5AhlhEAE4wSCyD7W56uqvqFcHMOP6lfwdVKDw8fnW9Qo9/ebaE5xgAigiExPLV0fPdpy/2Pt14WA2pAfAAIHrwbahnn3S/3tzf7pRc9oCSEjing/Wt8t3P3d1LNkYEm9ECXlJgp1kZvH7fX7atayFrBFAFLBqPlgdNurLR7U227oSFIQMxdOnBBzea1JNThXc3oZ+7xTsYn6hXP0826/4v3986aGUOmkHsmj+RJozofgz2cE4WUQT62o3/aUzkam1YQ1rQZlHSYRqOafvQsFY1OI5AA3JNmaYhdtNS93EzWBUsO6FJkk2cBmgw8kxTjYyzYOLNvKXsMmHekImDnA3LzmWjSr5Qk8UqDiwhZpBCdElLL+U8ZwQYU4Yyd069TSdrvUoGUKFnRDNYlj6p5myjbtVZmNFmAYFbKzJNKjnHYbt+Jic9ekIL9yRFUTMxi9U13NGeYqyeb6M6Bc3/tN+ZH0S95aycOuikUNSrhmK6XeRFfWByMUjhM1WRnfNpMOxnmpEK8vZaUUiiKLKWoqGkWuwJXOxS2xHrqc9tl7ZO+3am6QPQtKgjdfX+WKv9j3cZAPgIxdKxzbN7pWIxxB9+Y7W+4KYA4onA7XMnR0uVkxRHh7++di9/Vy3wHy1t+lekO5BHAAAAAElFTkSuQmCC\" class=\"ndarray_image_preview\" /><pre class=\"ndarray_raw_data\">array([[  0,   2,   2,   0,   0,   5,   4,   0,   0, 111, 187,  52,   7,\n",
              "          0,   2,  20, 222, 152,  12,   0,   4,   0,  13,   0,   0,   0,\n",
              "          0,   0],\n",
              "       [  0,   3,   3,   0,   0,   0,   1,   0,  14, 160, 197, 205, 231,\n",
              "        135, 166, 250, 182, 211, 113,   7,  13,   0,   1,   0,   0,   0,\n",
              "          0,   0],\n",
              "       [  0,   3,   3,   0,   0,   0,   2,   3,   0, 133, 169, 171, 235,\n",
              "        255, 248, 230, 115, 204, 148,   0,   9,   0,   0,   6,   0,   0,\n",
              "          0,   0],\n",
              "       [  0,   0,   0,   0,   0,   3,   5,   5,   8, 151, 196, 177, 190,\n",
              "        234, 216, 198, 157, 202, 159,   0,  10,   1,   0,   4,   0,   0,\n",
              "          0,   0],\n",
              "       [  0,   0,   0,   0,   4,   4,   2,   0,   8, 205, 185, 192, 198,\n",
              "        166, 173, 192, 200, 200, 186,  50,   5,   0,   2,   0,   0,   0,\n",
              "          0,   0],\n",
              "       [  2,   0,   0,   0,   2,   0,   0,   0, 112, 219, 193, 181, 195,\n",
              "        210, 198, 185, 174, 183, 213, 127,   0,   0,  15,   0,   0,   0,\n",
              "          0,   0],\n",
              "       [  0,   0,   0,   1,   0,   0,   2,  12, 210, 177, 196, 191, 178,\n",
              "        198, 181, 208, 179, 187, 216, 188,   0,   0,   9,   0,   0,   0,\n",
              "          0,   0],\n",
              "       [  0,   0,   4,   4,   0,   0,  13,  33, 198, 193, 158, 174, 204,\n",
              "        186, 175, 192, 179, 162, 164, 191,   0,   0,   0,   1,   0,   0,\n",
              "          0,   0],\n",
              "       [  0,   0,   2,   2,   0,   0,   9,  26, 187, 175, 154, 174, 193,\n",
              "        181, 185, 192, 172, 138, 172, 165,   0,   3,   3,   2,   0,   0,\n",
              "          0,   0],\n",
              "       [  0,   0,   2,   3,   0,   0,   3,  14, 190, 186, 165, 176, 189,\n",
              "        178, 181, 184, 179, 155, 181, 160,   0,   3,   0,   0,   0,   0,\n",
              "          0,   0],\n",
              "       [  0,   0,   1,   4,   2,   0,   0,   1, 187, 195, 176, 176, 180,\n",
              "        172, 176, 173, 179, 172, 188, 149,   0,   6,   0,   0,   0,   0,\n",
              "          0,   0],\n",
              "       [  0,   0,   0,   2,   2,   0,   0,   0, 175, 195, 182, 173, 172,\n",
              "        167, 172, 166, 171, 178, 190, 134,   0,   9,   0,   3,   0,   0,\n",
              "          0,   0],\n",
              "       [  2,   0,   0,   0,   1,   3,   1,   0, 164, 192, 183, 172, 170,\n",
              "        168, 175, 168, 166, 178, 190, 123,   0,   7,   0,   2,   0,   0,\n",
              "          0,   0],\n",
              "       [  2,   2,   0,   0,   0,   3,   4,   2, 159, 190, 184, 176, 174,\n",
              "        172, 179, 173, 170, 177, 193, 122,   0,   2,   0,   0,   0,   0,\n",
              "          0,   0],\n",
              "       [  0,   3,   3,   0,   0,   2,   3,   0, 159, 188, 183, 179, 177,\n",
              "        171, 177, 173, 177, 174, 197, 127,   2,   0,   1,   0,   0,   0,\n",
              "          0,   0],\n",
              "       [  0,   4,   6,   0,   0,   0,   0,   0, 160, 186, 181, 179, 177,\n",
              "        168, 172, 169, 180, 171, 199, 133,   6,   1,   7,   1,   0,   0,\n",
              "          0,   0],\n",
              "       [  0,   0,   6,   0,   0,   0,  11,   0, 166, 181, 187, 178, 170,\n",
              "        171, 174, 173, 178, 163, 182, 150,   0,   3,   8,   0,   0,   0,\n",
              "          0,   0],\n",
              "       [  1,   0,   0,   0,  10,   0,   0,   8, 180, 182, 181, 175, 172,\n",
              "        173, 173, 172, 176, 173, 175, 166,   3,   1,   3,   0,   0,   0,\n",
              "          0,   0],\n",
              "       [  0,   1,   0,   0,  11,   0,   0,  77, 195, 183, 173, 172, 174,\n",
              "        174, 172, 171, 172, 182, 166, 184,  32,   0,   0,   2,   0,   0,\n",
              "          0,   0],\n",
              "       [  0,   2,   1,   0,   2,   0,   0, 164, 196, 180, 169, 173, 176,\n",
              "        172, 170, 172, 170, 180, 162, 191,  82,   0,   3,   0,   0,   0,\n",
              "          0,   0],\n",
              "       [  0,   2,   1,   1,   0,   0,  16, 201, 187, 176, 171, 176, 178,\n",
              "        172, 170, 174, 169, 170, 164, 185, 136,   0,   7,   0,   0,   0,\n",
              "          0,   0],\n",
              "       [  4,   0,   0,   0,   2,   0,  39, 187, 180, 177, 176, 178, 178,\n",
              "        174, 174, 176, 171, 165, 169, 177, 171,   5,   6,   0,   0,   0,\n",
              "          0,   0],\n",
              "       [  4,   0,   0,   0,   0,   1,  78, 182, 181, 182, 180, 177, 178,\n",
              "        181, 179, 175, 174, 168, 173, 174, 179,  14,   0,   2,   0,   0,\n",
              "          0,   0],\n",
              "       [  0,   0,   7,   0,   0,   0, 113, 199, 186, 187, 181, 174, 178,\n",
              "        186, 184, 174, 176, 174, 174, 176, 174,  20,   0,   9,   0,   0,\n",
              "          0,   0],\n",
              "       [  0,   0,   5,   0,   0,   0, 152, 192, 183, 178, 174, 174, 174,\n",
              "        174, 176, 178, 175, 165, 167, 173, 201,  44,   4,   0,   0,   0,\n",
              "          0,   0],\n",
              "       [  4,   4,   0,   0,   0,   0, 141, 183, 183, 180, 177, 174, 171,\n",
              "        167, 164, 163, 186, 167, 174, 158, 160, 124,   4,   8,   0,   0,\n",
              "          0,   0],\n",
              "       [  0,   0,   0,   5,  17,  30, 167, 213, 187, 189, 191, 191, 189,\n",
              "        185, 180, 176, 162, 166, 199, 190, 178, 162,   7,   0,   0,   0,\n",
              "          0,   0],\n",
              "       [  4,   4,   0,   0,   0,   0,  73, 109, 131, 141, 153, 160, 163,\n",
              "        164, 161, 157, 167, 154, 134, 101,  94,  21,   2,   9,   0,   0,\n",
              "          0,   0]], dtype=uint8)</pre></div><script>\n",
              "      (() => {\n",
              "      const titles = ['show data', 'hide data'];\n",
              "      let index = 0\n",
              "      document.querySelector('#id-c671cb26-8f67-4308-9e55-184b08d26003 button').onclick = (e) => {\n",
              "        document.querySelector('#id-c671cb26-8f67-4308-9e55-184b08d26003').classList.toggle('show_array');\n",
              "        index = (++index) % 2;\n",
              "        document.querySelector('#id-c671cb26-8f67-4308-9e55-184b08d26003 button').textContent = titles[index];\n",
              "        e.preventDefault();\n",
              "        e.stopPropagation();\n",
              "      }\n",
              "      })();\n",
              "    </script>"
            ]
          },
          "metadata": {},
          "execution_count": 25
        }
      ],
      "source": [
        "np_img"
      ]
    },
    {
      "cell_type": "code",
      "execution_count": 26,
      "metadata": {
        "colab": {
          "base_uri": "https://localhost:8080/",
          "height": 637
        },
        "id": "xZAB5JXkYgix",
        "outputId": "0ba246d4-51b2-4a13-cb5d-9d7a763dae3c"
      },
      "outputs": [
        {
          "output_type": "execute_result",
          "data": {
            "text/plain": [
              "<matplotlib.image.AxesImage at 0x791264319780>"
            ]
          },
          "metadata": {},
          "execution_count": 26
        },
        {
          "output_type": "display_data",
          "data": {
            "text/plain": [
              "<Figure size 1000x700 with 1 Axes>"
            ],
            "image/png": "[encoded data removed]"
          },
          "metadata": {}
        }
      ],
      "source": [
        "plt.figure(figsize=(10, 7))\n",
        "plt.imshow(np_img)"
      ]
    },
    {
      "cell_type": "markdown",
      "metadata": {
        "id": "m2hjS4znZ0Zv"
      },
      "source": [
        "## Transforming data"
      ]
    },
    {
      "cell_type": "code",
      "execution_count": 27,
      "metadata": {
        "id": "ELU9fBZxS5o3"
      },
      "outputs": [],
      "source": [
        "import torch\n",
        "from torchvision import datasets ,transforms"
      ]
    },
    {
      "cell_type": "markdown",
      "metadata": {
        "id": "UuGJB86Pbp-5"
      },
      "source": [
        "Transform the data using **torchvision.datasets** for loading our dataset and **torchvision.transform** for preparing our data"
      ]
    },
    {
      "cell_type": "markdown",
      "source": [
        "I 'm going to build a  to create a custom Dataste to replacite ImageFolder\n",
        "let's break  down\n",
        "\n",
        "1 : create subclass  of *torch.utils.data.Dataset*\n",
        "\n",
        "2 : as intialize our subclass with *targ_dir paremater* (the trajectoire of our data directory )  and  *transform* ( so we have the option of transform our data  if we  needed )\n",
        "\n",
        "3:  create several attributes  like *paths* (paths for images )  and *trabsform* (the transform we can use it if we like but if not we can intialize it as  None )  class_names and classses _to_index ( we can create a function that return classes_names and classes_to_index we named as *find_classes()*)\n",
        "\n",
        "4 : create a function  to load images from file and returm them\n",
        "\n",
        "5 : overwrite the function __len__ method  of torch.utile.data.dataset that return the number of samples that exist  in the Dataset ,this is recommended but is not required\n",
        "\n",
        "6 :  overwrite the fucntion __getitem__ method  of torch.utile.dataset to return  a single sample from dataset , this is required"
      ],
      "metadata": {
        "id": "KNEFFY_bKPIy"
      }
    },
    {
      "cell_type": "markdown",
      "metadata": {
        "id": "u1P2eUvAS5o3"
      },
      "source": [
        "Lest 's code that"
      ]
    },
    {
      "cell_type": "code",
      "source": [
        "from torch.utils.data import Dataset\n",
        "\n",
        "from typing import List ,Tuple ,Dict"
      ],
      "metadata": {
        "id": "HgB_vG95QmUO"
      },
      "execution_count": 28,
      "outputs": []
    },
    {
      "cell_type": "code",
      "source": [
        "def  find_class (directory :str )-> Tuple[List[str],Dict[str ,int]]:\n",
        "\n",
        "  classes  = sorted(entry.name for entry in os.scandir(directory) if entry.is_dir() or entry.is_file())\n",
        "\n",
        "  classes_to_index = {cols_name:i for i , cols_name in enumerate(classes)}\n",
        "\n",
        "  return classes ,classes_to_index"
      ],
      "metadata": {
        "id": "pdYP1GZVUCK3"
      },
      "execution_count": 29,
      "outputs": []
    },
    {
      "cell_type": "code",
      "source": [
        "find_class(test_dir)"
      ],
      "metadata": {
        "colab": {
          "base_uri": "https://localhost:8080/"
        },
        "id": "7yf6JMvEXdB3",
        "outputId": "c9953594-4626-4725-9040-a81a7bd38b8b"
      },
      "execution_count": 30,
      "outputs": [
        {
          "output_type": "execute_result",
          "data": {
            "text/plain": [
              "(['ankle_boot',\n",
              "  'bag',\n",
              "  'coat',\n",
              "  'dress',\n",
              "  'pullover',\n",
              "  'sandal',\n",
              "  'shirt',\n",
              "  'sneaker',\n",
              "  'trouser',\n",
              "  'tshirt_top'],\n",
              " {'ankle_boot': 0,\n",
              "  'bag': 1,\n",
              "  'coat': 2,\n",
              "  'dress': 3,\n",
              "  'pullover': 4,\n",
              "  'sandal': 5,\n",
              "  'shirt': 6,\n",
              "  'sneaker': 7,\n",
              "  'trouser': 8,\n",
              "  'tshirt_top': 9})"
            ]
          },
          "metadata": {},
          "execution_count": 30
        }
      ]
    },
    {
      "cell_type": "code",
      "source": [
        " l = list(base_dir.glob(\"*/*/*.jpeg\"))\n",
        " l[5].parent.name"
      ],
      "metadata": {
        "colab": {
          "base_uri": "https://localhost:8080/",
          "height": 55
        },
        "id": "2PK4n7Axm1ez",
        "outputId": "0889427e-834b-46de-b7f8-a3e8ae1f3098"
      },
      "execution_count": 31,
      "outputs": [
        {
          "output_type": "execute_result",
          "data": {
            "text/plain": [
              "'bag'"
            ],
            "application/vnd.google.colaboratory.intrinsic+json": {
              "type": "string"
            }
          },
          "metadata": {},
          "execution_count": 31
        }
      ]
    },
    {
      "cell_type": "code",
      "source": [
        "# import torch\n",
        "# from PIL import Image\n",
        "# from torchvision import transforms\n",
        "\n",
        "# def transform_to_tensor(image: Image.Image) -> torch.Tensor:\n",
        "#     transform = transforms.Compose([\n",
        "#         transforms.Resize((28, 28)),  # Pass a tuple here\n",
        "#         transforms.ToTensor(),\n",
        "#         transforms.RandomVerticalFlip(p=0.5)\n",
        "#     ])\n",
        "\n",
        "#     return transform(image)\n"
      ],
      "metadata": {
        "id": "Wvlwki57AWh0"
      },
      "execution_count": 95,
      "outputs": []
    },
    {
      "cell_type": "code",
      "source": [
        " def transfom_ToTenser(image: Image.Image) ->torch.Tensor:\n",
        "  transform = transforms.Compose([transforms.Resize((64,64)),\n",
        "                                  transforms.ToTensor(),\n",
        "                                  transforms.RandomVerticalFlip(p = 0.5)])\n",
        "\n",
        "  return transform(image)\n",
        "\n",
        "\n",
        "\n"
      ],
      "metadata": {
        "id": "NFqOrCO-kLB5"
      },
      "execution_count": 97,
      "outputs": []
    },
    {
      "cell_type": "code",
      "source": [
        "transfom_ToTenser(image)"
      ],
      "metadata": {
        "colab": {
          "base_uri": "https://localhost:8080/"
        },
        "id": "0Iah7c4D3YMd",
        "outputId": "df00c36c-af06-4e87-9f18-477bcd16a62e"
      },
      "execution_count": 98,
      "outputs": [
        {
          "output_type": "execute_result",
          "data": {
            "text/plain": [
              "tensor([[[0.0157, 0.0157, 0.0157,  ..., 0.0000, 0.0000, 0.0000],\n",
              "         [0.0118, 0.0118, 0.0118,  ..., 0.0000, 0.0000, 0.0000],\n",
              "         [0.0078, 0.0078, 0.0078,  ..., 0.0000, 0.0000, 0.0000],\n",
              "         ...,\n",
              "         [0.0000, 0.0000, 0.0078,  ..., 0.0000, 0.0000, 0.0000],\n",
              "         [0.0000, 0.0000, 0.0039,  ..., 0.0000, 0.0000, 0.0000],\n",
              "         [0.0000, 0.0000, 0.0039,  ..., 0.0000, 0.0000, 0.0000]]])"
            ]
          },
          "metadata": {},
          "execution_count": 98
        }
      ]
    },
    {
      "cell_type": "code",
      "source": [
        "import torch\n",
        "import os\n",
        "import pathlib\n",
        "import torch\n"
      ],
      "metadata": {
        "id": "YBnOWbRh6_9P"
      },
      "execution_count": 99,
      "outputs": []
    },
    {
      "cell_type": "code",
      "source": [
        "len(list(pathlib.Path('fashion_mnist_dataset').glob('*/*/*.jpeg')))"
      ],
      "metadata": {
        "colab": {
          "base_uri": "https://localhost:8080/"
        },
        "id": "kSCV92hy6Pu2",
        "outputId": "21dbd73e-1b70-45d6-857b-2539935cad72"
      },
      "execution_count": 100,
      "outputs": [
        {
          "output_type": "execute_result",
          "data": {
            "text/plain": [
              "70000"
            ]
          },
          "metadata": {},
          "execution_count": 100
        }
      ]
    },
    {
      "cell_type": "code",
      "source": [
        "# from typing_extensions import\n",
        "\n",
        "class DatasetImageFolder(Dataset):\n",
        "\n",
        "  def __init__(self, targ_dir: str , transform = None ):\n",
        "\n",
        "      # super().__init__()\n",
        "      self.targ_dir =  targ_dir\n",
        "      self.transform = transform\n",
        "      self.paths =list(pathlib.Path(targ_dir).glob('*/*.jpeg'))\n",
        "      self.classes , self.classes_to_index = find_class(targ_dir)\n",
        "\n",
        "  # create a function to load image,s from file and returm them\n",
        "  def load_images(self, idex: int  )->Image.Image:\n",
        "\n",
        "    Image = self.paths[idex]\n",
        "\n",
        "    return Image.open(Image)\n",
        "  #overwrite the function len method of torch.utile.data.dataset that return the number of samples that exist in the Dataset ,this is recommended but is not required\n",
        "  def __len__(self)->int:\n",
        "\n",
        "    return len(self.paths)\n",
        "\n",
        "  def __getitem__(self, index)->Tuple[torch.Tensor,int]:\n",
        "\n",
        "    image = self.load_images(idex=index)\n",
        "\n",
        "    class_name  = self.paths[index].parent.name\n",
        "\n",
        "    class_idex = self.classes_to_index[class_name]\n",
        "\n",
        "    if self.transform :\n",
        "\n",
        "      return self.transform(image),class_idex\n",
        "\n",
        "    else:\n",
        "\n",
        "      return image,class_idex"
      ],
      "metadata": {
        "id": "upX6z_O3QmcR"
      },
      "execution_count": 101,
      "outputs": []
    },
    {
      "cell_type": "code",
      "source": [
        "\n",
        "\n",
        "instance  = DatasetImageFolder(targ_dir = train_dir ,transform =  transfom_ToTenser)"
      ],
      "metadata": {
        "id": "BWpis-NRQmec"
      },
      "execution_count": 105,
      "outputs": []
    },
    {
      "cell_type": "code",
      "source": [
        "len(instance)"
      ],
      "metadata": {
        "colab": {
          "base_uri": "https://localhost:8080/"
        },
        "id": "YqprnxKPQmhY",
        "outputId": "76415d61-6144-4ad7-a1f9-0b78bf325c85"
      },
      "execution_count": 106,
      "outputs": [
        {
          "output_type": "execute_result",
          "data": {
            "text/plain": [
              "60000"
            ]
          },
          "metadata": {},
          "execution_count": 106
        }
      ]
    },
    {
      "cell_type": "code",
      "source": [
        "instance.classes_to_index"
      ],
      "metadata": {
        "colab": {
          "base_uri": "https://localhost:8080/"
        },
        "id": "VR9trUeqr5UI",
        "outputId": "e439c6c2-5e5b-4307-f953-a0d2e82bdfa7"
      },
      "execution_count": 107,
      "outputs": [
        {
          "output_type": "execute_result",
          "data": {
            "text/plain": [
              "{'ankle_boot': 0,\n",
              " 'bag': 1,\n",
              " 'coat': 2,\n",
              " 'dress': 3,\n",
              " 'pullover': 4,\n",
              " 'sandal': 5,\n",
              " 'shirt': 6,\n",
              " 'sneaker': 7,\n",
              " 'trouser': 8,\n",
              " 'tshirt_top': 9}"
            ]
          },
          "metadata": {},
          "execution_count": 107
        }
      ]
    },
    {
      "cell_type": "code",
      "source": [
        "# instance[0]"
      ],
      "metadata": {
        "colab": {
          "base_uri": "https://localhost:8080/",
          "height": 314
        },
        "id": "wgV5eI3Cr_a4",
        "outputId": "03dc2824-f107-468f-c21f-6bb75525362c"
      },
      "execution_count": 110,
      "outputs": [
        {
          "output_type": "error",
          "ename": "TypeError",
          "evalue": "argument of type 'PosixPath' is not iterable",
          "traceback": [
            "\u001b[0;31m---------------------------------------------------------------------------\u001b[0m",
            "\u001b[0;31mTypeError\u001b[0m                                 Traceback (most recent call last)",
            "\u001b[0;32m<ipython-input-110-efbd9de12736>\u001b[0m in \u001b[0;36m<cell line: 1>\u001b[0;34m()\u001b[0m\n\u001b[0;32m----> 1\u001b[0;31m \u001b[0minstance\u001b[0m\u001b[0;34m[\u001b[0m\u001b[0;36m0\u001b[0m\u001b[0;34m]\u001b[0m\u001b[0;34m\u001b[0m\u001b[0;34m\u001b[0m\u001b[0m\n\u001b[0m",
            "\u001b[0;32m<ipython-input-101-863cea8f53dc>\u001b[0m in \u001b[0;36m__getitem__\u001b[0;34m(self, index)\u001b[0m\n\u001b[1;32m     24\u001b[0m   \u001b[0;32mdef\u001b[0m \u001b[0m__getitem__\u001b[0m\u001b[0;34m(\u001b[0m\u001b[0mself\u001b[0m\u001b[0;34m,\u001b[0m \u001b[0mindex\u001b[0m\u001b[0;34m)\u001b[0m\u001b[0;34m->\u001b[0m\u001b[0mTuple\u001b[0m\u001b[0;34m[\u001b[0m\u001b[0mtorch\u001b[0m\u001b[0;34m.\u001b[0m\u001b[0mTensor\u001b[0m\u001b[0;34m,\u001b[0m\u001b[0mint\u001b[0m\u001b[0;34m]\u001b[0m\u001b[0;34m:\u001b[0m\u001b[0;34m\u001b[0m\u001b[0;34m\u001b[0m\u001b[0m\n\u001b[1;32m     25\u001b[0m \u001b[0;34m\u001b[0m\u001b[0m\n\u001b[0;32m---> 26\u001b[0;31m     \u001b[0mimage\u001b[0m \u001b[0;34m=\u001b[0m \u001b[0mself\u001b[0m\u001b[0;34m.\u001b[0m\u001b[0mload_images\u001b[0m\u001b[0;34m(\u001b[0m\u001b[0midex\u001b[0m\u001b[0;34m=\u001b[0m\u001b[0mindex\u001b[0m\u001b[0;34m)\u001b[0m\u001b[0;34m\u001b[0m\u001b[0;34m\u001b[0m\u001b[0m\n\u001b[0m\u001b[1;32m     27\u001b[0m \u001b[0;34m\u001b[0m\u001b[0m\n\u001b[1;32m     28\u001b[0m     \u001b[0mclass_name\u001b[0m  \u001b[0;34m=\u001b[0m \u001b[0mself\u001b[0m\u001b[0;34m.\u001b[0m\u001b[0mpaths\u001b[0m\u001b[0;34m[\u001b[0m\u001b[0mindex\u001b[0m\u001b[0;34m]\u001b[0m\u001b[0;34m.\u001b[0m\u001b[0mparent\u001b[0m\u001b[0;34m.\u001b[0m\u001b[0mname\u001b[0m\u001b[0;34m\u001b[0m\u001b[0;34m\u001b[0m\u001b[0m\n",
            "\u001b[0;32m<ipython-input-101-863cea8f53dc>\u001b[0m in \u001b[0;36mload_images\u001b[0;34m(self, idex)\u001b[0m\n\u001b[1;32m     16\u001b[0m     \u001b[0mImage\u001b[0m \u001b[0;34m=\u001b[0m \u001b[0mself\u001b[0m\u001b[0;34m.\u001b[0m\u001b[0mpaths\u001b[0m\u001b[0;34m[\u001b[0m\u001b[0midex\u001b[0m\u001b[0;34m]\u001b[0m\u001b[0;34m\u001b[0m\u001b[0;34m\u001b[0m\u001b[0m\n\u001b[1;32m     17\u001b[0m \u001b[0;34m\u001b[0m\u001b[0m\n\u001b[0;32m---> 18\u001b[0;31m     \u001b[0;32mreturn\u001b[0m \u001b[0mImage\u001b[0m\u001b[0;34m.\u001b[0m\u001b[0mopen\u001b[0m\u001b[0;34m(\u001b[0m\u001b[0mImage\u001b[0m\u001b[0;34m)\u001b[0m\u001b[0;34m\u001b[0m\u001b[0;34m\u001b[0m\u001b[0m\n\u001b[0m\u001b[1;32m     19\u001b[0m   \u001b[0;31m#overwrite the function len method of torch.utile.data.dataset that return the number of samples that exist in the Dataset ,this is recommended but is not required\u001b[0m\u001b[0;34m\u001b[0m\u001b[0;34m\u001b[0m\u001b[0m\n\u001b[1;32m     20\u001b[0m   \u001b[0;32mdef\u001b[0m \u001b[0m__len__\u001b[0m\u001b[0;34m(\u001b[0m\u001b[0mself\u001b[0m\u001b[0;34m)\u001b[0m\u001b[0;34m->\u001b[0m\u001b[0mint\u001b[0m\u001b[0;34m:\u001b[0m\u001b[0;34m\u001b[0m\u001b[0;34m\u001b[0m\u001b[0m\n",
            "\u001b[0;32m/usr/lib/python3.10/pathlib.py\u001b[0m in \u001b[0;36mopen\u001b[0;34m(self, mode, buffering, encoding, errors, newline)\u001b[0m\n\u001b[1;32m   1115\u001b[0m         \u001b[0mthe\u001b[0m \u001b[0mbuilt\u001b[0m\u001b[0;34m-\u001b[0m\u001b[0;32min\u001b[0m \u001b[0mopen\u001b[0m\u001b[0;34m(\u001b[0m\u001b[0;34m)\u001b[0m \u001b[0mfunction\u001b[0m \u001b[0mdoes\u001b[0m\u001b[0;34m.\u001b[0m\u001b[0;34m\u001b[0m\u001b[0;34m\u001b[0m\u001b[0m\n\u001b[1;32m   1116\u001b[0m         \"\"\"\n\u001b[0;32m-> 1117\u001b[0;31m         \u001b[0;32mif\u001b[0m \u001b[0;34m\"b\"\u001b[0m \u001b[0;32mnot\u001b[0m \u001b[0;32min\u001b[0m \u001b[0mmode\u001b[0m\u001b[0;34m:\u001b[0m\u001b[0;34m\u001b[0m\u001b[0;34m\u001b[0m\u001b[0m\n\u001b[0m\u001b[1;32m   1118\u001b[0m             \u001b[0mencoding\u001b[0m \u001b[0;34m=\u001b[0m \u001b[0mio\u001b[0m\u001b[0;34m.\u001b[0m\u001b[0mtext_encoding\u001b[0m\u001b[0;34m(\u001b[0m\u001b[0mencoding\u001b[0m\u001b[0;34m)\u001b[0m\u001b[0;34m\u001b[0m\u001b[0;34m\u001b[0m\u001b[0m\n\u001b[1;32m   1119\u001b[0m         return self._accessor.open(self, mode, buffering, encoding, errors,\n",
            "\u001b[0;31mTypeError\u001b[0m: argument of type 'PosixPath' is not iterable"
          ]
        }
      ]
    },
    {
      "cell_type": "code",
      "source": [],
      "metadata": {
        "id": "vKoFY6zD21Dn"
      },
      "execution_count": null,
      "outputs": []
    }
  ],
  "metadata": {
    "colab": {
      "provenance": [],
      "include_colab_link": true
    },
    "kernelspec": {
      "display_name": "Python 3",
      "name": "python3"
    },
    "language_info": {
      "name": "python"
    }
  },
  "nbformat": 4,
  "nbformat_minor": 0
}